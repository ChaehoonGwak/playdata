{
 "cells": [
  {
   "cell_type": "code",
   "execution_count": 8,
   "id": "3aece216-fa13-4e57-b836-3f9a267604dd",
   "metadata": {},
   "outputs": [
    {
     "data": {
      "text/plain": [
       "[0, 1]"
      ]
     },
     "execution_count": 8,
     "metadata": {},
     "output_type": "execute_result"
    }
   ],
   "source": [
    "def twoSum(nums, target):\n",
    "        len_ = len(nums)\n",
    "        for i in range(len_):\n",
    "            for j in range(i+1, len_):\n",
    "                if nums[i] + nums[j] == target: return [i,j]\n",
    "nums = [2, 7, 11, 15]\n",
    "target = 9\n",
    "twoSum(nums,target)\n"
   ]
  },
  {
   "cell_type": "code",
   "execution_count": 13,
   "id": "ec18507f-1741-4acc-b800-b24c015bfc76",
   "metadata": {},
   "outputs": [
    {
     "data": {
      "text/plain": [
       "(0, 1)"
      ]
     },
     "execution_count": 13,
     "metadata": {},
     "output_type": "execute_result"
    }
   ],
   "source": [
    "def twoSum(nums, target):\n",
    "        numsMap = {}\n",
    "        for i, num in enumerate(nums):\n",
    "            numsMap[num] = i\n",
    "        for i, num in enumerate(nums):\n",
    "            if target - num in numsMap and i != numsMap[target-num]:\n",
    "                return nums.index(num), numsMap[target-num]\n",
    "nums = [2, 7, 11, 15]\n",
    "target = 9\n",
    "twoSum(nums,target)"
   ]
  },
  {
   "cell_type": "code",
   "execution_count": 14,
   "id": "e390a124-d8da-4163-aed9-f411630245d5",
   "metadata": {},
   "outputs": [],
   "source": [
    "#class"
   ]
  },
  {
   "cell_type": "code",
   "execution_count": 15,
   "id": "4225cf3b-a6c8-4038-a84d-3c3b88c00e7c",
   "metadata": {},
   "outputs": [
    {
     "ename": "SyntaxError",
     "evalue": "invalid syntax (<ipython-input-15-8e02e3eab06f>, line 2)",
     "output_type": "error",
     "traceback": [
      "\u001b[1;36m  File \u001b[1;32m\"<ipython-input-15-8e02e3eab06f>\"\u001b[1;36m, line \u001b[1;32m2\u001b[0m\n\u001b[1;33m    def 걷기:\u001b[0m\n\u001b[1;37m          ^\u001b[0m\n\u001b[1;31mSyntaxError\u001b[0m\u001b[1;31m:\u001b[0m invalid syntax\n"
     ]
    }
   ],
   "source": [
    "class monkey():\n",
    "    def 걷기:\n",
    "        pass\n",
    "    "
   ]
  },
  {
   "cell_type": "code",
   "execution_count": 5,
   "id": "4cf48776-f1ba-46d8-9b7f-c8ec15882f03",
   "metadata": {},
   "outputs": [],
   "source": [
    "import pandas as pd"
   ]
  },
  {
   "cell_type": "code",
   "execution_count": 17,
   "id": "30bc1d06-f181-4245-8b21-d41e107ed8e7",
   "metadata": {
    "collapsed": true,
    "jupyter": {
     "outputs_hidden": true
    },
    "tags": []
   },
   "outputs": [
    {
     "data": {
      "text/plain": [
       "['T',\n",
       " '_AXIS_LEN',\n",
       " '_AXIS_NAMES',\n",
       " '_AXIS_NUMBERS',\n",
       " '_AXIS_ORDERS',\n",
       " '_AXIS_REVERSED',\n",
       " '_AXIS_TO_AXIS_NUMBER',\n",
       " '_HANDLED_TYPES',\n",
       " '__abs__',\n",
       " '__add__',\n",
       " '__and__',\n",
       " '__annotations__',\n",
       " '__array__',\n",
       " '__array_priority__',\n",
       " '__array_ufunc__',\n",
       " '__array_wrap__',\n",
       " '__bool__',\n",
       " '__class__',\n",
       " '__contains__',\n",
       " '__copy__',\n",
       " '__deepcopy__',\n",
       " '__delattr__',\n",
       " '__delitem__',\n",
       " '__dict__',\n",
       " '__dir__',\n",
       " '__divmod__',\n",
       " '__doc__',\n",
       " '__eq__',\n",
       " '__finalize__',\n",
       " '__floordiv__',\n",
       " '__format__',\n",
       " '__ge__',\n",
       " '__getattr__',\n",
       " '__getattribute__',\n",
       " '__getitem__',\n",
       " '__getstate__',\n",
       " '__gt__',\n",
       " '__hash__',\n",
       " '__iadd__',\n",
       " '__iand__',\n",
       " '__ifloordiv__',\n",
       " '__imod__',\n",
       " '__imul__',\n",
       " '__init__',\n",
       " '__init_subclass__',\n",
       " '__invert__',\n",
       " '__ior__',\n",
       " '__ipow__',\n",
       " '__isub__',\n",
       " '__iter__',\n",
       " '__itruediv__',\n",
       " '__ixor__',\n",
       " '__le__',\n",
       " '__len__',\n",
       " '__lt__',\n",
       " '__matmul__',\n",
       " '__mod__',\n",
       " '__module__',\n",
       " '__mul__',\n",
       " '__ne__',\n",
       " '__neg__',\n",
       " '__new__',\n",
       " '__nonzero__',\n",
       " '__or__',\n",
       " '__pos__',\n",
       " '__pow__',\n",
       " '__radd__',\n",
       " '__rand__',\n",
       " '__rdivmod__',\n",
       " '__reduce__',\n",
       " '__reduce_ex__',\n",
       " '__repr__',\n",
       " '__rfloordiv__',\n",
       " '__rmatmul__',\n",
       " '__rmod__',\n",
       " '__rmul__',\n",
       " '__ror__',\n",
       " '__round__',\n",
       " '__rpow__',\n",
       " '__rsub__',\n",
       " '__rtruediv__',\n",
       " '__rxor__',\n",
       " '__setattr__',\n",
       " '__setitem__',\n",
       " '__setstate__',\n",
       " '__sizeof__',\n",
       " '__str__',\n",
       " '__sub__',\n",
       " '__subclasshook__',\n",
       " '__truediv__',\n",
       " '__weakref__',\n",
       " '__xor__',\n",
       " '_accessors',\n",
       " '_accum_func',\n",
       " '_add_numeric_operations',\n",
       " '_agg_by_level',\n",
       " '_agg_examples_doc',\n",
       " '_agg_summary_and_see_also_doc',\n",
       " '_aggregate',\n",
       " '_align_frame',\n",
       " '_align_series',\n",
       " '_arith_method',\n",
       " '_box_col_values',\n",
       " '_builtin_table',\n",
       " '_can_fast_transpose',\n",
       " '_check_inplace_and_allows_duplicate_labels',\n",
       " '_check_inplace_setting',\n",
       " '_check_is_chained_assignment_possible',\n",
       " '_check_label_or_level_ambiguity',\n",
       " '_check_setitem_copy',\n",
       " '_clear_item_cache',\n",
       " '_clip_with_one_bound',\n",
       " '_clip_with_scalar',\n",
       " '_cmp_method',\n",
       " '_combine_frame',\n",
       " '_consolidate',\n",
       " '_consolidate_inplace',\n",
       " '_construct_axes_dict',\n",
       " '_construct_axes_from_arguments',\n",
       " '_construct_result',\n",
       " '_constructor',\n",
       " '_constructor_expanddim',\n",
       " '_constructor_sliced',\n",
       " '_convert',\n",
       " '_count_level',\n",
       " '_cython_table',\n",
       " '_data',\n",
       " '_dir_additions',\n",
       " '_dir_deletions',\n",
       " '_dispatch_frame_op',\n",
       " '_drop_axis',\n",
       " '_drop_labels_or_levels',\n",
       " '_ensure_valid_index',\n",
       " '_find_valid_index',\n",
       " '_from_arrays',\n",
       " '_get_agg_axis',\n",
       " '_get_axis',\n",
       " '_get_axis_name',\n",
       " '_get_axis_number',\n",
       " '_get_axis_resolvers',\n",
       " '_get_block_manager_axis',\n",
       " '_get_bool_data',\n",
       " '_get_cacher',\n",
       " '_get_cleaned_column_resolvers',\n",
       " '_get_column_array',\n",
       " '_get_cython_func',\n",
       " '_get_index_resolvers',\n",
       " '_get_item_cache',\n",
       " '_get_label_or_level_values',\n",
       " '_get_numeric_data',\n",
       " '_get_value',\n",
       " '_getitem_bool_array',\n",
       " '_getitem_multilevel',\n",
       " '_gotitem',\n",
       " '_hidden_attrs',\n",
       " '_indexed_same',\n",
       " '_info_axis',\n",
       " '_info_axis_name',\n",
       " '_info_axis_number',\n",
       " '_info_repr',\n",
       " '_init_mgr',\n",
       " '_inplace_method',\n",
       " '_internal_names',\n",
       " '_internal_names_set',\n",
       " '_is_builtin_func',\n",
       " '_is_cached',\n",
       " '_is_copy',\n",
       " '_is_homogeneous_type',\n",
       " '_is_label_or_level_reference',\n",
       " '_is_label_reference',\n",
       " '_is_level_reference',\n",
       " '_is_mixed_type',\n",
       " '_is_view',\n",
       " '_iset_item',\n",
       " '_iter_column_arrays',\n",
       " '_ix',\n",
       " '_ixs',\n",
       " '_join_compat',\n",
       " '_logical_func',\n",
       " '_logical_method',\n",
       " '_maybe_cache_changed',\n",
       " '_maybe_update_cacher',\n",
       " '_metadata',\n",
       " '_min_count_stat_function',\n",
       " '_needs_reindex_multi',\n",
       " '_obj_with_exclusions',\n",
       " '_protect_consolidate',\n",
       " '_reduce',\n",
       " '_reindex_axes',\n",
       " '_reindex_columns',\n",
       " '_reindex_index',\n",
       " '_reindex_multi',\n",
       " '_reindex_with_indexers',\n",
       " '_replace_columnwise',\n",
       " '_repr_data_resource_',\n",
       " '_repr_fits_horizontal_',\n",
       " '_repr_fits_vertical_',\n",
       " '_repr_html_',\n",
       " '_repr_latex_',\n",
       " '_reset_cache',\n",
       " '_reset_cacher',\n",
       " '_sanitize_column',\n",
       " '_selected_obj',\n",
       " '_selection',\n",
       " '_selection_list',\n",
       " '_selection_name',\n",
       " '_series',\n",
       " '_set_as_cached',\n",
       " '_set_axis',\n",
       " '_set_axis_name',\n",
       " '_set_axis_nocheck',\n",
       " '_set_is_copy',\n",
       " '_set_item',\n",
       " '_set_value',\n",
       " '_setitem_array',\n",
       " '_setitem_frame',\n",
       " '_setitem_slice',\n",
       " '_slice',\n",
       " '_stat_axis',\n",
       " '_stat_axis_name',\n",
       " '_stat_axis_number',\n",
       " '_stat_function',\n",
       " '_stat_function_ddof',\n",
       " '_take_with_is_copy',\n",
       " '_to_dict_of_blocks',\n",
       " '_try_aggregate_string_function',\n",
       " '_typ',\n",
       " '_update_inplace',\n",
       " '_validate_dtype',\n",
       " '_values',\n",
       " '_where',\n",
       " 'abs',\n",
       " 'add',\n",
       " 'add_prefix',\n",
       " 'add_suffix',\n",
       " 'agg',\n",
       " 'aggregate',\n",
       " 'align',\n",
       " 'all',\n",
       " 'any',\n",
       " 'append',\n",
       " 'apply',\n",
       " 'applymap',\n",
       " 'asfreq',\n",
       " 'asof',\n",
       " 'assign',\n",
       " 'astype',\n",
       " 'at',\n",
       " 'at_time',\n",
       " 'attrs',\n",
       " 'axes',\n",
       " 'backfill',\n",
       " 'between_time',\n",
       " 'bfill',\n",
       " 'bool',\n",
       " 'boxplot',\n",
       " 'clip',\n",
       " 'columns',\n",
       " 'combine',\n",
       " 'combine_first',\n",
       " 'compare',\n",
       " 'convert_dtypes',\n",
       " 'copy',\n",
       " 'corr',\n",
       " 'corrwith',\n",
       " 'count',\n",
       " 'cov',\n",
       " 'cummax',\n",
       " 'cummin',\n",
       " 'cumprod',\n",
       " 'cumsum',\n",
       " 'describe',\n",
       " 'diff',\n",
       " 'div',\n",
       " 'divide',\n",
       " 'dot',\n",
       " 'drop',\n",
       " 'drop_duplicates',\n",
       " 'droplevel',\n",
       " 'dropna',\n",
       " 'dtypes',\n",
       " 'duplicated',\n",
       " 'empty',\n",
       " 'eq',\n",
       " 'equals',\n",
       " 'eval',\n",
       " 'ewm',\n",
       " 'expanding',\n",
       " 'explode',\n",
       " 'ffill',\n",
       " 'fillna',\n",
       " 'filter',\n",
       " 'first',\n",
       " 'first_valid_index',\n",
       " 'flags',\n",
       " 'floordiv',\n",
       " 'from_dict',\n",
       " 'from_records',\n",
       " 'ge',\n",
       " 'get',\n",
       " 'groupby',\n",
       " 'gt',\n",
       " 'head',\n",
       " 'hist',\n",
       " 'iat',\n",
       " 'idxmax',\n",
       " 'idxmin',\n",
       " 'iloc',\n",
       " 'index',\n",
       " 'infer_objects',\n",
       " 'info',\n",
       " 'insert',\n",
       " 'interpolate',\n",
       " 'isin',\n",
       " 'isna',\n",
       " 'isnull',\n",
       " 'items',\n",
       " 'iteritems',\n",
       " 'iterrows',\n",
       " 'itertuples',\n",
       " 'join',\n",
       " 'keys',\n",
       " 'kurt',\n",
       " 'kurtosis',\n",
       " 'last',\n",
       " 'last_valid_index',\n",
       " 'le',\n",
       " 'loc',\n",
       " 'lookup',\n",
       " 'lt',\n",
       " 'mad',\n",
       " 'mask',\n",
       " 'max',\n",
       " 'mean',\n",
       " 'median',\n",
       " 'melt',\n",
       " 'memory_usage',\n",
       " 'merge',\n",
       " 'min',\n",
       " 'mod',\n",
       " 'mode',\n",
       " 'mul',\n",
       " 'multiply',\n",
       " 'ndim',\n",
       " 'ne',\n",
       " 'nlargest',\n",
       " 'notna',\n",
       " 'notnull',\n",
       " 'nsmallest',\n",
       " 'nunique',\n",
       " 'pad',\n",
       " 'pct_change',\n",
       " 'pipe',\n",
       " 'pivot',\n",
       " 'pivot_table',\n",
       " 'plot',\n",
       " 'pop',\n",
       " 'pow',\n",
       " 'prod',\n",
       " 'product',\n",
       " 'quantile',\n",
       " 'query',\n",
       " 'radd',\n",
       " 'rank',\n",
       " 'rdiv',\n",
       " 'reindex',\n",
       " 'reindex_like',\n",
       " 'rename',\n",
       " 'rename_axis',\n",
       " 'reorder_levels',\n",
       " 'replace',\n",
       " 'resample',\n",
       " 'reset_index',\n",
       " 'rfloordiv',\n",
       " 'rmod',\n",
       " 'rmul',\n",
       " 'rolling',\n",
       " 'round',\n",
       " 'rpow',\n",
       " 'rsub',\n",
       " 'rtruediv',\n",
       " 'sample',\n",
       " 'select_dtypes',\n",
       " 'sem',\n",
       " 'set_axis',\n",
       " 'set_flags',\n",
       " 'set_index',\n",
       " 'shape',\n",
       " 'shift',\n",
       " 'size',\n",
       " 'skew',\n",
       " 'slice_shift',\n",
       " 'sort_index',\n",
       " 'sort_values',\n",
       " 'sparse',\n",
       " 'squeeze',\n",
       " 'stack',\n",
       " 'std',\n",
       " 'style',\n",
       " 'sub',\n",
       " 'subtract',\n",
       " 'sum',\n",
       " 'swapaxes',\n",
       " 'swaplevel',\n",
       " 'tail',\n",
       " 'take',\n",
       " 'to_clipboard',\n",
       " 'to_csv',\n",
       " 'to_dict',\n",
       " 'to_excel',\n",
       " 'to_feather',\n",
       " 'to_gbq',\n",
       " 'to_hdf',\n",
       " 'to_html',\n",
       " 'to_json',\n",
       " 'to_latex',\n",
       " 'to_markdown',\n",
       " 'to_numpy',\n",
       " 'to_parquet',\n",
       " 'to_period',\n",
       " 'to_pickle',\n",
       " 'to_records',\n",
       " 'to_sql',\n",
       " 'to_stata',\n",
       " 'to_string',\n",
       " 'to_timestamp',\n",
       " 'to_xarray',\n",
       " 'transform',\n",
       " 'transpose',\n",
       " 'truediv',\n",
       " 'truncate',\n",
       " 'tshift',\n",
       " 'tz_convert',\n",
       " 'tz_localize',\n",
       " 'unstack',\n",
       " 'update',\n",
       " 'value_counts',\n",
       " 'values',\n",
       " 'var',\n",
       " 'where',\n",
       " 'xs']"
      ]
     },
     "execution_count": 17,
     "metadata": {},
     "output_type": "execute_result"
    }
   ],
   "source": [
    "dir(pd.DataFrame)"
   ]
  },
  {
   "cell_type": "code",
   "execution_count": 18,
   "id": "a44ab952-1df8-445d-b26f-15236c17a106",
   "metadata": {},
   "outputs": [
    {
     "data": {
      "text/plain": [
       "2"
      ]
     },
     "execution_count": 18,
     "metadata": {},
     "output_type": "execute_result"
    }
   ],
   "source": [
    "nums[0]"
   ]
  },
  {
   "cell_type": "code",
   "execution_count": 19,
   "id": "de610034-718a-4b01-a31c-44e5ee63bda0",
   "metadata": {},
   "outputs": [],
   "source": [
    "# R -> index 1부터 "
   ]
  },
  {
   "cell_type": "code",
   "execution_count": 6,
   "id": "54902cac-0f52-4cf0-8049-d981a13a221b",
   "metadata": {},
   "outputs": [],
   "source": [
    "import keyword"
   ]
  },
  {
   "cell_type": "code",
   "execution_count": 22,
   "id": "92bdfa52-ce7e-4c42-abc1-1d3b09b98810",
   "metadata": {},
   "outputs": [
    {
     "name": "stdout",
     "output_type": "stream",
     "text": [
      "False, None, True, and, as, assert, async, await, break, class, continue, def, del, elif, else, except, finally, for, from, global, if, import, in, is, lambda, nonlocal, not, or, pass, raise, return, try, while, with, yield, "
     ]
    }
   ],
   "source": [
    "for x in keyword.kwlist:\n",
    "    print(x, end=\", \")"
   ]
  },
  {
   "cell_type": "code",
   "execution_count": 23,
   "id": "8f8c33b3-1bf1-4ca8-a4ff-565537da50e7",
   "metadata": {},
   "outputs": [],
   "source": [
    "class S1:\n",
    "    a = 1"
   ]
  },
  {
   "cell_type": "code",
   "execution_count": 25,
   "id": "e19af6b9-ec7b-4fd6-88ff-4fd2216ce9c7",
   "metadata": {},
   "outputs": [
    {
     "data": {
      "text/plain": [
       "1"
      ]
     },
     "execution_count": 25,
     "metadata": {},
     "output_type": "execute_result"
    }
   ],
   "source": [
    "S1.a"
   ]
  },
  {
   "cell_type": "code",
   "execution_count": 26,
   "id": "817d0125-8d39-449d-a992-560c60024cea",
   "metadata": {},
   "outputs": [],
   "source": [
    "S1.a = 2"
   ]
  },
  {
   "cell_type": "code",
   "execution_count": 28,
   "id": "37ea488e-560c-4500-8348-3336cde3729d",
   "metadata": {},
   "outputs": [
    {
     "data": {
      "text/plain": [
       "2"
      ]
     },
     "execution_count": 28,
     "metadata": {},
     "output_type": "execute_result"
    }
   ],
   "source": [
    "S1.a"
   ]
  },
  {
   "cell_type": "code",
   "execution_count": 29,
   "id": "285e798a-d10f-432a-9a48-af485ff3c7e3",
   "metadata": {},
   "outputs": [],
   "source": [
    "x = S1()"
   ]
  },
  {
   "cell_type": "code",
   "execution_count": 30,
   "id": "519c0f10-d46f-4a26-9606-524b7b205bc6",
   "metadata": {},
   "outputs": [
    {
     "data": {
      "text/plain": [
       "2"
      ]
     },
     "execution_count": 30,
     "metadata": {},
     "output_type": "execute_result"
    }
   ],
   "source": [
    "x.a"
   ]
  },
  {
   "cell_type": "code",
   "execution_count": 31,
   "id": "17a20ccc-617a-4629-b6d0-d47a390c42a9",
   "metadata": {},
   "outputs": [],
   "source": [
    "y = S1()"
   ]
  },
  {
   "cell_type": "code",
   "execution_count": 32,
   "id": "49425ef7-8156-46fa-b876-8a37b268d524",
   "metadata": {},
   "outputs": [],
   "source": [
    "a = list()"
   ]
  },
  {
   "cell_type": "code",
   "execution_count": 33,
   "id": "899cdea9-e145-4a7b-a6ef-c02e97cabc18",
   "metadata": {
    "collapsed": true,
    "jupyter": {
     "outputs_hidden": true
    },
    "tags": []
   },
   "outputs": [
    {
     "data": {
      "text/plain": [
       "['__add__',\n",
       " '__class__',\n",
       " '__contains__',\n",
       " '__delattr__',\n",
       " '__delitem__',\n",
       " '__dir__',\n",
       " '__doc__',\n",
       " '__eq__',\n",
       " '__format__',\n",
       " '__ge__',\n",
       " '__getattribute__',\n",
       " '__getitem__',\n",
       " '__gt__',\n",
       " '__hash__',\n",
       " '__iadd__',\n",
       " '__imul__',\n",
       " '__init__',\n",
       " '__init_subclass__',\n",
       " '__iter__',\n",
       " '__le__',\n",
       " '__len__',\n",
       " '__lt__',\n",
       " '__mul__',\n",
       " '__ne__',\n",
       " '__new__',\n",
       " '__reduce__',\n",
       " '__reduce_ex__',\n",
       " '__repr__',\n",
       " '__reversed__',\n",
       " '__rmul__',\n",
       " '__setattr__',\n",
       " '__setitem__',\n",
       " '__sizeof__',\n",
       " '__str__',\n",
       " '__subclasshook__',\n",
       " 'append',\n",
       " 'clear',\n",
       " 'copy',\n",
       " 'count',\n",
       " 'extend',\n",
       " 'index',\n",
       " 'insert',\n",
       " 'pop',\n",
       " 'remove',\n",
       " 'reverse',\n",
       " 'sort']"
      ]
     },
     "execution_count": 33,
     "metadata": {},
     "output_type": "execute_result"
    }
   ],
   "source": [
    "dir(a)"
   ]
  },
  {
   "cell_type": "code",
   "execution_count": 34,
   "id": "ea14a166-f55a-41c6-bb67-01a0decdf8a4",
   "metadata": {},
   "outputs": [],
   "source": [
    "a.append(1)"
   ]
  },
  {
   "cell_type": "code",
   "execution_count": 35,
   "id": "526edd81-5859-47a5-9307-39305ec92d9b",
   "metadata": {},
   "outputs": [
    {
     "data": {
      "text/plain": [
       "1"
      ]
     },
     "execution_count": 35,
     "metadata": {},
     "output_type": "execute_result"
    }
   ],
   "source": [
    "len(a)"
   ]
  },
  {
   "cell_type": "code",
   "execution_count": 38,
   "id": "4b414722-c7d0-465a-9fbb-ac18b714c0c4",
   "metadata": {},
   "outputs": [
    {
     "data": {
      "text/plain": [
       "1"
      ]
     },
     "execution_count": 38,
     "metadata": {},
     "output_type": "execute_result"
    }
   ],
   "source": [
    "a.__len__()"
   ]
  },
  {
   "cell_type": "code",
   "execution_count": 39,
   "id": "fa5180ce-40aa-41e5-885f-9125e2cb3c29",
   "metadata": {},
   "outputs": [
    {
     "data": {
      "text/plain": [
       "[1, 2, 3]"
      ]
     },
     "execution_count": 39,
     "metadata": {},
     "output_type": "execute_result"
    }
   ],
   "source": [
    "a + [2,3]"
   ]
  },
  {
   "cell_type": "code",
   "execution_count": 40,
   "id": "eca746f0-5e03-4665-8d64-f4bbd73f2f68",
   "metadata": {},
   "outputs": [],
   "source": [
    "class A:\n",
    "    def f(self):\n",
    "        pass"
   ]
  },
  {
   "cell_type": "code",
   "execution_count": 41,
   "id": "f653b17d-3de4-4e6c-849d-04c82f7cf9a9",
   "metadata": {},
   "outputs": [],
   "source": [
    "class B(A):\n",
    "    pass"
   ]
  },
  {
   "cell_type": "code",
   "execution_count": 42,
   "id": "8e907039-ce16-4504-a7bb-072a8ea53756",
   "metadata": {},
   "outputs": [],
   "source": [
    "b = B()"
   ]
  },
  {
   "cell_type": "code",
   "execution_count": 44,
   "id": "1b42c97d-3032-41e0-95d6-0cbb3bbf4ba8",
   "metadata": {},
   "outputs": [],
   "source": [
    "b.f()"
   ]
  },
  {
   "cell_type": "code",
   "execution_count": 45,
   "id": "453ef0b3-44a0-4cd3-b4b6-6480b31f0161",
   "metadata": {},
   "outputs": [],
   "source": [
    "class Simple:\n",
    "    pass"
   ]
  },
  {
   "cell_type": "code",
   "execution_count": 47,
   "id": "87c945c3-976b-4ced-83b5-5dbfc1ead5ea",
   "metadata": {},
   "outputs": [],
   "source": [
    "s1 = Simple()\n",
    "s2 = Simple()"
   ]
  },
  {
   "cell_type": "code",
   "execution_count": 51,
   "id": "b4bc590a-73ea-4772-bfe1-26b8c4b809e1",
   "metadata": {},
   "outputs": [],
   "source": [
    "s1.stack = []"
   ]
  },
  {
   "cell_type": "code",
   "execution_count": 52,
   "id": "93964b3c-d46b-4044-bb6b-217a9755a62c",
   "metadata": {},
   "outputs": [],
   "source": [
    "s1.stack.append(1);s1.stack.append(2);s1.stack.append(3)"
   ]
  },
  {
   "cell_type": "code",
   "execution_count": 53,
   "id": "1dbeb63c-dcf0-4188-83d6-f4fcccc0654c",
   "metadata": {},
   "outputs": [
    {
     "data": {
      "text/plain": [
       "[1, 2, 3]"
      ]
     },
     "execution_count": 53,
     "metadata": {},
     "output_type": "execute_result"
    }
   ],
   "source": [
    "s1.stack"
   ]
  },
  {
   "cell_type": "code",
   "execution_count": 64,
   "id": "5cad56d9-58c3-446d-9a8d-165b8b64c597",
   "metadata": {},
   "outputs": [],
   "source": [
    "class MyClass:\n",
    "    def set(self, v):\n",
    "        self.value = v\n",
    "    def get(self):\n",
    "        return self.value\n",
    "    def hhh(self):\n",
    "        value = 1\n",
    "        return (value, self.value)\n"
   ]
  },
  {
   "cell_type": "code",
   "execution_count": 65,
   "id": "70e27106-cba2-4019-827d-c2119340aca6",
   "metadata": {},
   "outputs": [],
   "source": [
    "c = MyClass()"
   ]
  },
  {
   "cell_type": "code",
   "execution_count": 66,
   "id": "2b92dca3-24ea-4fbc-87d5-e3ecfa31a0c3",
   "metadata": {},
   "outputs": [],
   "source": [
    "c.set(\"egg\")"
   ]
  },
  {
   "cell_type": "code",
   "execution_count": 67,
   "id": "66232080-df33-439d-9b39-5c2124cac388",
   "metadata": {},
   "outputs": [
    {
     "data": {
      "text/plain": [
       "'egg'"
      ]
     },
     "execution_count": 67,
     "metadata": {},
     "output_type": "execute_result"
    }
   ],
   "source": [
    "c.get()"
   ]
  },
  {
   "cell_type": "code",
   "execution_count": 68,
   "id": "8eb6bc51-0eae-4125-bda6-68ecc0465d70",
   "metadata": {},
   "outputs": [
    {
     "data": {
      "text/plain": [
       "(1, 'egg')"
      ]
     },
     "execution_count": 68,
     "metadata": {},
     "output_type": "execute_result"
    }
   ],
   "source": [
    "c.hhh()"
   ]
  },
  {
   "cell_type": "code",
   "execution_count": 69,
   "id": "6c8ce417-aacb-4ee1-b9f1-87ef91b004a7",
   "metadata": {},
   "outputs": [],
   "source": [
    "class MyClass2:\n",
    "    def set(self, v):\n",
    "        self.value = v\n",
    "    def get(self):\n",
    "        return self.value\n",
    "    def incr(self):\n",
    "        self.value += 1 \n",
    "        return self.get()\n"
   ]
  },
  {
   "cell_type": "code",
   "execution_count": 70,
   "id": "069cc0e2-f6e5-4307-b3ec-4a5f6c03e58b",
   "metadata": {},
   "outputs": [],
   "source": [
    "D = MyClass2()"
   ]
  },
  {
   "cell_type": "code",
   "execution_count": null,
   "id": "f0b43d81-0ac6-4736-9b45-3ddf2e89887b",
   "metadata": {},
   "outputs": [],
   "source": []
  },
  {
   "cell_type": "code",
   "execution_count": 71,
   "id": "20563f74-f24f-44e6-9731-3822a970f7c1",
   "metadata": {},
   "outputs": [],
   "source": [
    "D.set(5)"
   ]
  },
  {
   "cell_type": "code",
   "execution_count": 72,
   "id": "37550e28-7eab-418a-9fdf-90f94bf1bb1f",
   "metadata": {},
   "outputs": [
    {
     "data": {
      "text/plain": [
       "5"
      ]
     },
     "execution_count": 72,
     "metadata": {},
     "output_type": "execute_result"
    }
   ],
   "source": [
    "D.get()"
   ]
  },
  {
   "cell_type": "code",
   "execution_count": 73,
   "id": "49b7cd80-1566-45dc-bbcb-4579756a4223",
   "metadata": {},
   "outputs": [
    {
     "data": {
      "text/plain": [
       "6"
      ]
     },
     "execution_count": 73,
     "metadata": {},
     "output_type": "execute_result"
    }
   ],
   "source": [
    "D.incr()"
   ]
  },
  {
   "cell_type": "code",
   "execution_count": 93,
   "id": "ae43082f-5172-4ced-b218-a1ce9b24bb72",
   "metadata": {},
   "outputs": [],
   "source": [
    "from time import ctime"
   ]
  },
  {
   "cell_type": "code",
   "execution_count": 95,
   "id": "17b64087-bd2a-4181-8d97-34fe9e540b07",
   "metadata": {},
   "outputs": [],
   "source": [
    "from time import ctime\n",
    "class Income:\n",
    "    def __init__(self, price = 0, tax = 0):\n",
    "        self.price = price \n",
    "        self.tax = tax \n",
    "    def calcurator(self):\n",
    "        self.after_tax = self.price - (self.price * self.tax * 0.01)\n",
    "    def display(self):\n",
    "        print (f\"수입 : {self.price}\")\n",
    "        print (f\"세율 : {self.tax}\")\n",
    "        print (f\"세후 : {self.after_tax}\")\n",
    "    def __del__(self):\n",
    "        print (\"메모리에서 삭제되었습니다.\", ctime())\n",
    "\n"
   ]
  },
  {
   "cell_type": "code",
   "execution_count": 96,
   "id": "90562dec-1d2f-4cd3-88f7-108b8f3355fb",
   "metadata": {},
   "outputs": [],
   "source": [
    "obj1 = Income(2500000, 4.4)"
   ]
  },
  {
   "cell_type": "code",
   "execution_count": 97,
   "id": "a4c465ad-ce1c-4699-b060-a9f8ca397d1a",
   "metadata": {},
   "outputs": [],
   "source": [
    "obj1.calcurator()"
   ]
  },
  {
   "cell_type": "code",
   "execution_count": 98,
   "id": "86fbb42f-2c3c-4cea-99f0-e1f0a5b36744",
   "metadata": {},
   "outputs": [],
   "source": [
    "obj2 = Income()"
   ]
  },
  {
   "cell_type": "code",
   "execution_count": 99,
   "id": "9e8eaec1-6024-44b5-abd8-f78ef7fe9c63",
   "metadata": {},
   "outputs": [
    {
     "name": "stdout",
     "output_type": "stream",
     "text": [
      "수입 : 2500000\n",
      "세율 : 4.4\n",
      "세후 : 2390000.0\n"
     ]
    }
   ],
   "source": [
    "obj1.display()"
   ]
  },
  {
   "cell_type": "code",
   "execution_count": 100,
   "id": "974c1091-8bb6-4788-92f2-55cde539d202",
   "metadata": {},
   "outputs": [],
   "source": [
    "obj2.calcurator()"
   ]
  },
  {
   "cell_type": "code",
   "execution_count": 101,
   "id": "90801fa3-e137-4fbe-bc59-68cae5945d50",
   "metadata": {},
   "outputs": [
    {
     "name": "stdout",
     "output_type": "stream",
     "text": [
      "수입 : 0\n",
      "세율 : 0\n",
      "세후 : 0.0\n"
     ]
    }
   ],
   "source": [
    "obj2.display()"
   ]
  },
  {
   "cell_type": "code",
   "execution_count": 104,
   "id": "20fd5158-6cf2-4fee-8484-905f215d02d8",
   "metadata": {},
   "outputs": [
    {
     "name": "stdout",
     "output_type": "stream",
     "text": [
      "메모리에서 삭제되었습니다. Mon Sep 13 11:42:36 2021\n"
     ]
    }
   ],
   "source": [
    "del obj2"
   ]
  },
  {
   "cell_type": "code",
   "execution_count": 105,
   "id": "184a9a74-7c26-40f1-8450-898f5d4d61b5",
   "metadata": {},
   "outputs": [],
   "source": [
    "class Var:\n",
    "    c_mem = 100\n",
    "    def f(self):\n",
    "        self.i_mem = 200\n",
    "    def g(self):\n",
    "        return self.i_mem, self.c_mem\n"
   ]
  },
  {
   "cell_type": "code",
   "execution_count": 106,
   "id": "7a5084bd-3760-404a-bc46-d9a7b6241d99",
   "metadata": {},
   "outputs": [
    {
     "data": {
      "text/plain": [
       "100"
      ]
     },
     "execution_count": 106,
     "metadata": {},
     "output_type": "execute_result"
    }
   ],
   "source": [
    "Var.c_mem"
   ]
  },
  {
   "cell_type": "code",
   "execution_count": 111,
   "id": "e7f74ca2-293a-49da-a6cb-264ed7e61498",
   "metadata": {},
   "outputs": [],
   "source": [
    "v1 = Var()"
   ]
  },
  {
   "cell_type": "code",
   "execution_count": 113,
   "id": "6a170d16-7497-4c56-b652-c4a077fbc40f",
   "metadata": {},
   "outputs": [],
   "source": [
    "v1.f()"
   ]
  },
  {
   "cell_type": "code",
   "execution_count": 114,
   "id": "cd11615f-ca5f-4415-bd24-64d98cddadea",
   "metadata": {},
   "outputs": [
    {
     "data": {
      "text/plain": [
       "(200, 100)"
      ]
     },
     "execution_count": 114,
     "metadata": {},
     "output_type": "execute_result"
    }
   ],
   "source": [
    "v1.g()"
   ]
  },
  {
   "cell_type": "code",
   "execution_count": 115,
   "id": "418da08f-fc78-41b0-87f6-56da6bdb1274",
   "metadata": {},
   "outputs": [],
   "source": [
    "v1.c_mem = 50"
   ]
  },
  {
   "cell_type": "code",
   "execution_count": 118,
   "id": "e992081c-37c1-419c-8a3b-b5c1ff3044f0",
   "metadata": {},
   "outputs": [],
   "source": [
    "v2 = Var()"
   ]
  },
  {
   "cell_type": "code",
   "execution_count": 119,
   "id": "7ef51781-ec8c-43e2-9b34-542420781e0f",
   "metadata": {},
   "outputs": [],
   "source": [
    "Var.c_mem = 123"
   ]
  },
  {
   "cell_type": "code",
   "execution_count": 120,
   "id": "bbca22fe-1037-4980-83d9-15b9dbb1d4c4",
   "metadata": {},
   "outputs": [
    {
     "data": {
      "text/plain": [
       "123"
      ]
     },
     "execution_count": 120,
     "metadata": {},
     "output_type": "execute_result"
    }
   ],
   "source": [
    "v2.c_mem"
   ]
  },
  {
   "cell_type": "code",
   "execution_count": 121,
   "id": "2cb066ef-3b43-4035-9d20-5a0835aa7a2d",
   "metadata": {},
   "outputs": [
    {
     "data": {
      "text/plain": [
       "50"
      ]
     },
     "execution_count": 121,
     "metadata": {},
     "output_type": "execute_result"
    }
   ],
   "source": [
    "v1.c_mem"
   ]
  },
  {
   "cell_type": "code",
   "execution_count": 122,
   "id": "e485cf7b-5047-47d1-863b-4b2066b32841",
   "metadata": {},
   "outputs": [
    {
     "data": {
      "text/plain": [
       "123"
      ]
     },
     "execution_count": 122,
     "metadata": {},
     "output_type": "execute_result"
    }
   ],
   "source": [
    "v2.c_mem"
   ]
  },
  {
   "cell_type": "code",
   "execution_count": 123,
   "id": "4da6fb80-7df8-471d-90ef-e14aabdab497",
   "metadata": {},
   "outputs": [],
   "source": [
    "#상속"
   ]
  },
  {
   "cell_type": "code",
   "execution_count": 136,
   "id": "3d2709a6-0742-465a-a855-2f1994f6f968",
   "metadata": {},
   "outputs": [],
   "source": [
    "class Person:\n",
    "    def __init__(self, name, phone = None):\n",
    "        self.name = name\n",
    "        self.phone = phone\n",
    "    def __repr__(self):\n",
    "        return \"<Person {} {}>\".format(self.name, self.phone)"
   ]
  },
  {
   "cell_type": "code",
   "execution_count": 137,
   "id": "8549edfb-01d4-4bd6-b7b7-f5775b4e19be",
   "metadata": {},
   "outputs": [],
   "source": [
    "class Employee(Person):\n",
    "    def __init__(self, name, phone, position, salary):\n",
    "        super().__init__(name, phone)\n",
    "        self.position = position\n",
    "        self.salary = salary"
   ]
  },
  {
   "cell_type": "code",
   "execution_count": 138,
   "id": "d97e6517-5471-4515-ac74-382cec54e075",
   "metadata": {},
   "outputs": [],
   "source": [
    "s1 = Person(\"seo\", \"010-9021-2357\")"
   ]
  },
  {
   "cell_type": "code",
   "execution_count": 139,
   "id": "b3eb2b2e-5994-4607-875d-3d411dbbd074",
   "metadata": {},
   "outputs": [
    {
     "name": "stdout",
     "output_type": "stream",
     "text": [
      "<Person seo 010-9021-2357>\n"
     ]
    }
   ],
   "source": [
    "print (s1)"
   ]
  },
  {
   "cell_type": "code",
   "execution_count": 140,
   "id": "b41e0707-bdb8-426c-9797-1db067047095",
   "metadata": {},
   "outputs": [],
   "source": [
    "m1 = Employee(\"홍길동\", 5564, \"대리\", 350)\n",
    "m2 = Employee(\"이화식\", 8546, \"대표님\", 100000000000)"
   ]
  },
  {
   "cell_type": "code",
   "execution_count": 141,
   "id": "05264492-ce43-4afb-9559-696ecd15cead",
   "metadata": {},
   "outputs": [
    {
     "name": "stdout",
     "output_type": "stream",
     "text": [
      "<Person 홍길동 5564>\n"
     ]
    }
   ],
   "source": [
    "print(m1)"
   ]
  },
  {
   "cell_type": "code",
   "execution_count": 142,
   "id": "f3358d34-f6fa-4b74-ad6b-79e619a27bb8",
   "metadata": {},
   "outputs": [],
   "source": [
    "#데코레이터, 클로저"
   ]
  },
  {
   "cell_type": "code",
   "execution_count": 158,
   "id": "9ee070e0-30e7-4ea0-a808-a0375b4779ab",
   "metadata": {},
   "outputs": [],
   "source": [
    "def click(func):\n",
    "    n = 0 \n",
    "    def count_click():\n",
    "        nonlocal n\n",
    "        n += 1 \n",
    "        func(n)\n",
    "        return n \n",
    "    return count_click\n"
   ]
  },
  {
   "cell_type": "code",
   "execution_count": 159,
   "id": "4f25cda2-0073-478b-aad6-1f6ad9c78b26",
   "metadata": {},
   "outputs": [],
   "source": [
    "def hello(cnt):\n",
    "    print(\"{}\".format(cnt))"
   ]
  },
  {
   "cell_type": "code",
   "execution_count": 160,
   "id": "ebb82fb1-ad41-4ed8-90b2-cd7cb851f280",
   "metadata": {},
   "outputs": [],
   "source": [
    "a3 = click(hello)"
   ]
  },
  {
   "cell_type": "code",
   "execution_count": 164,
   "id": "749bda1e-ec9f-4809-9c0d-c2e68471ed26",
   "metadata": {},
   "outputs": [
    {
     "name": "stdout",
     "output_type": "stream",
     "text": [
      "3\n"
     ]
    },
    {
     "data": {
      "text/plain": [
       "3"
      ]
     },
     "execution_count": 164,
     "metadata": {},
     "output_type": "execute_result"
    }
   ],
   "source": [
    "a3()"
   ]
  },
  {
   "cell_type": "code",
   "execution_count": 7,
   "id": "567dba91-f88b-4433-bacb-019887a63959",
   "metadata": {},
   "outputs": [],
   "source": [
    "import requests"
   ]
  },
  {
   "cell_type": "code",
   "execution_count": 8,
   "id": "14d7d53e-cf54-4b2b-a74d-c13f21810653",
   "metadata": {},
   "outputs": [],
   "source": [
    "class MyUtil:\n",
    "    def exchange(self, currency = \"usd\", date_ = \"2021-07-23\"):\n",
    "        url = \"https://kebhana.com/cms/rate/wpfxd651_01i_01.do\"\n",
    "        payload = {\"ajax\": \"true\",\n",
    "                \"curCd\": \"\",\n",
    "                \"tmpInqStrDt\": \"2021-09-06\",\n",
    "                \"pbldDvCd\": \"0\",\n",
    "                \"pbldSqn\": \"\",\n",
    "                \"hid_key_data\": \"\",\n",
    "                \"inqStrDt\": \"20210906\",\n",
    "                \"inqKindCd\": \"1\",\n",
    "                \"hid_enc_data\": \"\",\n",
    "                \"requestTarget\": \"searchContentDiv\"}\n",
    "        payload['tmpInqStrDt'] = date_\n",
    "        payload['inqStrDt'] = date_.replace(\"-\", \"\")\n",
    "        r = requests.post(url, data=payload)\n",
    "        a = pd.read_html(r.text)[0]\n",
    "        a.columns = [\"_\".join(set(x)) for x in a.columns]\n",
    "        return a[a['통화'].str.contains(currency.upper())]['매매기준율'].values[0]\n"
   ]
  },
  {
   "cell_type": "code",
   "execution_count": 173,
   "id": "29407a22-353f-4ab6-85a4-194b28fb6502",
   "metadata": {},
   "outputs": [],
   "source": [
    "class MyUtil:\n",
    "    @staticmethod\n",
    "    def exchange(currency = \"usd\", date_ = \"2021-07-23\"):\n",
    "        url = \"https://kebhana.com/cms/rate/wpfxd651_01i_01.do\"\n",
    "        payload = {\"ajax\": \"true\",\n",
    "                \"curCd\": \"\",\n",
    "                \"tmpInqStrDt\": \"2021-09-06\",\n",
    "                \"pbldDvCd\": \"0\",\n",
    "                \"pbldSqn\": \"\",\n",
    "                \"hid_key_data\": \"\",\n",
    "                \"inqStrDt\": \"20210906\",\n",
    "                \"inqKindCd\": \"1\",\n",
    "                \"hid_enc_data\": \"\",\n",
    "                \"requestTarget\": \"searchContentDiv\"}\n",
    "        payload['tmpInqStrDt'] = date_\n",
    "        payload['inqStrDt'] = date_.replace(\"-\", \"\")\n",
    "        r = requests.post(url, data=payload)\n",
    "        a = pd.read_html(r.text)[0]\n",
    "        a.columns = [\"_\".join(set(x)) for x in a.columns]\n",
    "        return a[a['통화'].str.contains(currency.upper())]['매매기준율'].values[0]\n"
   ]
  },
  {
   "cell_type": "code",
   "execution_count": 9,
   "id": "46e607db-d952-4c90-a28d-6c61bd298973",
   "metadata": {},
   "outputs": [],
   "source": [
    "a1 = MyUtil()"
   ]
  },
  {
   "cell_type": "code",
   "execution_count": 10,
   "id": "29d3ca84-2968-4386-a9a8-851cda0133af",
   "metadata": {},
   "outputs": [
    {
     "data": {
      "text/plain": [
       "1175.7"
      ]
     },
     "execution_count": 10,
     "metadata": {},
     "output_type": "execute_result"
    }
   ],
   "source": [
    "a1.exchange(date_='2021-09-13')"
   ]
  },
  {
   "cell_type": "code",
   "execution_count": null,
   "id": "cf3c9777-a93c-4114-9697-6373febf6d64",
   "metadata": {},
   "outputs": [],
   "source": []
  }
 ],
 "metadata": {
  "kernelspec": {
   "display_name": "Python 3",
   "language": "python",
   "name": "python3"
  },
  "language_info": {
   "codemirror_mode": {
    "name": "ipython",
    "version": 3
   },
   "file_extension": ".py",
   "mimetype": "text/x-python",
   "name": "python",
   "nbconvert_exporter": "python",
   "pygments_lexer": "ipython3",
   "version": "3.8.8"
  }
 },
 "nbformat": 4,
 "nbformat_minor": 5
}
