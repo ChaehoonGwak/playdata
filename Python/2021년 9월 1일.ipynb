{
 "cells": [
  {
   "cell_type": "code",
   "execution_count": 9,
   "id": "8b02506c",
   "metadata": {},
   "outputs": [
    {
     "name": "stdout",
     "output_type": "stream",
     "text": [
      "afafd\n",
      "블라블라\n",
      "블라블라\n",
      "블라블라\n",
      "블라블라\n",
      "블라블라\n",
      "블라블라\n"
     ]
    }
   ],
   "source": [
    "try:\n",
    "    print('afafd')\n",
    "    a / 1234\n",
    "    print('aaa')\n",
    "except Exception as e:\n",
    "    # 주석\n",
    "    # 이 변수는 어디에서 받아오는 값\n",
    "    b = \"\"\"\n",
    "    이것도 주석입니다\n",
    "    \"\"\"\n",
    "    pass\n",
    "print('블라블라')\n",
    "print('블라블라')\n",
    "print('블라블라')\n",
    "print('블라블라')\n",
    "print('블라블라')\n",
    "print('블라블라')"
   ]
  },
  {
   "cell_type": "code",
   "execution_count": null,
   "id": "dadbb2da",
   "metadata": {},
   "outputs": [],
   "source": []
  },
  {
   "cell_type": "code",
   "execution_count": 2,
   "id": "499d5655",
   "metadata": {},
   "outputs": [],
   "source": [
    "import starbucks as sb"
   ]
  },
  {
   "cell_type": "code",
   "execution_count": 8,
   "id": "03d87174",
   "metadata": {},
   "outputs": [
    {
     "name": "stdout",
     "output_type": "stream",
     "text": [
      "1\n",
      "2\n",
      "3\n",
      "4\n",
      "5\n",
      "6\n",
      "7\n",
      "8\n",
      "9\n",
      "10\n"
     ]
    }
   ],
   "source": [
    "for i in range(1,11):\n",
    "    print(i)"
   ]
  },
  {
   "cell_type": "code",
   "execution_count": 10,
   "id": "bd6fd7e4",
   "metadata": {},
   "outputs": [
    {
     "data": {
      "text/plain": [
       "[1, 4, 4, 4, 5, 1231134, 11133321]"
      ]
     },
     "execution_count": 10,
     "metadata": {},
     "output_type": "execute_result"
    }
   ],
   "source": [
    "sorted([1, 11133321, 1231134, 4, 4, 4, 5])"
   ]
  },
  {
   "cell_type": "code",
   "execution_count": 30,
   "id": "a0172f44",
   "metadata": {},
   "outputs": [
    {
     "name": "stdout",
     "output_type": "stream",
     "text": [
      "-1\n",
      "5\n"
     ]
    }
   ],
   "source": [
    "def max_out(a, b, c):\n",
    "    if type(a) == type('a') or type(b) == type('a') or type(c) == type('a'):\n",
    "        return -1\n",
    "    return max(a,b,c)\n",
    "\n",
    "print(max_out('a', 3 ,6))\n",
    "print(max_out(1, 3 ,5))"
   ]
  },
  {
   "cell_type": "code",
   "execution_count": 24,
   "id": "f600302f",
   "metadata": {},
   "outputs": [
    {
     "name": "stdout",
     "output_type": "stream",
     "text": [
      "yes\n"
     ]
    }
   ],
   "source": [
    "a = 'a'\n",
    "if type(a) == type('a'): print('yes')"
   ]
  },
  {
   "cell_type": "code",
   "execution_count": 32,
   "id": "8959527d",
   "metadata": {},
   "outputs": [
    {
     "name": "stdout",
     "output_type": "stream",
     "text": [
      "-1\n"
     ]
    }
   ],
   "source": [
    "def max_out(a, b, c):\n",
    "    try:\n",
    "        abc = sorted([a, b, c])\n",
    "        return abc[-1]\n",
    "    except TypeError:\n",
    "        return -1\n",
    "print(max_out('1',3,5))"
   ]
  },
  {
   "cell_type": "code",
   "execution_count": 1,
   "id": "645fec99",
   "metadata": {},
   "outputs": [
    {
     "data": {
      "text/plain": [
       "'C:\\\\workspace'"
      ]
     },
     "execution_count": 1,
     "metadata": {},
     "output_type": "execute_result"
    }
   ],
   "source": [
    "import os\n",
    "os.getcwd()"
   ]
  },
  {
   "cell_type": "code",
   "execution_count": 1,
   "id": "2f06e46c-b6c4-48e4-afc7-bbcc6dd79c92",
   "metadata": {},
   "outputs": [],
   "source": [
    "f7 = open(\"./temp/butter.txt\", \"r\", encoding='utf-8')"
   ]
  },
  {
   "cell_type": "code",
   "execution_count": 3,
   "id": "3e2faa5e-61e9-4f35-a49b-a5c19a8a8f67",
   "metadata": {},
   "outputs": [
    {
     "data": {
      "text/plain": [
       "''"
      ]
     },
     "execution_count": 3,
     "metadata": {},
     "output_type": "execute_result"
    }
   ],
   "source": [
    "f7.read()"
   ]
  },
  {
   "cell_type": "code",
   "execution_count": 4,
   "id": "ab7bcdf8-d871-4a7c-bba2-99d8647fe556",
   "metadata": {},
   "outputs": [
    {
     "data": {
      "text/plain": [
       "1976"
      ]
     },
     "execution_count": 4,
     "metadata": {},
     "output_type": "execute_result"
    }
   ],
   "source": [
    "f7.tell()"
   ]
  },
  {
   "cell_type": "code",
   "execution_count": 5,
   "id": "433c2916-e234-49c8-ae74-42a6aa32bba5",
   "metadata": {},
   "outputs": [
    {
     "data": {
      "text/plain": [
       "0"
      ]
     },
     "execution_count": 5,
     "metadata": {},
     "output_type": "execute_result"
    }
   ],
   "source": [
    "f7.seek(0)"
   ]
  },
  {
   "cell_type": "code",
   "execution_count": 6,
   "id": "fe2de766-9c6c-48b4-bc9c-b8cc87caa548",
   "metadata": {},
   "outputs": [
    {
     "data": {
      "text/plain": [
       "\"Smooth like butter\\nLike a criminal undercover\\nGon’ pop like trouble\\nBreakin’ into your heart like that\\n\\nCool shade stunner\\nYeah I owe it all to my mother\\nHot like summer\\nYeah I’m makin’ you sweat like that\\n\\nBreak it down\\n\\nOh when I look in the mirror\\nI’ll melt your heart into 2\\nI got that superstar glow so\\nDo the boogie like\\n\\nSide step right left to my beat (heartbeat)\\nHigh like the moon rock with me baby\\nKnow that I got that heat\\nLet me show you ‘cause talk is cheap\\nSide step right left to my beat (heartbeat)\\nGet it, let it roll\\n\\nSmooth like butter\\nPull you in like no other\\nDon’t need no Usher\\nTo remind me you got it bad\\n\\nAin’t no other\\nThat can sweep you up like a robber\\nStraight up, I got ya\\nMakin’ you fall like that\\n\\nBreak it down\\n\\nOh when I look in the mirror\\nI’ll melt your heart into 2\\nI got that superstar glow so\\nDo the boogie like\\n\\nSide step right left to my beat (heartbeat)\\nHigh like the moon rock with me baby\\nKnow that I got that heat\\nLet me show you ‘cause talk is cheap\\nSide step right left to my beat (heartbeat)\\nGet it, let it roll\\n\\nGet it, let it roll\\nGet it, let it roll\\n\\nNo ice on my wrist\\nI'm that n-ice guy\\nGot that right body and that right mind\\nRollin' up to party got the right vibe\\nSmooth like butter\\nHate us love us\\n\\nFresh boy pull up and we lay low\\nAll the playas get movin’ when the bass low\\nGot ARMY right behind us when we say so\\nLet's go\\n\\nSide step right left to my beat (heartbeat)\\nHigh like the moon rock with me baby\\nKnow that I got that heat\\nLet me show you ‘cause talk is cheap\\nSide step right left to my beat (heartbeat)\\nGet it, let it roll\\n\\nSmooth like (butter)\\nCool shade (stunner)\\nAnd you know we don't stop\\n\\nHot like (summer)\\nAin’t no (bummer)\\nYou be like oh my god\\n\\nWe gon’ make you rock and you say (yeah)\\nWe gon’ make you bounce and you say (yeah)\\n\\nHotter?\\nSweeter!\\nCooler?\\nButter!\\n\\nGet it, let it roll\""
      ]
     },
     "execution_count": 6,
     "metadata": {},
     "output_type": "execute_result"
    }
   ],
   "source": [
    "f7.read()"
   ]
  },
  {
   "cell_type": "code",
   "execution_count": 7,
   "id": "41cc3e7d-f044-44c5-8b3c-b279938903e2",
   "metadata": {},
   "outputs": [
    {
     "ename": "ValueError",
     "evalue": "negative seek position -1",
     "output_type": "error",
     "traceback": [
      "\u001b[1;31m---------------------------------------------------------------------------\u001b[0m",
      "\u001b[1;31mValueError\u001b[0m                                Traceback (most recent call last)",
      "\u001b[1;32m<ipython-input-7-b69b89e6614e>\u001b[0m in \u001b[0;36m<module>\u001b[1;34m\u001b[0m\n\u001b[1;32m----> 1\u001b[1;33m \u001b[0mf7\u001b[0m\u001b[1;33m.\u001b[0m\u001b[0mseek\u001b[0m\u001b[1;33m(\u001b[0m\u001b[1;33m-\u001b[0m\u001b[1;36m1\u001b[0m\u001b[1;33m)\u001b[0m\u001b[1;33m\u001b[0m\u001b[1;33m\u001b[0m\u001b[0m\n\u001b[0m",
      "\u001b[1;31mValueError\u001b[0m: negative seek position -1"
     ]
    }
   ],
   "source": [
    "f7.seek(-1)"
   ]
  },
  {
   "cell_type": "code",
   "execution_count": 8,
   "id": "7785882c-c8e6-470b-aaa6-020a5590aff8",
   "metadata": {},
   "outputs": [
    {
     "data": {
      "text/plain": [
       "''"
      ]
     },
     "execution_count": 8,
     "metadata": {},
     "output_type": "execute_result"
    }
   ],
   "source": [
    "f7.readline()"
   ]
  },
  {
   "cell_type": "code",
   "execution_count": 17,
   "id": "b3d0afd1-1826-4f04-8e74-8304907be1af",
   "metadata": {},
   "outputs": [
    {
     "data": {
      "text/plain": [
       "['Smooth like butter\\n',\n",
       " 'Like a criminal undercover\\n',\n",
       " 'Gon’ pop like trouble\\n',\n",
       " 'Breakin’ into your heart like that\\n',\n",
       " '\\n',\n",
       " 'Cool shade stunner\\n',\n",
       " 'Yeah I owe it all to my mother\\n',\n",
       " 'Hot like summer\\n',\n",
       " 'Yeah I’m makin’ you sweat like that\\n',\n",
       " '\\n',\n",
       " 'Break it down\\n',\n",
       " '\\n',\n",
       " 'Oh when I look in the mirror\\n',\n",
       " 'I’ll melt your heart into 2\\n',\n",
       " 'I got that superstar glow so\\n',\n",
       " 'Do the boogie like\\n',\n",
       " '\\n',\n",
       " 'Side step right left to my beat (heartbeat)\\n',\n",
       " 'High like the moon rock with me baby\\n',\n",
       " 'Know that I got that heat\\n',\n",
       " 'Let me show you ‘cause talk is cheap\\n',\n",
       " 'Side step right left to my beat (heartbeat)\\n',\n",
       " 'Get it, let it roll\\n',\n",
       " '\\n',\n",
       " 'Smooth like butter\\n',\n",
       " 'Pull you in like no other\\n',\n",
       " 'Don’t need no Usher\\n',\n",
       " 'To remind me you got it bad\\n',\n",
       " '\\n',\n",
       " 'Ain’t no other\\n',\n",
       " 'That can sweep you up like a robber\\n',\n",
       " 'Straight up, I got ya\\n',\n",
       " 'Makin’ you fall like that\\n',\n",
       " '\\n',\n",
       " 'Break it down\\n',\n",
       " '\\n',\n",
       " 'Oh when I look in the mirror\\n',\n",
       " 'I’ll melt your heart into 2\\n',\n",
       " 'I got that superstar glow so\\n',\n",
       " 'Do the boogie like\\n',\n",
       " '\\n',\n",
       " 'Side step right left to my beat (heartbeat)\\n',\n",
       " 'High like the moon rock with me baby\\n',\n",
       " 'Know that I got that heat\\n',\n",
       " 'Let me show you ‘cause talk is cheap\\n',\n",
       " 'Side step right left to my beat (heartbeat)\\n',\n",
       " 'Get it, let it roll\\n',\n",
       " '\\n',\n",
       " 'Get it, let it roll\\n',\n",
       " 'Get it, let it roll\\n',\n",
       " '\\n',\n",
       " 'No ice on my wrist\\n',\n",
       " \"I'm that n-ice guy\\n\",\n",
       " 'Got that right body and that right mind\\n',\n",
       " \"Rollin' up to party got the right vibe\\n\",\n",
       " 'Smooth like butter\\n',\n",
       " 'Hate us love us\\n',\n",
       " '\\n',\n",
       " 'Fresh boy pull up and we lay low\\n',\n",
       " 'All the playas get movin’ when the bass low\\n',\n",
       " 'Got ARMY right behind us when we say so\\n',\n",
       " \"Let's go\\n\",\n",
       " '\\n',\n",
       " 'Side step right left to my beat (heartbeat)\\n',\n",
       " 'High like the moon rock with me baby\\n',\n",
       " 'Know that I got that heat\\n',\n",
       " 'Let me show you ‘cause talk is cheap\\n',\n",
       " 'Side step right left to my beat (heartbeat)\\n',\n",
       " 'Get it, let it roll\\n',\n",
       " '\\n',\n",
       " 'Smooth like (butter)\\n',\n",
       " 'Cool shade (stunner)\\n',\n",
       " \"And you know we don't stop\\n\",\n",
       " '\\n',\n",
       " 'Hot like (summer)\\n',\n",
       " 'Ain’t no (bummer)\\n',\n",
       " 'You be like oh my god\\n',\n",
       " '\\n',\n",
       " 'We gon’ make you rock and you say (yeah)\\n',\n",
       " 'We gon’ make you bounce and you say (yeah)\\n',\n",
       " '\\n',\n",
       " 'Hotter?\\n',\n",
       " 'Sweeter!\\n',\n",
       " 'Cooler?\\n',\n",
       " 'Butter!\\n',\n",
       " '\\n',\n",
       " 'Get it, let it roll']"
      ]
     },
     "execution_count": 17,
     "metadata": {},
     "output_type": "execute_result"
    }
   ],
   "source": [
    "f7.seek(0)\n",
    "f7.readlines()"
   ]
  },
  {
   "cell_type": "code",
   "execution_count": 24,
   "id": "e997b0cf-8b6a-44de-869c-d647994e62d1",
   "metadata": {},
   "outputs": [
    {
     "name": "stdout",
     "output_type": "stream",
     "text": [
      "(0, 'Smooth like butter\\n')\n",
      "(1, 'Like a criminal undercover\\n')\n",
      "(2, 'Gon’ pop like trouble\\n')\n",
      "(3, 'Breakin’ into your heart like that\\n')\n",
      "(4, '\\n')\n",
      "(5, 'Cool shade stunner\\n')\n",
      "(6, 'Yeah I owe it all to my mother\\n')\n",
      "(7, 'Hot like summer\\n')\n",
      "(8, 'Yeah I’m makin’ you sweat like that\\n')\n",
      "(9, '\\n')\n",
      "(10, 'Break it down\\n')\n",
      "(11, '\\n')\n",
      "(12, 'Oh when I look in the mirror\\n')\n",
      "(13, 'I’ll melt your heart into 2\\n')\n",
      "(14, 'I got that superstar glow so\\n')\n",
      "(15, 'Do the boogie like\\n')\n",
      "(16, '\\n')\n",
      "(17, 'Side step right left to my beat (heartbeat)\\n')\n",
      "(18, 'High like the moon rock with me baby\\n')\n",
      "(19, 'Know that I got that heat\\n')\n",
      "(20, 'Let me show you ‘cause talk is cheap\\n')\n",
      "(21, 'Side step right left to my beat (heartbeat)\\n')\n",
      "(22, 'Get it, let it roll\\n')\n",
      "(23, '\\n')\n",
      "(24, 'Smooth like butter\\n')\n",
      "(25, 'Pull you in like no other\\n')\n",
      "(26, 'Don’t need no Usher\\n')\n",
      "(27, 'To remind me you got it bad\\n')\n",
      "(28, '\\n')\n",
      "(29, 'Ain’t no other\\n')\n",
      "(30, 'That can sweep you up like a robber\\n')\n",
      "(31, 'Straight up, I got ya\\n')\n",
      "(32, 'Makin’ you fall like that\\n')\n",
      "(33, '\\n')\n",
      "(34, 'Break it down\\n')\n",
      "(35, '\\n')\n",
      "(36, 'Oh when I look in the mirror\\n')\n",
      "(37, 'I’ll melt your heart into 2\\n')\n",
      "(38, 'I got that superstar glow so\\n')\n",
      "(39, 'Do the boogie like\\n')\n",
      "(40, '\\n')\n",
      "(41, 'Side step right left to my beat (heartbeat)\\n')\n",
      "(42, 'High like the moon rock with me baby\\n')\n",
      "(43, 'Know that I got that heat\\n')\n",
      "(44, 'Let me show you ‘cause talk is cheap\\n')\n",
      "(45, 'Side step right left to my beat (heartbeat)\\n')\n",
      "(46, 'Get it, let it roll\\n')\n",
      "(47, '\\n')\n",
      "(48, 'Get it, let it roll\\n')\n",
      "(49, 'Get it, let it roll\\n')\n",
      "(50, '\\n')\n",
      "(51, 'No ice on my wrist\\n')\n",
      "(52, \"I'm that n-ice guy\\n\")\n",
      "(53, 'Got that right body and that right mind\\n')\n",
      "(54, \"Rollin' up to party got the right vibe\\n\")\n",
      "(55, 'Smooth like butter\\n')\n",
      "(56, 'Hate us love us\\n')\n",
      "(57, '\\n')\n",
      "(58, 'Fresh boy pull up and we lay low\\n')\n",
      "(59, 'All the playas get movin’ when the bass low\\n')\n",
      "(60, 'Got ARMY right behind us when we say so\\n')\n",
      "(61, \"Let's go\\n\")\n",
      "(62, '\\n')\n",
      "(63, 'Side step right left to my beat (heartbeat)\\n')\n",
      "(64, 'High like the moon rock with me baby\\n')\n",
      "(65, 'Know that I got that heat\\n')\n",
      "(66, 'Let me show you ‘cause talk is cheap\\n')\n",
      "(67, 'Side step right left to my beat (heartbeat)\\n')\n",
      "(68, 'Get it, let it roll\\n')\n",
      "(69, '\\n')\n",
      "(70, 'Smooth like (butter)\\n')\n",
      "(71, 'Cool shade (stunner)\\n')\n",
      "(72, \"And you know we don't stop\\n\")\n",
      "(73, '\\n')\n",
      "(74, 'Hot like (summer)\\n')\n",
      "(75, 'Ain’t no (bummer)\\n')\n",
      "(76, 'You be like oh my god\\n')\n",
      "(77, '\\n')\n",
      "(78, 'We gon’ make you rock and you say (yeah)\\n')\n",
      "(79, 'We gon’ make you bounce and you say (yeah)\\n')\n",
      "(80, '\\n')\n",
      "(81, 'Hotter?\\n')\n",
      "(82, 'Sweeter!\\n')\n",
      "(83, 'Cooler?\\n')\n",
      "(84, 'Butter!\\n')\n",
      "(85, '\\n')\n",
      "(86, 'Get it, let it roll')\n"
     ]
    }
   ],
   "source": [
    "f7.seek(0)\n",
    "for i in enumerate(f7.readlines()):\n",
    "    print(i)"
   ]
  },
  {
   "cell_type": "code",
   "execution_count": 25,
   "id": "e55d6cf0-55f9-42a4-90c3-050d103ce603",
   "metadata": {},
   "outputs": [],
   "source": [
    "import requests\n",
    "from bs4 import BeautifulSoup"
   ]
  },
  {
   "cell_type": "code",
   "execution_count": 26,
   "id": "98635119-1f6a-447b-acac-a0e3225bec6e",
   "metadata": {},
   "outputs": [],
   "source": [
    "head = {\n",
    "    'user-agent': \n",
    "    \"Mozilla/5.0 (Windows NT 10.0; Win64; x64) AppleWebKit/537.36 (KHTML, like Gecko) Chrome/92.0.4515.159 Safari/537.36 Edg/92.0.902.84\"\n",
    "}"
   ]
  },
  {
   "cell_type": "code",
   "execution_count": 27,
   "id": "651aaa82-ffce-44ff-8d4c-2dfb791ac57d",
   "metadata": {},
   "outputs": [],
   "source": [
    "target_url = \"https://www.melon.com/chart/index.htm\""
   ]
  },
  {
   "cell_type": "code",
   "execution_count": 28,
   "id": "ab40c454-226e-49aa-b0a7-703ab3f58df7",
   "metadata": {},
   "outputs": [
    {
     "ename": "TypeError",
     "evalue": "request() got an unexpected keyword argument 'header'",
     "output_type": "error",
     "traceback": [
      "\u001b[1;31m---------------------------------------------------------------------------\u001b[0m",
      "\u001b[1;31mTypeError\u001b[0m                                 Traceback (most recent call last)",
      "\u001b[1;32m<ipython-input-28-2d2b4c850003>\u001b[0m in \u001b[0;36m<module>\u001b[1;34m\u001b[0m\n\u001b[1;32m----> 1\u001b[1;33m \u001b[0mr\u001b[0m \u001b[1;33m=\u001b[0m \u001b[0mrequests\u001b[0m\u001b[1;33m.\u001b[0m\u001b[0mget\u001b[0m\u001b[1;33m(\u001b[0m\u001b[0mtarget_url\u001b[0m\u001b[1;33m,\u001b[0m \u001b[0mheader\u001b[0m\u001b[1;33m=\u001b[0m\u001b[0mhead\u001b[0m\u001b[1;33m)\u001b[0m\u001b[1;33m\u001b[0m\u001b[1;33m\u001b[0m\u001b[0m\n\u001b[0m",
      "\u001b[1;32m~\\anaconda3\\lib\\site-packages\\requests\\api.py\u001b[0m in \u001b[0;36mget\u001b[1;34m(url, params, **kwargs)\u001b[0m\n\u001b[0;32m     74\u001b[0m \u001b[1;33m\u001b[0m\u001b[0m\n\u001b[0;32m     75\u001b[0m     \u001b[0mkwargs\u001b[0m\u001b[1;33m.\u001b[0m\u001b[0msetdefault\u001b[0m\u001b[1;33m(\u001b[0m\u001b[1;34m'allow_redirects'\u001b[0m\u001b[1;33m,\u001b[0m \u001b[1;32mTrue\u001b[0m\u001b[1;33m)\u001b[0m\u001b[1;33m\u001b[0m\u001b[1;33m\u001b[0m\u001b[0m\n\u001b[1;32m---> 76\u001b[1;33m     \u001b[1;32mreturn\u001b[0m \u001b[0mrequest\u001b[0m\u001b[1;33m(\u001b[0m\u001b[1;34m'get'\u001b[0m\u001b[1;33m,\u001b[0m \u001b[0murl\u001b[0m\u001b[1;33m,\u001b[0m \u001b[0mparams\u001b[0m\u001b[1;33m=\u001b[0m\u001b[0mparams\u001b[0m\u001b[1;33m,\u001b[0m \u001b[1;33m**\u001b[0m\u001b[0mkwargs\u001b[0m\u001b[1;33m)\u001b[0m\u001b[1;33m\u001b[0m\u001b[1;33m\u001b[0m\u001b[0m\n\u001b[0m\u001b[0;32m     77\u001b[0m \u001b[1;33m\u001b[0m\u001b[0m\n\u001b[0;32m     78\u001b[0m \u001b[1;33m\u001b[0m\u001b[0m\n",
      "\u001b[1;32m~\\anaconda3\\lib\\site-packages\\requests\\api.py\u001b[0m in \u001b[0;36mrequest\u001b[1;34m(method, url, **kwargs)\u001b[0m\n\u001b[0;32m     59\u001b[0m     \u001b[1;31m# cases, and look like a memory leak in others.\u001b[0m\u001b[1;33m\u001b[0m\u001b[1;33m\u001b[0m\u001b[1;33m\u001b[0m\u001b[0m\n\u001b[0;32m     60\u001b[0m     \u001b[1;32mwith\u001b[0m \u001b[0msessions\u001b[0m\u001b[1;33m.\u001b[0m\u001b[0mSession\u001b[0m\u001b[1;33m(\u001b[0m\u001b[1;33m)\u001b[0m \u001b[1;32mas\u001b[0m \u001b[0msession\u001b[0m\u001b[1;33m:\u001b[0m\u001b[1;33m\u001b[0m\u001b[1;33m\u001b[0m\u001b[0m\n\u001b[1;32m---> 61\u001b[1;33m         \u001b[1;32mreturn\u001b[0m \u001b[0msession\u001b[0m\u001b[1;33m.\u001b[0m\u001b[0mrequest\u001b[0m\u001b[1;33m(\u001b[0m\u001b[0mmethod\u001b[0m\u001b[1;33m=\u001b[0m\u001b[0mmethod\u001b[0m\u001b[1;33m,\u001b[0m \u001b[0murl\u001b[0m\u001b[1;33m=\u001b[0m\u001b[0murl\u001b[0m\u001b[1;33m,\u001b[0m \u001b[1;33m**\u001b[0m\u001b[0mkwargs\u001b[0m\u001b[1;33m)\u001b[0m\u001b[1;33m\u001b[0m\u001b[1;33m\u001b[0m\u001b[0m\n\u001b[0m\u001b[0;32m     62\u001b[0m \u001b[1;33m\u001b[0m\u001b[0m\n\u001b[0;32m     63\u001b[0m \u001b[1;33m\u001b[0m\u001b[0m\n",
      "\u001b[1;31mTypeError\u001b[0m: request() got an unexpected keyword argument 'header'"
     ]
    }
   ],
   "source": [
    "r = requests.get(target_url, header=head)"
   ]
  },
  {
   "cell_type": "code",
   "execution_count": null,
   "id": "dcfb8237-d6c8-4014-af71-f1fa9ec2ab14",
   "metadata": {},
   "outputs": [],
   "source": []
  }
 ],
 "metadata": {
  "kernelspec": {
   "display_name": "Python 3",
   "language": "python",
   "name": "python3"
  },
  "language_info": {
   "codemirror_mode": {
    "name": "ipython",
    "version": 3
   },
   "file_extension": ".py",
   "mimetype": "text/x-python",
   "name": "python",
   "nbconvert_exporter": "python",
   "pygments_lexer": "ipython3",
   "version": "3.8.8"
  }
 },
 "nbformat": 4,
 "nbformat_minor": 5
}
