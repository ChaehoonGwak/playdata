{
 "cells": [
  {
   "cell_type": "code",
   "execution_count": 5,
   "id": "0fb936ee-60ea-48aa-a980-438c1f49e0c4",
   "metadata": {},
   "outputs": [],
   "source": [
    "name = ['Tom', 'Jerry', 'Mike', 'Tom', 'Mike', 'tom', 'tOm']"
   ]
  },
  {
   "cell_type": "code",
   "execution_count": 40,
   "id": "e3c7d6b9-b369-43cd-b878-78d12d2a917e",
   "metadata": {},
   "outputs": [],
   "source": [
    "def search(name):\n",
    "    result = set()\n",
    "    n = len(name)\n",
    "    name = [x.lower() for x in name]\n",
    "    for i in range(0, n-1):\n",
    "        for j in range(i+1, n):\n",
    "            if name[i] == name[j]:\n",
    "                result.add(name[i])\n",
    "    return list(result) #동명이인 리스트\n"
   ]
  },
  {
   "cell_type": "code",
   "execution_count": 41,
   "id": "a8db0fd9-0ab2-4cd8-b339-6df9bd252df3",
   "metadata": {},
   "outputs": [
    {
     "name": "stdout",
     "output_type": "stream",
     "text": [
      "['mike', 'tom']\n"
     ]
    }
   ],
   "source": [
    "print(search(name))"
   ]
  },
  {
   "cell_type": "code",
   "execution_count": null,
   "id": "94ddcc67-61b6-4d6c-a3a5-f13d690b1f2f",
   "metadata": {},
   "outputs": [],
   "source": []
  },
  {
   "cell_type": "code",
   "execution_count": null,
   "id": "3be1bf79-e9fe-4beb-9b06-783a1a3cf035",
   "metadata": {},
   "outputs": [],
   "source": []
  },
  {
   "cell_type": "code",
   "execution_count": null,
   "id": "f4891ac9-452a-4483-ad4a-9ead15190111",
   "metadata": {},
   "outputs": [],
   "source": [
    "total = {}\n",
    "total{'50298' : {\n",
    "    '선수명' : '정은재', # 키값:선수명 : 밸류값: 정은재\n",
    "    '등번호' : 'No.102',\n",
    "    '입단년도' : ''\n",
    "                }\n",
    "      '77777'   {\n",
    "          \n",
    "                }\n",
    "}"
   ]
  },
  {
   "cell_type": "code",
   "execution_count": null,
   "id": "ba677b54-4e03-48dd-8abe-81eea4665d5f",
   "metadata": {},
   "outputs": [],
   "source": []
  },
  {
   "cell_type": "code",
   "execution_count": 45,
   "id": "3f61e6a3-510b-41a6-aaf7-cb77766136e0",
   "metadata": {},
   "outputs": [],
   "source": [
    "import requests\n",
    "from bs4 import BeautifulSoup\n",
    "import os\n",
    "import pickle"
   ]
  },
  {
   "cell_type": "code",
   "execution_count": null,
   "id": "67f80623-5819-4cdb-8d0b-373e212c201b",
   "metadata": {},
   "outputs": [],
   "source": []
  },
  {
   "cell_type": "code",
   "execution_count": 46,
   "id": "fa5bde5e-9adc-450c-9ba9-f9a38eaa3e93",
   "metadata": {},
   "outputs": [],
   "source": [
    "with open(\"./kbo.pkl\", \"rb\") as f:\n",
    "    id = pickle.load(f)"
   ]
  },
  {
   "cell_type": "code",
   "execution_count": 176,
   "id": "24cff981-d953-40a5-a664-5a2891fd1c1a",
   "metadata": {
    "tags": []
   },
   "outputs": [
    {
     "data": {
      "text/plain": [
       "['51725']"
      ]
     },
     "execution_count": 176,
     "metadata": {},
     "output_type": "execute_result"
    }
   ],
   "source": [
    "id[-1:]"
   ]
  },
  {
   "cell_type": "code",
   "execution_count": null,
   "id": "043e1905-f9f8-477e-95be-494b14622727",
   "metadata": {},
   "outputs": [],
   "source": []
  },
  {
   "cell_type": "code",
   "execution_count": 49,
   "id": "993b8440-7cc0-4eed-ba7c-b83852a1d2e8",
   "metadata": {},
   "outputs": [],
   "source": [
    "url = [\"https://www.koreabaseball.com/Record/Player/HitterDetail/Basic.aspx?playerId={}\".format(i) for i in id]"
   ]
  },
  {
   "cell_type": "code",
   "execution_count": 194,
   "id": "6e26e277-90c1-43bf-a738-4d2beef84c43",
   "metadata": {},
   "outputs": [],
   "source": [
    "pList = {}"
   ]
  },
  {
   "cell_type": "code",
   "execution_count": 195,
   "id": "eb77fae9-4edd-42cc-8e04-334eb9c62458",
   "metadata": {},
   "outputs": [],
   "source": [
    "pInfo = {}"
   ]
  },
  {
   "cell_type": "code",
   "execution_count": 196,
   "id": "13e56f88-5e78-4cac-b1fb-8b7e64c77461",
   "metadata": {},
   "outputs": [],
   "source": [
    "for idx, i in enumerate(url):\n",
    "    r = requests.get(i)\n",
    "    bs = BeautifulSoup(r.text)\n",
    "    \n",
    "    pInfo = {}\n",
    "    pInfo['선수명'] = (bs.find(\"span\", id =\"cphContents_cphContents_cphContents_playerProfile_lblName\").text)\n",
    "    pInfo['등번호'] = (bs.find(\"span\", id =\"cphContents_cphContents_cphContents_playerProfile_lblBackNo\").text)\n",
    "    pInfo['생년월일'] = (bs.find(\"span\", id =\"cphContents_cphContents_cphContents_playerProfile_lblBirthday\").text)\n",
    "    pInfo['포지션'] = (bs.find(\"span\", id =\"cphContents_cphContents_cphContents_playerProfile_lblPosition\").text)\n",
    "    pInfo['신장/체중'] = (bs.find(\"span\", id =\"cphContents_cphContents_cphContents_playerProfile_lblHeightWeight\").text)\n",
    "    pInfo['경력'] = (bs.find(\"span\", id =\"cphContents_cphContents_cphContents_playerProfile_lblCareer\").text)\n",
    "    pInfo['입단 계약금'] = (bs.find(\"span\", id =\"cphContents_cphContents_cphContents_playerProfile_lblPayment\").text)\n",
    "    pInfo['연봉'] = (bs.find(\"span\", id =\"cphContents_cphContents_cphContents_playerProfile_lblSalary\").text)\n",
    "    pInfo['지명순위'] = (bs.find(\"span\", id =\"cphContents_cphContents_cphContents_playerProfile_lblDraft\").text)\n",
    "    pInfo['입단년도'] = (bs.find(\"span\", id =\"cphContents_cphContents_cphContents_playerProfile_lblJoinInfo\").text)\n",
    "\n",
    "    pList['{}'.format(id[idx])] = pInfo\n",
    "\n",
    "    "
   ]
  },
  {
   "cell_type": "code",
   "execution_count": 217,
   "id": "f5d82dbb-991b-4735-bc8d-1ff1146bc094",
   "metadata": {},
   "outputs": [
    {
     "data": {
      "text/plain": [
       "857"
      ]
     },
     "execution_count": 217,
     "metadata": {},
     "output_type": "execute_result"
    }
   ],
   "source": [
    "len(pList)"
   ]
  },
  {
   "cell_type": "code",
   "execution_count": 201,
   "id": "5b14c9f0-c6be-4f5a-bf0c-0b57c062a8de",
   "metadata": {},
   "outputs": [
    {
     "data": {
      "text/plain": [
       "2"
      ]
     },
     "execution_count": 201,
     "metadata": {},
     "output_type": "execute_result"
    }
   ],
   "source": [
    "len(a)"
   ]
  },
  {
   "cell_type": "code",
   "execution_count": 334,
   "id": "7e5d60d8-d944-44f2-b1d2-8b707b8f8964",
   "metadata": {},
   "outputs": [
    {
     "ename": "TypeError",
     "evalue": "'dict_keys' object is not subscriptable",
     "output_type": "error",
     "traceback": [
      "\u001b[1;31m---------------------------------------------------------------------------\u001b[0m",
      "\u001b[1;31mTypeError\u001b[0m                                 Traceback (most recent call last)",
      "\u001b[1;32m<ipython-input-334-9244ae4b9c6b>\u001b[0m in \u001b[0;36m<module>\u001b[1;34m\u001b[0m\n\u001b[0;32m      9\u001b[0m     \u001b[1;32melse\u001b[0m\u001b[1;33m:\u001b[0m\u001b[1;33m\u001b[0m\u001b[1;33m\u001b[0m\u001b[0m\n\u001b[0;32m     10\u001b[0m         \u001b[0msalary\u001b[0m \u001b[1;33m=\u001b[0m \u001b[0mint\u001b[0m\u001b[1;33m(\u001b[0m\u001b[0mre\u001b[0m\u001b[1;33m.\u001b[0m\u001b[0msub\u001b[0m\u001b[1;33m(\u001b[0m\u001b[1;34mr'[^0-9]'\u001b[0m\u001b[1;33m,\u001b[0m \u001b[1;34m''\u001b[0m\u001b[1;33m,\u001b[0m \u001b[0mtempSalary\u001b[0m\u001b[1;33m)\u001b[0m\u001b[1;33m)\u001b[0m \u001b[1;33m*\u001b[0m \u001b[1;36m10000\u001b[0m\u001b[1;33m\u001b[0m\u001b[1;33m\u001b[0m\u001b[0m\n\u001b[1;32m---> 11\u001b[1;33m     \u001b[0mprint\u001b[0m\u001b[1;33m(\u001b[0m\u001b[0mpList\u001b[0m\u001b[1;33m[\u001b[0m\u001b[0mi\u001b[0m\u001b[1;33m]\u001b[0m\u001b[1;33m.\u001b[0m\u001b[0mkeys\u001b[0m\u001b[1;33m(\u001b[0m\u001b[1;33m)\u001b[0m\u001b[1;33m[\u001b[0m\u001b[1;36m0\u001b[0m\u001b[1;33m]\u001b[0m\u001b[1;33m)\u001b[0m\u001b[1;33m\u001b[0m\u001b[1;33m\u001b[0m\u001b[0m\n\u001b[0m\u001b[0;32m     12\u001b[0m     \u001b[0msalaryTable\u001b[0m\u001b[1;33m[\u001b[0m\u001b[1;34m'{}'\u001b[0m\u001b[1;33m.\u001b[0m\u001b[0mformat\u001b[0m\u001b[1;33m(\u001b[0m\u001b[0mpList\u001b[0m\u001b[1;33m[\u001b[0m\u001b[0mi\u001b[0m\u001b[1;33m]\u001b[0m\u001b[1;33m[\u001b[0m\u001b[1;34m'선수명'\u001b[0m\u001b[1;33m]\u001b[0m\u001b[1;33m)\u001b[0m\u001b[1;33m]\u001b[0m \u001b[1;33m=\u001b[0m \u001b[0msalary\u001b[0m\u001b[1;33m\u001b[0m\u001b[1;33m\u001b[0m\u001b[0m\n\u001b[0;32m     13\u001b[0m \u001b[1;33m\u001b[0m\u001b[0m\n",
      "\u001b[1;31mTypeError\u001b[0m: 'dict_keys' object is not subscriptable"
     ]
    }
   ],
   "source": [
    "import re\n",
    "salaryTable = {}\n",
    "for i in pList.keys():\n",
    "    tempSalary = pList[i]['연봉']\n",
    "    if tempSalary.find('달러') > 0:\n",
    "        salary = int(re.sub(r'[^0-9]', '', tempSalary)) * 1100\n",
    "    elif tempSalary == '':\n",
    "            salary = 0\n",
    "    else:\n",
    "        salary = int(re.sub(r'[^0-9]', '', tempSalary)) * 10000\n",
    "    salaryTable['{}'.format(pList[i]['선수명'])] = salary\n",
    "\n",
    "topSalary = sorted(salaryTable.items(), key=lambda x:x[1], reverse=True)\n",
    "print(topSalary[0])"
   ]
  },
  {
   "cell_type": "code",
   "execution_count": 289,
   "id": "104caecf-2cc1-45fa-81aa-18883903f817",
   "metadata": {},
   "outputs": [
    {
     "ename": "TypeError",
     "evalue": "descriptor 'items' of 'dict' object needs an argument",
     "output_type": "error",
     "traceback": [
      "\u001b[1;31m---------------------------------------------------------------------------\u001b[0m",
      "\u001b[1;31mTypeError\u001b[0m                                 Traceback (most recent call last)",
      "\u001b[1;32m<ipython-input-289-bae9e608dbd0>\u001b[0m in \u001b[0;36m<module>\u001b[1;34m\u001b[0m\n\u001b[0;32m      1\u001b[0m \u001b[1;31m#sorted(dict.items(), key=lambda x: x[1], reverse = True)\u001b[0m\u001b[1;33m\u001b[0m\u001b[1;33m\u001b[0m\u001b[1;33m\u001b[0m\u001b[0m\n\u001b[1;32m----> 2\u001b[1;33m \u001b[0msdict\u001b[0m \u001b[1;33m=\u001b[0m \u001b[0msorted\u001b[0m\u001b[1;33m(\u001b[0m\u001b[0mdict\u001b[0m\u001b[1;33m.\u001b[0m\u001b[0mitems\u001b[0m\u001b[1;33m(\u001b[0m\u001b[1;33m)\u001b[0m\u001b[1;33m,\u001b[0m \u001b[0mkey\u001b[0m\u001b[1;33m=\u001b[0m\u001b[1;32mlambda\u001b[0m \u001b[0mx\u001b[0m\u001b[1;33m:\u001b[0m\u001b[0mx\u001b[0m\u001b[1;33m[\u001b[0m\u001b[1;36m1\u001b[0m\u001b[1;33m]\u001b[0m\u001b[1;33m,\u001b[0m \u001b[0mreverse\u001b[0m\u001b[1;33m=\u001b[0m\u001b[1;32mTrue\u001b[0m\u001b[1;33m)\u001b[0m\u001b[1;33m\u001b[0m\u001b[1;33m\u001b[0m\u001b[0m\n\u001b[0m",
      "\u001b[1;31mTypeError\u001b[0m: descriptor 'items' of 'dict' object needs an argument"
     ]
    }
   ],
   "source": []
  },
  {
   "cell_type": "code",
   "execution_count": null,
   "id": "70a1e1d2-15c4-49c6-b52f-69793c64e8f1",
   "metadata": {},
   "outputs": [],
   "source": []
  }
 ],
 "metadata": {
  "kernelspec": {
   "display_name": "Python 3",
   "language": "python",
   "name": "python3"
  },
  "language_info": {
   "codemirror_mode": {
    "name": "ipython",
    "version": 3
   },
   "file_extension": ".py",
   "mimetype": "text/x-python",
   "name": "python",
   "nbconvert_exporter": "python",
   "pygments_lexer": "ipython3",
   "version": "3.8.8"
  }
 },
 "nbformat": 4,
 "nbformat_minor": 5
}
