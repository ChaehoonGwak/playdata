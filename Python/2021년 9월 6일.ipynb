{
 "cells": [
  {
   "cell_type": "code",
   "execution_count": 2,
   "id": "f8eac6be-53ab-4376-a3ca-296d4cb7df3d",
   "metadata": {},
   "outputs": [],
   "source": [
    "from bs4 import BeautifulSoup as BS"
   ]
  },
  {
   "cell_type": "code",
   "execution_count": 4,
   "id": "d5da08a0-7aa3-42dd-bb5d-b4cb0624e427",
   "metadata": {
    "collapsed": true,
    "jupyter": {
     "outputs_hidden": true
    },
    "tags": []
   },
   "outputs": [
    {
     "data": {
      "text/plain": [
       "['ASCII_SPACES',\n",
       " 'DEFAULT_BUILDER_FEATURES',\n",
       " 'HTML_FORMATTERS',\n",
       " 'NO_PARSER_SPECIFIED_WARNING',\n",
       " 'ROOT_TAG_NAME',\n",
       " 'XML_FORMATTERS',\n",
       " '__bool__',\n",
       " '__call__',\n",
       " '__class__',\n",
       " '__contains__',\n",
       " '__copy__',\n",
       " '__delattr__',\n",
       " '__delitem__',\n",
       " '__dict__',\n",
       " '__dir__',\n",
       " '__doc__',\n",
       " '__eq__',\n",
       " '__format__',\n",
       " '__ge__',\n",
       " '__getattr__',\n",
       " '__getattribute__',\n",
       " '__getitem__',\n",
       " '__getstate__',\n",
       " '__gt__',\n",
       " '__hash__',\n",
       " '__init__',\n",
       " '__init_subclass__',\n",
       " '__iter__',\n",
       " '__le__',\n",
       " '__len__',\n",
       " '__lt__',\n",
       " '__module__',\n",
       " '__ne__',\n",
       " '__new__',\n",
       " '__reduce__',\n",
       " '__reduce_ex__',\n",
       " '__repr__',\n",
       " '__setattr__',\n",
       " '__setitem__',\n",
       " '__sizeof__',\n",
       " '__str__',\n",
       " '__subclasshook__',\n",
       " '__unicode__',\n",
       " '__weakref__',\n",
       " '_all_strings',\n",
       " '_attr_value_as_string',\n",
       " '_attribute_checker',\n",
       " '_check_markup_is_url',\n",
       " '_feed',\n",
       " '_find_all',\n",
       " '_find_one',\n",
       " '_formatter_for_name',\n",
       " '_is_xml',\n",
       " '_lastRecursiveChild',\n",
       " '_last_descendant',\n",
       " '_popToTag',\n",
       " '_select_debug',\n",
       " '_selector_combinators',\n",
       " '_should_pretty_print',\n",
       " '_tag_name_matches_and',\n",
       " 'append',\n",
       " 'attribselect_re',\n",
       " 'childGenerator',\n",
       " 'children',\n",
       " 'clear',\n",
       " 'decode',\n",
       " 'decode_contents',\n",
       " 'decompose',\n",
       " 'descendants',\n",
       " 'encode',\n",
       " 'encode_contents',\n",
       " 'endData',\n",
       " 'extract',\n",
       " 'fetchNextSiblings',\n",
       " 'fetchParents',\n",
       " 'fetchPrevious',\n",
       " 'fetchPreviousSiblings',\n",
       " 'find',\n",
       " 'findAll',\n",
       " 'findAllNext',\n",
       " 'findAllPrevious',\n",
       " 'findChild',\n",
       " 'findChildren',\n",
       " 'findNext',\n",
       " 'findNextSibling',\n",
       " 'findNextSiblings',\n",
       " 'findParent',\n",
       " 'findParents',\n",
       " 'findPrevious',\n",
       " 'findPreviousSibling',\n",
       " 'findPreviousSiblings',\n",
       " 'find_all',\n",
       " 'find_all_next',\n",
       " 'find_all_previous',\n",
       " 'find_next',\n",
       " 'find_next_sibling',\n",
       " 'find_next_siblings',\n",
       " 'find_parent',\n",
       " 'find_parents',\n",
       " 'find_previous',\n",
       " 'find_previous_sibling',\n",
       " 'find_previous_siblings',\n",
       " 'format_string',\n",
       " 'get',\n",
       " 'getText',\n",
       " 'get_attribute_list',\n",
       " 'get_text',\n",
       " 'handle_data',\n",
       " 'handle_endtag',\n",
       " 'handle_starttag',\n",
       " 'has_attr',\n",
       " 'has_key',\n",
       " 'index',\n",
       " 'insert',\n",
       " 'insert_after',\n",
       " 'insert_before',\n",
       " 'isSelfClosing',\n",
       " 'is_empty_element',\n",
       " 'new_string',\n",
       " 'new_tag',\n",
       " 'next',\n",
       " 'nextGenerator',\n",
       " 'nextSibling',\n",
       " 'nextSiblingGenerator',\n",
       " 'next_elements',\n",
       " 'next_siblings',\n",
       " 'object_was_parsed',\n",
       " 'parentGenerator',\n",
       " 'parents',\n",
       " 'parserClass',\n",
       " 'popTag',\n",
       " 'prettify',\n",
       " 'previous',\n",
       " 'previousGenerator',\n",
       " 'previousSibling',\n",
       " 'previousSiblingGenerator',\n",
       " 'previous_elements',\n",
       " 'previous_siblings',\n",
       " 'pushTag',\n",
       " 'quoted_colon',\n",
       " 'recursiveChildGenerator',\n",
       " 'renderContents',\n",
       " 'replaceWith',\n",
       " 'replaceWithChildren',\n",
       " 'replace_with',\n",
       " 'replace_with_children',\n",
       " 'reset',\n",
       " 'select',\n",
       " 'select_one',\n",
       " 'setup',\n",
       " 'string',\n",
       " 'strings',\n",
       " 'stripped_strings',\n",
       " 'tag_name_re',\n",
       " 'text',\n",
       " 'unwrap',\n",
       " 'wrap']"
      ]
     },
     "execution_count": 4,
     "metadata": {},
     "output_type": "execute_result"
    }
   ],
   "source": [
    "dir(BS) # 가이드"
   ]
  },
  {
   "cell_type": "code",
   "execution_count": 34,
   "id": "e8fd2aed-3f6d-47d4-bf03-d2cfd433ff1b",
   "metadata": {},
   "outputs": [
    {
     "name": "stdout",
     "output_type": "stream",
     "text": [
      "2\n"
     ]
    }
   ],
   "source": [
    "def gcd(m, n):\n",
    "    if n == 0: \n",
    "        print(m)\n",
    "        return\n",
    "    elif m % n == 0: \n",
    "        print(n)\n",
    "        return\n",
    "    else: gcd(m%n, m)\n",
    "#12,5\n",
    "\n",
    "\n",
    "gcd(m, n)"
   ]
  },
  {
   "cell_type": "code",
   "execution_count": 38,
   "id": "06da5879-9a32-4fb8-ad3e-4a0f6aa79226",
   "metadata": {},
   "outputs": [],
   "source": [
    "import datetime"
   ]
  },
  {
   "cell_type": "code",
   "execution_count": 40,
   "id": "c838f487-df42-424a-8e27-cf50b46ed2e6",
   "metadata": {},
   "outputs": [],
   "source": [
    "# datetime, date, timedelta"
   ]
  },
  {
   "cell_type": "code",
   "execution_count": 45,
   "id": "33959b10-62ea-4eaf-ac9f-5717706d7db1",
   "metadata": {},
   "outputs": [
    {
     "data": {
      "text/plain": [
       "datetime.datetime(2021, 9, 6, 10, 49, 13, 519303)"
      ]
     },
     "execution_count": 45,
     "metadata": {},
     "output_type": "execute_result"
    }
   ],
   "source": [
    "datetime.datetime.now()"
   ]
  },
  {
   "cell_type": "code",
   "execution_count": 43,
   "id": "30596d50-ba02-430e-bdf9-36a4baeeb9ba",
   "metadata": {},
   "outputs": [],
   "source": [
    "from datetime import datetime, date, timedelta"
   ]
  },
  {
   "cell_type": "code",
   "execution_count": 44,
   "id": "8fba2d31-5359-4dca-9ef5-1f8832464fca",
   "metadata": {},
   "outputs": [
    {
     "data": {
      "text/plain": [
       "datetime.datetime(2021, 9, 6, 10, 49, 8, 372676)"
      ]
     },
     "execution_count": 44,
     "metadata": {},
     "output_type": "execute_result"
    }
   ],
   "source": [
    "datetime.now()"
   ]
  },
  {
   "cell_type": "code",
   "execution_count": 46,
   "id": "0f12714d-1648-4371-86f1-e3e22b512fad",
   "metadata": {},
   "outputs": [
    {
     "data": {
      "text/plain": [
       "datetime.date(2021, 9, 6)"
      ]
     },
     "execution_count": 46,
     "metadata": {},
     "output_type": "execute_result"
    }
   ],
   "source": [
    "date.today()"
   ]
  },
  {
   "cell_type": "code",
   "execution_count": 55,
   "id": "b1216674-835a-44fe-86a3-8dea9a292bf9",
   "metadata": {},
   "outputs": [
    {
     "data": {
      "text/plain": [
       "datetime.datetime(2021, 9, 6, 10, 51)"
      ]
     },
     "execution_count": 55,
     "metadata": {},
     "output_type": "execute_result"
    }
   ],
   "source": [
    "# %Y -> 4자리 연도\n",
    "# %m -> 2자리 월\n",
    "# %d -> 두자리 일\n",
    "# %H -> 시간\n",
    "# %M -> 분\n",
    "# %S -> 초\n",
    "datetime.strptime(\"21-09-06 10:51\", \"%y-%m-%d %H:%M\")"
   ]
  },
  {
   "cell_type": "code",
   "execution_count": 60,
   "id": "54c33c5b-b820-425e-b346-e86fe1e00d08",
   "metadata": {},
   "outputs": [],
   "source": [
    "now = datetime.now()"
   ]
  },
  {
   "cell_type": "code",
   "execution_count": 63,
   "id": "663146dc-249a-408d-b706-8ace8e1b2a2c",
   "metadata": {},
   "outputs": [
    {
     "data": {
      "text/plain": [
       "'09-06/2021 10:57:07'"
      ]
     },
     "execution_count": 63,
     "metadata": {},
     "output_type": "execute_result"
    }
   ],
   "source": [
    "now.strftime(\"%m-%d/%Y %H:%M:%S\")"
   ]
  },
  {
   "cell_type": "code",
   "execution_count": 57,
   "id": "0da25b59-a007-49d6-8e30-161edd9f1747",
   "metadata": {},
   "outputs": [
    {
     "data": {
      "text/plain": [
       "datetime.datetime(2021, 12, 15, 10, 55, 24, 93214)"
      ]
     },
     "execution_count": 57,
     "metadata": {},
     "output_type": "execute_result"
    }
   ],
   "source": [
    "now + timedelta(days=100)"
   ]
  },
  {
   "cell_type": "code",
   "execution_count": 68,
   "id": "a3a0c585-0b83-4d12-b27a-da0ddde5b792",
   "metadata": {},
   "outputs": [
    {
     "data": {
      "text/plain": [
       "datetime.timedelta(days=-192)"
      ]
     },
     "execution_count": 68,
     "metadata": {},
     "output_type": "execute_result"
    }
   ],
   "source": [
    "date.fromisoformat('2021-02-26') - date.today()"
   ]
  },
  {
   "cell_type": "code",
   "execution_count": 70,
   "id": "7f8ef2a6-4620-4be0-add4-98185c53d490",
   "metadata": {},
   "outputs": [
    {
     "ename": "TypeError",
     "evalue": "unsupported operand type(s) for +: 'datetime.date' and 'int'",
     "output_type": "error",
     "traceback": [
      "\u001b[1;31m---------------------------------------------------------------------------\u001b[0m",
      "\u001b[1;31mTypeError\u001b[0m                                 Traceback (most recent call last)",
      "\u001b[1;32m<ipython-input-70-e7c1ec32447d>\u001b[0m in \u001b[0;36m<module>\u001b[1;34m\u001b[0m\n\u001b[1;32m----> 1\u001b[1;33m \u001b[0mdate\u001b[0m\u001b[1;33m.\u001b[0m\u001b[0mtoday\u001b[0m\u001b[1;33m(\u001b[0m\u001b[1;33m)\u001b[0m\u001b[1;33m+\u001b[0m\u001b[1;36m1\u001b[0m\u001b[1;33m\u001b[0m\u001b[1;33m\u001b[0m\u001b[0m\n\u001b[0m",
      "\u001b[1;31mTypeError\u001b[0m: unsupported operand type(s) for +: 'datetime.date' and 'int'"
     ]
    }
   ],
   "source": []
  },
  {
   "cell_type": "code",
   "execution_count": null,
   "id": "92ad6331-84a4-450e-ada8-f61ad8e335ba",
   "metadata": {},
   "outputs": [],
   "source": []
  },
  {
   "cell_type": "code",
   "execution_count": 71,
   "id": "9ed6c00a-bf3f-4de3-894c-8b05c303fbf7",
   "metadata": {},
   "outputs": [
    {
     "ename": "SyntaxError",
     "evalue": "unexpected EOF while parsing (<ipython-input-71-c4651e4d11ad>, line 5)",
     "output_type": "error",
     "traceback": [
      "\u001b[1;36m  File \u001b[1;32m\"<ipython-input-71-c4651e4d11ad>\"\u001b[1;36m, line \u001b[1;32m5\u001b[0m\n\u001b[1;33m    # 특정날짜로부터 1000일 뒤는 ~\u001b[0m\n\u001b[1;37m                        ^\u001b[0m\n\u001b[1;31mSyntaxError\u001b[0m\u001b[1;31m:\u001b[0m unexpected EOF while parsing\n"
     ]
    }
   ],
   "source": [
    "\n",
    "def anniversary(특정날짜):\n",
    "    # 100, 200, ~ , 1000\n",
    "    # 특정날짜로부터 100일뒤는 {} {} 입니다.\n",
    "    # ~\n",
    "    # 특정날짜로부터 1000일 뒤는 ~"
   ]
  },
  {
   "cell_type": "code",
   "execution_count": 144,
   "id": "b2739fc1-1f8e-44e9-a06e-db7f77038b76",
   "metadata": {},
   "outputs": [
    {
     "ename": "AttributeError",
     "evalue": "'str' object has no attribute 'fromisoformat'",
     "output_type": "error",
     "traceback": [
      "\u001b[1;31m---------------------------------------------------------------------------\u001b[0m",
      "\u001b[1;31mAttributeError\u001b[0m                            Traceback (most recent call last)",
      "\u001b[1;32m<ipython-input-144-50a189d84116>\u001b[0m in \u001b[0;36m<module>\u001b[1;34m\u001b[0m\n\u001b[0;32m     16\u001b[0m         \u001b[0mprint\u001b[0m\u001b[1;33m(\u001b[0m\u001b[1;34m'{}로부터 {}일 뒤는 {} {} 입니다.'\u001b[0m\u001b[1;33m.\u001b[0m\u001b[0mformat\u001b[0m\u001b[1;33m(\u001b[0m\u001b[0mdate\u001b[0m\u001b[1;33m,\u001b[0m \u001b[0md\u001b[0m\u001b[1;33m*\u001b[0m\u001b[0mi\u001b[0m\u001b[1;33m,\u001b[0m \u001b[0mdday\u001b[0m\u001b[1;33m,\u001b[0m \u001b[0mday\u001b[0m\u001b[1;33m)\u001b[0m\u001b[1;33m)\u001b[0m\u001b[1;33m\u001b[0m\u001b[1;33m\u001b[0m\u001b[0m\n\u001b[0;32m     17\u001b[0m \u001b[1;33m\u001b[0m\u001b[0m\n\u001b[1;32m---> 18\u001b[1;33m \u001b[0manniversary\u001b[0m\u001b[1;33m(\u001b[0m\u001b[1;34m\"2021-02-26\"\u001b[0m\u001b[1;33m)\u001b[0m\u001b[1;33m\u001b[0m\u001b[1;33m\u001b[0m\u001b[0m\n\u001b[0m",
      "\u001b[1;32m<ipython-input-144-50a189d84116>\u001b[0m in \u001b[0;36manniversary\u001b[1;34m(date)\u001b[0m\n\u001b[0;32m      1\u001b[0m \u001b[1;32mdef\u001b[0m \u001b[0manniversary\u001b[0m\u001b[1;33m(\u001b[0m\u001b[0mdate\u001b[0m\u001b[1;33m)\u001b[0m\u001b[1;33m:\u001b[0m\u001b[1;33m\u001b[0m\u001b[1;33m\u001b[0m\u001b[0m\n\u001b[1;32m----> 2\u001b[1;33m     \u001b[0mdate\u001b[0m \u001b[1;33m=\u001b[0m \u001b[0mdate\u001b[0m\u001b[1;33m.\u001b[0m\u001b[0mfromisoformat\u001b[0m\u001b[1;33m(\u001b[0m\u001b[0mdate\u001b[0m\u001b[1;33m)\u001b[0m\u001b[1;33m\u001b[0m\u001b[1;33m\u001b[0m\u001b[0m\n\u001b[0m\u001b[0;32m      3\u001b[0m     \u001b[0md\u001b[0m \u001b[1;33m=\u001b[0m \u001b[1;36m100\u001b[0m\u001b[1;33m\u001b[0m\u001b[1;33m\u001b[0m\u001b[0m\n\u001b[0;32m      4\u001b[0m     \u001b[1;32mfor\u001b[0m \u001b[0mi\u001b[0m \u001b[1;32min\u001b[0m \u001b[0mrange\u001b[0m\u001b[1;33m(\u001b[0m\u001b[1;36m1\u001b[0m\u001b[1;33m,\u001b[0m\u001b[1;36m11\u001b[0m\u001b[1;33m)\u001b[0m\u001b[1;33m:\u001b[0m\u001b[1;33m\u001b[0m\u001b[1;33m\u001b[0m\u001b[0m\n\u001b[0;32m      5\u001b[0m         \u001b[0mdday\u001b[0m \u001b[1;33m=\u001b[0m \u001b[0mdate\u001b[0m\u001b[1;33m+\u001b[0m\u001b[0mtimedelta\u001b[0m\u001b[1;33m(\u001b[0m\u001b[0mdays\u001b[0m\u001b[1;33m=\u001b[0m\u001b[0md\u001b[0m\u001b[1;33m*\u001b[0m\u001b[0mi\u001b[0m\u001b[1;33m)\u001b[0m\u001b[1;33m\u001b[0m\u001b[1;33m\u001b[0m\u001b[0m\n",
      "\u001b[1;31mAttributeError\u001b[0m: 'str' object has no attribute 'fromisoformat'"
     ]
    }
   ],
   "source": [
    "def anniversary(date):\n",
    "    date = date.fromisoformat(date)\n",
    "    d = 100\n",
    "    for i in range(1,11):\n",
    "        dday = date+timedelta(days=d*i)\n",
    "        day = dday.weekday()\n",
    "        if dday.weekday() == 0: day = '월요일'\n",
    "        elif dday.weekday() == 1: day = '화요일'\n",
    "        elif dday.weekday() == 2: day = '수요일'\n",
    "        elif dday.weekday() == 3: day = '목요일'\n",
    "        elif dday.weekday() == 4: day = '금요일'\n",
    "        elif dday.weekday() == 5: day = '토요일'\n",
    "        elif dday.weekday() == 6: day = '일요일'\n",
    "        \n",
    "        (date.today()+timedelta(days=100)).weekday()\n",
    "        print('{}로부터 {}일 뒤는 {} {} 입니다.'.format(date, d*i, dday, day))\n",
    "    \n",
    "anniversary(\"2021-02-26\")"
   ]
  },
  {
   "cell_type": "code",
   "execution_count": 72,
   "id": "a4ca758b-b08e-4dc7-8aab-f0750dbbb86d",
   "metadata": {},
   "outputs": [
    {
     "data": {
      "text/plain": [
       "datetime.date(2021, 12, 15)"
      ]
     },
     "execution_count": 72,
     "metadata": {},
     "output_type": "execute_result"
    }
   ],
   "source": [
    "date.today()+ timedelta(days=100)"
   ]
  },
  {
   "cell_type": "code",
   "execution_count": 74,
   "id": "26b18cb0-8f4c-4b06-b0ce-94d5483b883c",
   "metadata": {},
   "outputs": [
    {
     "data": {
      "text/plain": [
       "2"
      ]
     },
     "execution_count": 74,
     "metadata": {},
     "output_type": "execute_result"
    }
   ],
   "source": [
    "(date.today()+timedelta(days=100)).weekday()"
   ]
  },
  {
   "cell_type": "code",
   "execution_count": 84,
   "id": "0de110ac-16a5-4982-968b-5c93decdc179",
   "metadata": {},
   "outputs": [],
   "source": [
    "a = [x for x in range(0,7)]"
   ]
  },
  {
   "cell_type": "code",
   "execution_count": 85,
   "id": "caa65029-e7d1-4ee6-818d-41cbb949bc1e",
   "metadata": {},
   "outputs": [],
   "source": [
    "b = ['월', '화', '수', '목', '금', '토', '일']"
   ]
  },
  {
   "cell_type": "code",
   "execution_count": 88,
   "id": "3b1337c2-2aeb-4511-9b4a-d92f53a85db3",
   "metadata": {},
   "outputs": [],
   "source": [
    "wday = dict(zip(a,b))"
   ]
  },
  {
   "cell_type": "code",
   "execution_count": 89,
   "id": "d6194bad-8fbf-4282-9bfa-189723e49e8d",
   "metadata": {},
   "outputs": [
    {
     "data": {
      "text/plain": [
       "{0: '월', 1: '화', 2: '수', 3: '목', 4: '금', 5: '토', 6: '일'}"
      ]
     },
     "execution_count": 89,
     "metadata": {},
     "output_type": "execute_result"
    }
   ],
   "source": [
    "wday"
   ]
  },
  {
   "cell_type": "code",
   "execution_count": 94,
   "id": "05f5d295-2749-4f25-b9db-70393b7f2253",
   "metadata": {},
   "outputs": [],
   "source": [
    "a = [1,2,3]\n",
    "b = [11,22,33]\n",
    "c = [111,222,333]"
   ]
  },
  {
   "cell_type": "code",
   "execution_count": 95,
   "id": "52af7cea-2a9d-4e57-b163-cebef9b64b25",
   "metadata": {},
   "outputs": [
    {
     "name": "stdout",
     "output_type": "stream",
     "text": [
      "1 11 111\n",
      "2 22 222\n",
      "3 33 333\n"
     ]
    }
   ],
   "source": [
    "for x,y,z in zip(a,b,c):\n",
    "    print (x, y, z)"
   ]
  },
  {
   "cell_type": "code",
   "execution_count": 96,
   "id": "43ff9596-83e5-4fce-bc95-4b4293388631",
   "metadata": {},
   "outputs": [],
   "source": [
    "import collections"
   ]
  },
  {
   "cell_type": "code",
   "execution_count": 98,
   "id": "371b1058-0e2a-47d9-a1bc-cd3e47ccf57a",
   "metadata": {},
   "outputs": [],
   "source": [
    "c = collections.Counter()"
   ]
  },
  {
   "cell_type": "code",
   "execution_count": 101,
   "id": "17e2a573-1740-40ed-bb7b-d3a73de2b5b5",
   "metadata": {},
   "outputs": [
    {
     "data": {
      "text/plain": [
       "0"
      ]
     },
     "execution_count": 101,
     "metadata": {},
     "output_type": "execute_result"
    }
   ],
   "source": [
    "c['a']"
   ]
  },
  {
   "cell_type": "code",
   "execution_count": 102,
   "id": "13733bd6-9816-4447-8e9e-d4f5ec5775a7",
   "metadata": {},
   "outputs": [],
   "source": [
    "c['a'] "
   ]
  },
  {
   "cell_type": "code",
   "execution_count": 104,
   "id": "f9448144-c9bc-4f0a-b068-77551a5f1a4b",
   "metadata": {},
   "outputs": [],
   "source": [
    "c['k'] += 1"
   ]
  },
  {
   "cell_type": "code",
   "execution_count": 105,
   "id": "b3f35835-d26f-469e-8870-d286bfe0496a",
   "metadata": {},
   "outputs": [
    {
     "data": {
      "text/plain": [
       "Counter({'a': 1, 'k': 1})"
      ]
     },
     "execution_count": 105,
     "metadata": {},
     "output_type": "execute_result"
    }
   ],
   "source": [
    "c"
   ]
  },
  {
   "cell_type": "code",
   "execution_count": 106,
   "id": "749fa027-d46d-496d-ae4b-cc637f92444d",
   "metadata": {},
   "outputs": [],
   "source": [
    "import random"
   ]
  },
  {
   "cell_type": "code",
   "execution_count": null,
   "id": "a774d4c6-4407-487d-bea8-9bf3000fa824",
   "metadata": {},
   "outputs": [],
   "source": []
  },
  {
   "cell_type": "code",
   "execution_count": 120,
   "id": "1bd29941-aacc-4c63-a810-e120123d3932",
   "metadata": {},
   "outputs": [],
   "source": [
    "random.seed(10)\n",
    "data = [random.randrange(1, 100) for i in range(1000)]"
   ]
  },
  {
   "cell_type": "code",
   "execution_count": 121,
   "id": "299932c8-bda7-48a8-898b-9b497f7007a8",
   "metadata": {},
   "outputs": [],
   "source": [
    "rt = collections.Counter(data)"
   ]
  },
  {
   "cell_type": "code",
   "execution_count": 122,
   "id": "9cf25dae-08b3-46de-912b-d72bbe1b1fd2",
   "metadata": {},
   "outputs": [],
   "source": [
    "srt = sorted(rt.items(), key=lambda x:x[1], reverse=True)"
   ]
  },
  {
   "cell_type": "code",
   "execution_count": null,
   "id": "323a0c70-f2f9-4465-9c88-f968bfce37ec",
   "metadata": {},
   "outputs": [],
   "source": []
  },
  {
   "cell_type": "code",
   "execution_count": null,
   "id": "eecce1d7-777b-4768-95a3-da52999dd6cb",
   "metadata": {},
   "outputs": [],
   "source": []
  },
  {
   "cell_type": "code",
   "execution_count": 124,
   "id": "4a9167b8-f7cd-4c16-870b-c0051fc65a53",
   "metadata": {
    "tags": []
   },
   "outputs": [],
   "source": [
    "counter1 = collections.Counter(spam=1, ham=2)"
   ]
  },
  {
   "cell_type": "code",
   "execution_count": 125,
   "id": "a8763991-8338-437f-b7c3-4c03fb170a1a",
   "metadata": {},
   "outputs": [
    {
     "data": {
      "text/plain": [
       "Counter({'spam': 1, 'ham': 2})"
      ]
     },
     "execution_count": 125,
     "metadata": {},
     "output_type": "execute_result"
    }
   ],
   "source": [
    "counter1"
   ]
  },
  {
   "cell_type": "code",
   "execution_count": 126,
   "id": "ea915f7f-be03-4b96-8298-887efd2563cd",
   "metadata": {},
   "outputs": [],
   "source": [
    "counter2 = collections.Counter(ham=3, egg=4)"
   ]
  },
  {
   "cell_type": "code",
   "execution_count": 127,
   "id": "bfa0e077-980f-4862-8f31-5e9f24fb9f46",
   "metadata": {},
   "outputs": [
    {
     "data": {
      "text/plain": [
       "Counter({'ham': 3, 'egg': 4})"
      ]
     },
     "execution_count": 127,
     "metadata": {},
     "output_type": "execute_result"
    }
   ],
   "source": [
    "counter2"
   ]
  },
  {
   "cell_type": "code",
   "execution_count": 129,
   "id": "24b4d9b7-57f5-4df1-80a0-5b6b43dde8e7",
   "metadata": {},
   "outputs": [
    {
     "data": {
      "text/plain": [
       "Counter({'spam': 1})"
      ]
     },
     "execution_count": 129,
     "metadata": {},
     "output_type": "execute_result"
    }
   ],
   "source": [
    "counter1 - counter2"
   ]
  },
  {
   "cell_type": "code",
   "execution_count": 136,
   "id": "5bd83369-98da-4b24-9e99-d46a329c5b1d",
   "metadata": {},
   "outputs": [
    {
     "data": {
      "text/plain": [
       "Counter({'spam': 1, 'ham': 3, 'egg': 4})"
      ]
     },
     "execution_count": 136,
     "metadata": {},
     "output_type": "execute_result"
    }
   ],
   "source": [
    "counter1 | counter2"
   ]
  },
  {
   "cell_type": "code",
   "execution_count": null,
   "id": "48348c8e-aa86-4a87-9a99-33dd83028eb5",
   "metadata": {},
   "outputs": [],
   "source": []
  },
  {
   "cell_type": "code",
   "execution_count": 145,
   "id": "ce5eac40-b344-4fa2-9e30-4cfa7c7c045b",
   "metadata": {},
   "outputs": [],
   "source": [
    "import pickle\n",
    "import requests\n",
    "from bs4 import BeautifulSoup as BS"
   ]
  },
  {
   "cell_type": "code",
   "execution_count": 180,
   "id": "64ae1264-2657-4916-940a-2f1ae24dea97",
   "metadata": {},
   "outputs": [],
   "source": [
    "with open(\"./kbo.pkl\", \"rb\") as f:\n",
    "    kbo = pickle.load(f)"
   ]
  },
  {
   "cell_type": "code",
   "execution_count": 147,
   "id": "0e468005-9929-452c-ac3d-87810a7d41ba",
   "metadata": {},
   "outputs": [],
   "source": [
    "url = \"https://www.koreabaseball.com/Record/Player/PitcherDetail/Basic.aspx?playerId={}\""
   ]
  },
  {
   "cell_type": "code",
   "execution_count": 148,
   "id": "0d323ec1-7ada-420b-a9cd-eab4cc4fa4aa",
   "metadata": {},
   "outputs": [],
   "source": [
    "target_url = url.format(kbo[0])"
   ]
  },
  {
   "cell_type": "code",
   "execution_count": 151,
   "id": "5c05d8d4-a822-4e53-a924-ff1b8cdbd1d4",
   "metadata": {},
   "outputs": [
    {
     "data": {
      "text/plain": [
       "'https://www.koreabaseball.com/Record/Player/PitcherDetail/Basic.aspx?playerId=61295'"
      ]
     },
     "execution_count": 151,
     "metadata": {},
     "output_type": "execute_result"
    }
   ],
   "source": [
    "target_url"
   ]
  },
  {
   "cell_type": "code",
   "execution_count": 149,
   "id": "a74f61e2-1848-4ef0-a63a-f0bddec0b39e",
   "metadata": {},
   "outputs": [],
   "source": [
    "r = requests.get(url.format(kbo[0]))"
   ]
  },
  {
   "cell_type": "code",
   "execution_count": null,
   "id": "837d0bfc-cf22-4fb4-9d77-0d34e188b236",
   "metadata": {},
   "outputs": [],
   "source": []
  },
  {
   "cell_type": "code",
   "execution_count": 152,
   "id": "60fc5c4c-a67d-4482-a542-c867eee9b212",
   "metadata": {},
   "outputs": [],
   "source": [
    "bs = BS(r.text)"
   ]
  },
  {
   "cell_type": "code",
   "execution_count": 166,
   "id": "e720ff95-6248-40c3-87b7-3074a9aafb10",
   "metadata": {},
   "outputs": [],
   "source": [
    "bs_rt = bs.find(\"div\", class_='player_basic').findAll(\"li\")"
   ]
  },
  {
   "cell_type": "code",
   "execution_count": 168,
   "id": "43b47cf9-decc-4091-808e-db3d5ec12514",
   "metadata": {},
   "outputs": [
    {
     "data": {
      "text/plain": [
       "'강동연'"
      ]
     },
     "execution_count": 168,
     "metadata": {},
     "output_type": "execute_result"
    }
   ],
   "source": [
    "bs_rt[0].find(\"span\").text"
   ]
  },
  {
   "cell_type": "code",
   "execution_count": 169,
   "id": "03b31731-4f24-459d-98fa-2d7f9c29c8ef",
   "metadata": {},
   "outputs": [],
   "source": [
    "player = [x.find(\"span\").text for x in bs_rt]"
   ]
  },
  {
   "cell_type": "code",
   "execution_count": 170,
   "id": "cd9cc981-e86e-4013-a482-6aa6af7407d8",
   "metadata": {},
   "outputs": [],
   "source": [
    "player_key = [x.find(\"strong\").text.split(\":\")[0] for x in bs_rt]"
   ]
  },
  {
   "cell_type": "code",
   "execution_count": 171,
   "id": "44d72490-43b6-4563-8b73-ec83ac6b92ea",
   "metadata": {},
   "outputs": [
    {
     "data": {
      "text/plain": [
       "{'선수명': '강동연',\n",
       " '등번호': '21',\n",
       " '생년월일': '1992년 12월 18일',\n",
       " '포지션': '투수(우투우타)',\n",
       " '신장/체중': '195cm/94kg',\n",
       " '경력': '진북초-덕수중-유신고-두산-상무-두산',\n",
       " '입단 계약금': '',\n",
       " '연봉': '4400만원',\n",
       " '지명순위': '11 두산 육성선수',\n",
       " '입단년도': '12두산'}"
      ]
     },
     "execution_count": 171,
     "metadata": {},
     "output_type": "execute_result"
    }
   ],
   "source": [
    "dict(zip(player_key, player))"
   ]
  },
  {
   "cell_type": "code",
   "execution_count": 190,
   "id": "c832098b-9689-4fa5-8abd-ff81d5a3269f",
   "metadata": {},
   "outputs": [],
   "source": [
    "def crawling_kbo(kbo_id):\n",
    "    url = \"https://www.koreabaseball.com/Record/Player/PitcherDetail/Basic.aspx?playerId={}\"\n",
    "    target_url = url.format(kbo_id)\n",
    "    r = requests.get(target_url)\n",
    "    bs = BS(r.text)\n",
    "    bs_rt = bs.find(\"div\", class_='player_basic').findAll(\"li\")\n",
    "    player = [x.find(\"span\").text for x in bs_rt]\n",
    "    player_key = [x.find(\"strong\").text.split(\":\")[0] for x in bs_rt]\n",
    "    return dict(zip(player_key, player))"
   ]
  },
  {
   "cell_type": "code",
   "execution_count": 191,
   "id": "507df770-ce4e-44ce-a8be-8ac322a8482e",
   "metadata": {},
   "outputs": [
    {
     "name": "stdout",
     "output_type": "stream",
     "text": [
      "0\n",
      "100\n",
      "200\n",
      "300\n",
      "400\n",
      "500\n",
      "600\n",
      "700\n",
      "800\n"
     ]
    }
   ],
   "source": [
    "total=[]\n",
    "for idx, id_ in enumerate(kbo):\n",
    "    if idx % 100 == 0: print(idx)\n",
    "    total.append(crawling_kbo(id_))"
   ]
  },
  {
   "cell_type": "code",
   "execution_count": 197,
   "id": "b4a5afa7-0040-404b-8f29-4f68a5913c26",
   "metadata": {},
   "outputs": [],
   "source": [
    "maximum = 0\n",
    "player_name = \"\"\n",
    "cnt = 0\n",
    "for data in total:\n",
    "    if data['연봉'][-2:] == \"만원\":\n",
    "        compare = int(data['연봉'][:-2]) * 10000\n",
    "    elif data['연봉'][-2:] == \"달러\":\n",
    "        compare = int(data['연봉'][:-2]) * 1100\n",
    "        cnt += 1\n",
    "    if maximum < compare:\n",
    "        maximum = compare\n",
    "        player_name = data['선수명']\n",
    "        "
   ]
  },
  {
   "cell_type": "code",
   "execution_count": 200,
   "id": "765d697e-f93a-4c01-8502-4091ba07d545",
   "metadata": {},
   "outputs": [
    {
     "data": {
      "text/plain": [
       "('추신수', 2700000000)"
      ]
     },
     "execution_count": 200,
     "metadata": {},
     "output_type": "execute_result"
    }
   ],
   "source": [
    "player_name, maximum"
   ]
  },
  {
   "cell_type": "code",
   "execution_count": null,
   "id": "56649c8b-5f64-4b35-bf15-9c987da0ce76",
   "metadata": {},
   "outputs": [],
   "source": []
  },
  {
   "cell_type": "code",
   "execution_count": 201,
   "id": "3a00945a-8002-4544-8292-7e4504822a5c",
   "metadata": {},
   "outputs": [],
   "source": [
    "from selenium import webdriver"
   ]
  },
  {
   "cell_type": "code",
   "execution_count": 202,
   "id": "a808c40c-a037-45ac-850d-521860d635e2",
   "metadata": {},
   "outputs": [],
   "source": [
    "driver = webdriver.Chrome(\"./chromedriver.exe\")"
   ]
  },
  {
   "cell_type": "code",
   "execution_count": 203,
   "id": "96e885ec-b44e-435d-8cf3-548bd35fa1ad",
   "metadata": {},
   "outputs": [],
   "source": [
    "driver.get(\"https://www.koreabaseball.com/\")"
   ]
  },
  {
   "cell_type": "code",
   "execution_count": null,
   "id": "3ec360fe-8580-4251-8e1f-c00421a42af6",
   "metadata": {},
   "outputs": [],
   "source": [
    "import time\n",
    "playid = []\n",
    "for x in range(2,12):\n",
    "    for_1 = select_team.format(x)\n",
    "    driver.find_element_by_css_selector(for_1).click()\n",
    "    time.sleep(2)\n",
    "    for"
   ]
  },
  {
   "cell_type": "code",
   "execution_count": null,
   "id": "4766a504-0736-4a44-81af-4a3eefe7cdfe",
   "metadata": {},
   "outputs": [],
   "source": [
    "# f12 개발자도구 -> copy -> copy selector"
   ]
  },
  {
   "cell_type": "code",
   "execution_count": null,
   "id": "dbcb6d2d-ff55-4016-a9f5-6784ddfcf62b",
   "metadata": {},
   "outputs": [],
   "source": [
    "webdriver_options"
   ]
  },
  {
   "cell_type": "code",
   "execution_count": null,
   "id": "166e1ce9-e456-4e76-875b-547bd654a0f0",
   "metadata": {},
   "outputs": [],
   "source": []
  }
 ],
 "metadata": {
  "kernelspec": {
   "display_name": "Python 3",
   "language": "python",
   "name": "python3"
  },
  "language_info": {
   "codemirror_mode": {
    "name": "ipython",
    "version": 3
   },
   "file_extension": ".py",
   "mimetype": "text/x-python",
   "name": "python",
   "nbconvert_exporter": "python",
   "pygments_lexer": "ipython3",
   "version": "3.8.8"
  }
 },
 "nbformat": 4,
 "nbformat_minor": 5
}
