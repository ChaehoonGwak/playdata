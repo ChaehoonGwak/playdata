{
 "cells": [
  {
   "cell_type": "code",
   "execution_count": 198,
   "id": "4013e73b-0289-4c45-abcf-ca57a11c5235",
   "metadata": {},
   "outputs": [],
   "source": [
    "import pandas as pd"
   ]
  },
  {
   "cell_type": "code",
   "execution_count": 199,
   "id": "a364b55e-ada3-4586-b013-94b416a6e1cd",
   "metadata": {},
   "outputs": [],
   "source": [
    "df1 = pd.DataFrame({\"A\" : [1,2,3], \"B\" : [2,3,4]})\n"
   ]
  },
  {
   "cell_type": "code",
   "execution_count": 200,
   "id": "548f3369-45a0-4109-977f-09ae6cf85750",
   "metadata": {},
   "outputs": [],
   "source": [
    "df2 = pd.DataFrame([[1,2], [2,3], [3,4]], columns=['A','B'])"
   ]
  },
  {
   "cell_type": "code",
   "execution_count": 201,
   "id": "1d637048-f9f6-48b4-9e6f-48ed86592b9b",
   "metadata": {},
   "outputs": [
    {
     "data": {
      "text/html": [
       "<div>\n",
       "<style scoped>\n",
       "    .dataframe tbody tr th:only-of-type {\n",
       "        vertical-align: middle;\n",
       "    }\n",
       "\n",
       "    .dataframe tbody tr th {\n",
       "        vertical-align: top;\n",
       "    }\n",
       "\n",
       "    .dataframe thead th {\n",
       "        text-align: right;\n",
       "    }\n",
       "</style>\n",
       "<table border=\"1\" class=\"dataframe\">\n",
       "  <thead>\n",
       "    <tr style=\"text-align: right;\">\n",
       "      <th></th>\n",
       "      <th>A</th>\n",
       "      <th>B</th>\n",
       "    </tr>\n",
       "  </thead>\n",
       "  <tbody>\n",
       "    <tr>\n",
       "      <th>0</th>\n",
       "      <td>1</td>\n",
       "      <td>2</td>\n",
       "    </tr>\n",
       "    <tr>\n",
       "      <th>1</th>\n",
       "      <td>2</td>\n",
       "      <td>3</td>\n",
       "    </tr>\n",
       "    <tr>\n",
       "      <th>2</th>\n",
       "      <td>3</td>\n",
       "      <td>4</td>\n",
       "    </tr>\n",
       "  </tbody>\n",
       "</table>\n",
       "</div>"
      ],
      "text/plain": [
       "   A  B\n",
       "0  1  2\n",
       "1  2  3\n",
       "2  3  4"
      ]
     },
     "execution_count": 201,
     "metadata": {},
     "output_type": "execute_result"
    }
   ],
   "source": [
    "df2"
   ]
  },
  {
   "cell_type": "code",
   "execution_count": 202,
   "id": "913888f1-cb7d-4f02-9a15-07811712787d",
   "metadata": {},
   "outputs": [
    {
     "data": {
      "text/html": [
       "<div>\n",
       "<style scoped>\n",
       "    .dataframe tbody tr th:only-of-type {\n",
       "        vertical-align: middle;\n",
       "    }\n",
       "\n",
       "    .dataframe tbody tr th {\n",
       "        vertical-align: top;\n",
       "    }\n",
       "\n",
       "    .dataframe thead th {\n",
       "        text-align: right;\n",
       "    }\n",
       "</style>\n",
       "<table border=\"1\" class=\"dataframe\">\n",
       "  <thead>\n",
       "    <tr style=\"text-align: right;\">\n",
       "      <th></th>\n",
       "      <th>A</th>\n",
       "      <th>B</th>\n",
       "    </tr>\n",
       "  </thead>\n",
       "  <tbody>\n",
       "    <tr>\n",
       "      <th>0</th>\n",
       "      <td>1</td>\n",
       "      <td>2</td>\n",
       "    </tr>\n",
       "    <tr>\n",
       "      <th>1</th>\n",
       "      <td>2</td>\n",
       "      <td>3</td>\n",
       "    </tr>\n",
       "    <tr>\n",
       "      <th>2</th>\n",
       "      <td>3</td>\n",
       "      <td>4</td>\n",
       "    </tr>\n",
       "  </tbody>\n",
       "</table>\n",
       "</div>"
      ],
      "text/plain": [
       "   A  B\n",
       "0  1  2\n",
       "1  2  3\n",
       "2  3  4"
      ]
     },
     "execution_count": 202,
     "metadata": {},
     "output_type": "execute_result"
    }
   ],
   "source": [
    "df1"
   ]
  },
  {
   "cell_type": "code",
   "execution_count": 203,
   "id": "2beb24c9-28dd-4f91-bf46-c65661ce42b9",
   "metadata": {},
   "outputs": [],
   "source": [
    "df1.columns = ['Apple', \"Samsung\"]"
   ]
  },
  {
   "cell_type": "code",
   "execution_count": 204,
   "id": "3cbfb026-be6a-4c1d-bbf5-bb09648c898b",
   "metadata": {},
   "outputs": [],
   "source": [
    "df1.index = ['1분기', '2분기', '3분기']"
   ]
  },
  {
   "cell_type": "code",
   "execution_count": 205,
   "id": "21338905-1db3-45f1-be80-1b56e5420830",
   "metadata": {},
   "outputs": [
    {
     "data": {
      "text/html": [
       "<div>\n",
       "<style scoped>\n",
       "    .dataframe tbody tr th:only-of-type {\n",
       "        vertical-align: middle;\n",
       "    }\n",
       "\n",
       "    .dataframe tbody tr th {\n",
       "        vertical-align: top;\n",
       "    }\n",
       "\n",
       "    .dataframe thead th {\n",
       "        text-align: right;\n",
       "    }\n",
       "</style>\n",
       "<table border=\"1\" class=\"dataframe\">\n",
       "  <thead>\n",
       "    <tr style=\"text-align: right;\">\n",
       "      <th></th>\n",
       "      <th>Apple</th>\n",
       "      <th>Samsung</th>\n",
       "    </tr>\n",
       "  </thead>\n",
       "  <tbody>\n",
       "    <tr>\n",
       "      <th>1분기</th>\n",
       "      <td>1</td>\n",
       "      <td>2</td>\n",
       "    </tr>\n",
       "    <tr>\n",
       "      <th>2분기</th>\n",
       "      <td>2</td>\n",
       "      <td>3</td>\n",
       "    </tr>\n",
       "    <tr>\n",
       "      <th>3분기</th>\n",
       "      <td>3</td>\n",
       "      <td>4</td>\n",
       "    </tr>\n",
       "  </tbody>\n",
       "</table>\n",
       "</div>"
      ],
      "text/plain": [
       "     Apple  Samsung\n",
       "1분기      1        2\n",
       "2분기      2        3\n",
       "3분기      3        4"
      ]
     },
     "execution_count": 205,
     "metadata": {},
     "output_type": "execute_result"
    }
   ],
   "source": [
    "df1"
   ]
  },
  {
   "cell_type": "code",
   "execution_count": 206,
   "id": "0ff43155-ae89-43ee-a933-ef2e689b541a",
   "metadata": {},
   "outputs": [
    {
     "data": {
      "text/plain": [
       "\"Job's Iphone\""
      ]
     },
     "execution_count": 206,
     "metadata": {},
     "output_type": "execute_result"
    }
   ],
   "source": [
    "\"Job's Iphone\""
   ]
  },
  {
   "cell_type": "code",
   "execution_count": 207,
   "id": "9d1e12da-7606-40db-a9a1-8fe89bc8ef95",
   "metadata": {},
   "outputs": [
    {
     "ename": "SyntaxError",
     "evalue": "invalid syntax (<ipython-input-207-66bb535c8589>, line 1)",
     "output_type": "error",
     "traceback": [
      "\u001b[1;36m  File \u001b[1;32m\"<ipython-input-207-66bb535c8589>\"\u001b[1;36m, line \u001b[1;32m1\u001b[0m\n\u001b[1;33m    'Job's Iphone'\u001b[0m\n\u001b[1;37m         ^\u001b[0m\n\u001b[1;31mSyntaxError\u001b[0m\u001b[1;31m:\u001b[0m invalid syntax\n"
     ]
    }
   ],
   "source": [
    "'Job's Iphone'"
   ]
  },
  {
   "cell_type": "code",
   "execution_count": 208,
   "id": "112c9676-3a56-4437-ade9-ea541ab293fa",
   "metadata": {},
   "outputs": [
    {
     "data": {
      "text/plain": [
       "\"Job's Iphone\""
      ]
     },
     "execution_count": 208,
     "metadata": {},
     "output_type": "execute_result"
    }
   ],
   "source": [
    "'Job\\'s Iphone'"
   ]
  },
  {
   "cell_type": "code",
   "execution_count": 209,
   "id": "439ca9d9-9ae8-4d73-835c-d14fb630059f",
   "metadata": {},
   "outputs": [
    {
     "data": {
      "text/plain": [
       "['1월', '2월', '3월', '4월', '5월', '6월', '7월', '8월', '9월', '10월', '11월', '12월']"
      ]
     },
     "execution_count": 209,
     "metadata": {},
     "output_type": "execute_result"
    }
   ],
   "source": [
    "[str(x) + \"월\" for x in range(1,13)]"
   ]
  },
  {
   "cell_type": "code",
   "execution_count": 210,
   "id": "15ec722a-2119-4cee-825c-103ad3312135",
   "metadata": {},
   "outputs": [
    {
     "name": "stdout",
     "output_type": "stream",
     "text": [
      "<class 'int'>\n"
     ]
    }
   ],
   "source": [
    "for x in range(1):\n",
    "    print (type(x))"
   ]
  },
  {
   "cell_type": "code",
   "execution_count": 211,
   "id": "72ca5b75-11f6-45d0-b58b-e9993f417937",
   "metadata": {},
   "outputs": [],
   "source": [
    "df1.index.name = \"분기별\""
   ]
  },
  {
   "cell_type": "code",
   "execution_count": 212,
   "id": "c419db1a-71b5-444d-81b0-c4ffa8140d40",
   "metadata": {},
   "outputs": [
    {
     "data": {
      "text/html": [
       "<div>\n",
       "<style scoped>\n",
       "    .dataframe tbody tr th:only-of-type {\n",
       "        vertical-align: middle;\n",
       "    }\n",
       "\n",
       "    .dataframe tbody tr th {\n",
       "        vertical-align: top;\n",
       "    }\n",
       "\n",
       "    .dataframe thead th {\n",
       "        text-align: right;\n",
       "    }\n",
       "</style>\n",
       "<table border=\"1\" class=\"dataframe\">\n",
       "  <thead>\n",
       "    <tr style=\"text-align: right;\">\n",
       "      <th></th>\n",
       "      <th>Apple</th>\n",
       "      <th>Samsung</th>\n",
       "    </tr>\n",
       "    <tr>\n",
       "      <th>분기별</th>\n",
       "      <th></th>\n",
       "      <th></th>\n",
       "    </tr>\n",
       "  </thead>\n",
       "  <tbody>\n",
       "    <tr>\n",
       "      <th>1분기</th>\n",
       "      <td>1</td>\n",
       "      <td>2</td>\n",
       "    </tr>\n",
       "    <tr>\n",
       "      <th>2분기</th>\n",
       "      <td>2</td>\n",
       "      <td>3</td>\n",
       "    </tr>\n",
       "    <tr>\n",
       "      <th>3분기</th>\n",
       "      <td>3</td>\n",
       "      <td>4</td>\n",
       "    </tr>\n",
       "  </tbody>\n",
       "</table>\n",
       "</div>"
      ],
      "text/plain": [
       "     Apple  Samsung\n",
       "분기별                \n",
       "1분기      1        2\n",
       "2분기      2        3\n",
       "3분기      3        4"
      ]
     },
     "execution_count": 212,
     "metadata": {},
     "output_type": "execute_result"
    }
   ],
   "source": [
    "df1"
   ]
  },
  {
   "cell_type": "code",
   "execution_count": 213,
   "id": "dbd120a8-d7ea-4e7e-acf4-af7a908d1e3f",
   "metadata": {},
   "outputs": [],
   "source": [
    "df1.columns = ['Apple', 'Benz']"
   ]
  },
  {
   "cell_type": "code",
   "execution_count": 214,
   "id": "748d12a0-ca3b-44bf-ba72-272a6148d66e",
   "metadata": {},
   "outputs": [
    {
     "data": {
      "text/html": [
       "<div>\n",
       "<style scoped>\n",
       "    .dataframe tbody tr th:only-of-type {\n",
       "        vertical-align: middle;\n",
       "    }\n",
       "\n",
       "    .dataframe tbody tr th {\n",
       "        vertical-align: top;\n",
       "    }\n",
       "\n",
       "    .dataframe thead th {\n",
       "        text-align: right;\n",
       "    }\n",
       "</style>\n",
       "<table border=\"1\" class=\"dataframe\">\n",
       "  <thead>\n",
       "    <tr style=\"text-align: right;\">\n",
       "      <th></th>\n",
       "      <th>Google</th>\n",
       "      <th>KIA</th>\n",
       "    </tr>\n",
       "    <tr>\n",
       "      <th>분기별</th>\n",
       "      <th></th>\n",
       "      <th></th>\n",
       "    </tr>\n",
       "  </thead>\n",
       "  <tbody>\n",
       "    <tr>\n",
       "      <th>1분기</th>\n",
       "      <td>1</td>\n",
       "      <td>2</td>\n",
       "    </tr>\n",
       "    <tr>\n",
       "      <th>2분기</th>\n",
       "      <td>2</td>\n",
       "      <td>3</td>\n",
       "    </tr>\n",
       "    <tr>\n",
       "      <th>3분기</th>\n",
       "      <td>3</td>\n",
       "      <td>4</td>\n",
       "    </tr>\n",
       "  </tbody>\n",
       "</table>\n",
       "</div>"
      ],
      "text/plain": [
       "     Google  KIA\n",
       "분기별             \n",
       "1분기       1    2\n",
       "2분기       2    3\n",
       "3분기       3    4"
      ]
     },
     "execution_count": 214,
     "metadata": {},
     "output_type": "execute_result"
    }
   ],
   "source": [
    "df1.rename(columns={\"Benz\" : \"KIA\", \"Apple\" : \"Google\", \"hmm\" : \"emart\", 'sex' : '성별', 'gender' : '성별'})"
   ]
  },
  {
   "cell_type": "markdown",
   "id": "2a719df3-32dc-4b9b-b5d0-1837e7db9096",
   "metadata": {},
   "source": [
    "#### 전사 사전 -> 성별 -> gender"
   ]
  },
  {
   "cell_type": "code",
   "execution_count": 215,
   "id": "e982c74f-0701-45b5-88e5-719bddf11361",
   "metadata": {},
   "outputs": [],
   "source": [
    "kbo = pd.read_csv(\"./kbo.csv\")"
   ]
  },
  {
   "cell_type": "code",
   "execution_count": 216,
   "id": "dfe6c7f3-71f6-42d4-92e2-c1cc7bac1fc6",
   "metadata": {},
   "outputs": [
    {
     "data": {
      "text/plain": [
       "Index(['선수명', '등번호', '생년월일', '포지션', '신장/체중', '경력', '입단 계약금', '연봉', '지명순위',\n",
       "       '입단년도'],\n",
       "      dtype='object')"
      ]
     },
     "execution_count": 216,
     "metadata": {},
     "output_type": "execute_result"
    }
   ],
   "source": [
    "kbo.columns"
   ]
  },
  {
   "cell_type": "code",
   "execution_count": 217,
   "id": "5aca23b0-9d07-4265-ba20-88c8b1ff69d5",
   "metadata": {},
   "outputs": [
    {
     "data": {
      "text/html": [
       "<div>\n",
       "<style scoped>\n",
       "    .dataframe tbody tr th:only-of-type {\n",
       "        vertical-align: middle;\n",
       "    }\n",
       "\n",
       "    .dataframe tbody tr th {\n",
       "        vertical-align: top;\n",
       "    }\n",
       "\n",
       "    .dataframe thead th {\n",
       "        text-align: right;\n",
       "    }\n",
       "</style>\n",
       "<table border=\"1\" class=\"dataframe\">\n",
       "  <thead>\n",
       "    <tr style=\"text-align: right;\">\n",
       "      <th></th>\n",
       "      <th>등번호</th>\n",
       "      <th>생년월일</th>\n",
       "      <th>포지션</th>\n",
       "    </tr>\n",
       "  </thead>\n",
       "  <tbody>\n",
       "    <tr>\n",
       "      <th>0</th>\n",
       "      <td>21.0</td>\n",
       "      <td>1992년 12월 18일</td>\n",
       "      <td>투수(우투우타)</td>\n",
       "    </tr>\n",
       "    <tr>\n",
       "      <th>1</th>\n",
       "      <td>49.0</td>\n",
       "      <td>1993년 10월 19일</td>\n",
       "      <td>내야수(우투우타)</td>\n",
       "    </tr>\n",
       "    <tr>\n",
       "      <th>2</th>\n",
       "      <td>78.0</td>\n",
       "      <td>2001년 07월 26일</td>\n",
       "      <td>투수(우투좌타)</td>\n",
       "    </tr>\n",
       "    <tr>\n",
       "      <th>3</th>\n",
       "      <td>59.0</td>\n",
       "      <td>1997년 02월 17일</td>\n",
       "      <td>투수(좌투좌타)</td>\n",
       "    </tr>\n",
       "    <tr>\n",
       "      <th>4</th>\n",
       "      <td>65.0</td>\n",
       "      <td>1997년 04월 05일</td>\n",
       "      <td>외야수(우투우타)</td>\n",
       "    </tr>\n",
       "    <tr>\n",
       "      <th>...</th>\n",
       "      <td>...</td>\n",
       "      <td>...</td>\n",
       "      <td>...</td>\n",
       "    </tr>\n",
       "    <tr>\n",
       "      <th>852</th>\n",
       "      <td>16.0</td>\n",
       "      <td>1994년 02월 25일</td>\n",
       "      <td>내야수(우투좌타)</td>\n",
       "    </tr>\n",
       "    <tr>\n",
       "      <th>853</th>\n",
       "      <td>59.0</td>\n",
       "      <td>2001년 03월 17일</td>\n",
       "      <td>투수(우투우타)</td>\n",
       "    </tr>\n",
       "    <tr>\n",
       "      <th>854</th>\n",
       "      <td>26.0</td>\n",
       "      <td>1999년 02월 12일</td>\n",
       "      <td>포수(우투우타)</td>\n",
       "    </tr>\n",
       "    <tr>\n",
       "      <th>855</th>\n",
       "      <td>60.0</td>\n",
       "      <td>1995년 12월 26일</td>\n",
       "      <td>투수(좌투좌타)</td>\n",
       "    </tr>\n",
       "    <tr>\n",
       "      <th>856</th>\n",
       "      <td>NaN</td>\n",
       "      <td>1992년 01월 10일</td>\n",
       "      <td>내야수(우투우타)</td>\n",
       "    </tr>\n",
       "  </tbody>\n",
       "</table>\n",
       "<p>857 rows × 3 columns</p>\n",
       "</div>"
      ],
      "text/plain": [
       "      등번호           생년월일        포지션\n",
       "0    21.0  1992년 12월 18일   투수(우투우타)\n",
       "1    49.0  1993년 10월 19일  내야수(우투우타)\n",
       "2    78.0  2001년 07월 26일   투수(우투좌타)\n",
       "3    59.0  1997년 02월 17일   투수(좌투좌타)\n",
       "4    65.0  1997년 04월 05일  외야수(우투우타)\n",
       "..    ...            ...        ...\n",
       "852  16.0  1994년 02월 25일  내야수(우투좌타)\n",
       "853  59.0  2001년 03월 17일   투수(우투우타)\n",
       "854  26.0  1999년 02월 12일   포수(우투우타)\n",
       "855  60.0  1995년 12월 26일   투수(좌투좌타)\n",
       "856   NaN  1992년 01월 10일  내야수(우투우타)\n",
       "\n",
       "[857 rows x 3 columns]"
      ]
     },
     "execution_count": 217,
     "metadata": {},
     "output_type": "execute_result"
    }
   ],
   "source": [
    "kbo[['등번호', '생년월일', '포지션']]"
   ]
  },
  {
   "cell_type": "code",
   "execution_count": 218,
   "id": "6664d44f-a6ad-48ae-b8ee-97ab84b8de64",
   "metadata": {},
   "outputs": [
    {
     "data": {
      "text/html": [
       "<div>\n",
       "<style scoped>\n",
       "    .dataframe tbody tr th:only-of-type {\n",
       "        vertical-align: middle;\n",
       "    }\n",
       "\n",
       "    .dataframe tbody tr th {\n",
       "        vertical-align: top;\n",
       "    }\n",
       "\n",
       "    .dataframe thead th {\n",
       "        text-align: right;\n",
       "    }\n",
       "</style>\n",
       "<table border=\"1\" class=\"dataframe\">\n",
       "  <thead>\n",
       "    <tr style=\"text-align: right;\">\n",
       "      <th></th>\n",
       "      <th>등번호</th>\n",
       "    </tr>\n",
       "  </thead>\n",
       "  <tbody>\n",
       "    <tr>\n",
       "      <th>0</th>\n",
       "      <td>21.0</td>\n",
       "    </tr>\n",
       "    <tr>\n",
       "      <th>1</th>\n",
       "      <td>49.0</td>\n",
       "    </tr>\n",
       "    <tr>\n",
       "      <th>2</th>\n",
       "      <td>78.0</td>\n",
       "    </tr>\n",
       "    <tr>\n",
       "      <th>3</th>\n",
       "      <td>59.0</td>\n",
       "    </tr>\n",
       "    <tr>\n",
       "      <th>4</th>\n",
       "      <td>65.0</td>\n",
       "    </tr>\n",
       "    <tr>\n",
       "      <th>...</th>\n",
       "      <td>...</td>\n",
       "    </tr>\n",
       "    <tr>\n",
       "      <th>852</th>\n",
       "      <td>16.0</td>\n",
       "    </tr>\n",
       "    <tr>\n",
       "      <th>853</th>\n",
       "      <td>59.0</td>\n",
       "    </tr>\n",
       "    <tr>\n",
       "      <th>854</th>\n",
       "      <td>26.0</td>\n",
       "    </tr>\n",
       "    <tr>\n",
       "      <th>855</th>\n",
       "      <td>60.0</td>\n",
       "    </tr>\n",
       "    <tr>\n",
       "      <th>856</th>\n",
       "      <td>NaN</td>\n",
       "    </tr>\n",
       "  </tbody>\n",
       "</table>\n",
       "<p>857 rows × 1 columns</p>\n",
       "</div>"
      ],
      "text/plain": [
       "      등번호\n",
       "0    21.0\n",
       "1    49.0\n",
       "2    78.0\n",
       "3    59.0\n",
       "4    65.0\n",
       "..    ...\n",
       "852  16.0\n",
       "853  59.0\n",
       "854  26.0\n",
       "855  60.0\n",
       "856   NaN\n",
       "\n",
       "[857 rows x 1 columns]"
      ]
     },
     "execution_count": 218,
     "metadata": {},
     "output_type": "execute_result"
    }
   ],
   "source": [
    "kbo[['등번호']]"
   ]
  },
  {
   "cell_type": "code",
   "execution_count": 219,
   "id": "ebd7a76d-f6b2-4f4d-9b70-04a63e7acafa",
   "metadata": {},
   "outputs": [
    {
     "data": {
      "text/plain": [
       "0      21.0\n",
       "1      49.0\n",
       "2      78.0\n",
       "3      59.0\n",
       "4      65.0\n",
       "       ... \n",
       "852    16.0\n",
       "853    59.0\n",
       "854    26.0\n",
       "855    60.0\n",
       "856     NaN\n",
       "Name: 등번호, Length: 857, dtype: float64"
      ]
     },
     "execution_count": 219,
     "metadata": {},
     "output_type": "execute_result"
    }
   ],
   "source": [
    "kbo.등번호"
   ]
  },
  {
   "cell_type": "code",
   "execution_count": 220,
   "id": "7a3d3c4c-9a5c-4332-bcd3-b9b3a94c41c5",
   "metadata": {},
   "outputs": [
    {
     "data": {
      "text/plain": [
       "Index(['선수명', '등번호', '생년월일', '포지션', '신장/체중', '경력', '입단 계약금', '연봉', '지명순위',\n",
       "       '입단년도'],\n",
       "      dtype='object')"
      ]
     },
     "execution_count": 220,
     "metadata": {},
     "output_type": "execute_result"
    }
   ],
   "source": [
    "kbo.columns"
   ]
  },
  {
   "cell_type": "code",
   "execution_count": 221,
   "id": "8a850e81-88ca-43d8-b06e-4056066d8a07",
   "metadata": {},
   "outputs": [],
   "source": [
    "kbo = kbo[['선수명',  '생년월일', '포지션','등번호', '신장/체중', '경력', '입단 계약금', '연봉', '지명순위',\n",
    "       '입단년도']].head(1)"
   ]
  },
  {
   "cell_type": "code",
   "execution_count": 222,
   "id": "c2983e70-cedd-47cb-846a-eaf1ab8e8610",
   "metadata": {},
   "outputs": [
    {
     "data": {
      "text/html": [
       "<div>\n",
       "<style scoped>\n",
       "    .dataframe tbody tr th:only-of-type {\n",
       "        vertical-align: middle;\n",
       "    }\n",
       "\n",
       "    .dataframe tbody tr th {\n",
       "        vertical-align: top;\n",
       "    }\n",
       "\n",
       "    .dataframe thead th {\n",
       "        text-align: right;\n",
       "    }\n",
       "</style>\n",
       "<table border=\"1\" class=\"dataframe\">\n",
       "  <thead>\n",
       "    <tr style=\"text-align: right;\">\n",
       "      <th></th>\n",
       "      <th>선수명</th>\n",
       "      <th>생년월일</th>\n",
       "      <th>포지션</th>\n",
       "      <th>등번호</th>\n",
       "      <th>신장/체중</th>\n",
       "      <th>경력</th>\n",
       "      <th>입단 계약금</th>\n",
       "      <th>연봉</th>\n",
       "      <th>지명순위</th>\n",
       "      <th>입단년도</th>\n",
       "    </tr>\n",
       "  </thead>\n",
       "  <tbody>\n",
       "    <tr>\n",
       "      <th>0</th>\n",
       "      <td>강동연</td>\n",
       "      <td>1992년 12월 18일</td>\n",
       "      <td>투수(우투우타)</td>\n",
       "      <td>21.0</td>\n",
       "      <td>195cm/94kg</td>\n",
       "      <td>진북초-덕수중-유신고-두산-상무-두산</td>\n",
       "      <td>NaN</td>\n",
       "      <td>4400만원</td>\n",
       "      <td>11 두산 육성선수</td>\n",
       "      <td>12두산</td>\n",
       "    </tr>\n",
       "  </tbody>\n",
       "</table>\n",
       "</div>"
      ],
      "text/plain": [
       "   선수명           생년월일       포지션   등번호       신장/체중                    경력  \\\n",
       "0  강동연  1992년 12월 18일  투수(우투우타)  21.0  195cm/94kg  진북초-덕수중-유신고-두산-상무-두산   \n",
       "\n",
       "  입단 계약금      연봉        지명순위  입단년도  \n",
       "0    NaN  4400만원  11 두산 육성선수  12두산  "
      ]
     },
     "execution_count": 222,
     "metadata": {},
     "output_type": "execute_result"
    }
   ],
   "source": [
    "kbo.head(1)"
   ]
  },
  {
   "cell_type": "markdown",
   "id": "67c98401-e779-40cb-88dc-6671ac7fd57b",
   "metadata": {},
   "source": [
    "## 행 삭제"
   ]
  },
  {
   "cell_type": "code",
   "execution_count": 223,
   "id": "704b3c8d-6600-4aa3-b2b5-600d7c154c60",
   "metadata": {},
   "outputs": [],
   "source": [
    "df1.drop(['1분기'], inplace=True)"
   ]
  },
  {
   "cell_type": "code",
   "execution_count": 224,
   "id": "fc141084-a6d0-4744-bf77-a1df60de8bf0",
   "metadata": {},
   "outputs": [
    {
     "data": {
      "text/html": [
       "<div>\n",
       "<style scoped>\n",
       "    .dataframe tbody tr th:only-of-type {\n",
       "        vertical-align: middle;\n",
       "    }\n",
       "\n",
       "    .dataframe tbody tr th {\n",
       "        vertical-align: top;\n",
       "    }\n",
       "\n",
       "    .dataframe thead th {\n",
       "        text-align: right;\n",
       "    }\n",
       "</style>\n",
       "<table border=\"1\" class=\"dataframe\">\n",
       "  <thead>\n",
       "    <tr style=\"text-align: right;\">\n",
       "      <th></th>\n",
       "      <th>Apple</th>\n",
       "      <th>Benz</th>\n",
       "    </tr>\n",
       "    <tr>\n",
       "      <th>분기별</th>\n",
       "      <th></th>\n",
       "      <th></th>\n",
       "    </tr>\n",
       "  </thead>\n",
       "  <tbody>\n",
       "    <tr>\n",
       "      <th>2분기</th>\n",
       "      <td>2</td>\n",
       "      <td>3</td>\n",
       "    </tr>\n",
       "    <tr>\n",
       "      <th>3분기</th>\n",
       "      <td>3</td>\n",
       "      <td>4</td>\n",
       "    </tr>\n",
       "  </tbody>\n",
       "</table>\n",
       "</div>"
      ],
      "text/plain": [
       "     Apple  Benz\n",
       "분기별             \n",
       "2분기      2     3\n",
       "3분기      3     4"
      ]
     },
     "execution_count": 224,
     "metadata": {},
     "output_type": "execute_result"
    }
   ],
   "source": [
    "df1"
   ]
  },
  {
   "cell_type": "code",
   "execution_count": 225,
   "id": "01a0e14b-9dc9-4e63-be90-409afce60490",
   "metadata": {},
   "outputs": [
    {
     "data": {
      "text/html": [
       "<div>\n",
       "<style scoped>\n",
       "    .dataframe tbody tr th:only-of-type {\n",
       "        vertical-align: middle;\n",
       "    }\n",
       "\n",
       "    .dataframe tbody tr th {\n",
       "        vertical-align: top;\n",
       "    }\n",
       "\n",
       "    .dataframe thead th {\n",
       "        text-align: right;\n",
       "    }\n",
       "</style>\n",
       "<table border=\"1\" class=\"dataframe\">\n",
       "  <thead>\n",
       "    <tr style=\"text-align: right;\">\n",
       "      <th></th>\n",
       "      <th>Benz</th>\n",
       "    </tr>\n",
       "    <tr>\n",
       "      <th>분기별</th>\n",
       "      <th></th>\n",
       "    </tr>\n",
       "  </thead>\n",
       "  <tbody>\n",
       "    <tr>\n",
       "      <th>2분기</th>\n",
       "      <td>3</td>\n",
       "    </tr>\n",
       "    <tr>\n",
       "      <th>3분기</th>\n",
       "      <td>4</td>\n",
       "    </tr>\n",
       "  </tbody>\n",
       "</table>\n",
       "</div>"
      ],
      "text/plain": [
       "     Benz\n",
       "분기별      \n",
       "2분기     3\n",
       "3분기     4"
      ]
     },
     "execution_count": 225,
     "metadata": {},
     "output_type": "execute_result"
    }
   ],
   "source": [
    "df1.drop(['Apple'], axis=1)"
   ]
  },
  {
   "cell_type": "code",
   "execution_count": 226,
   "id": "beb890b3-e035-48b2-a97b-1bf168b44b2d",
   "metadata": {},
   "outputs": [],
   "source": [
    "df3 = df2"
   ]
  },
  {
   "cell_type": "code",
   "execution_count": 227,
   "id": "d7c59330-d6fa-4ae0-ab3c-bd38940f7b87",
   "metadata": {},
   "outputs": [
    {
     "data": {
      "text/html": [
       "<div>\n",
       "<style scoped>\n",
       "    .dataframe tbody tr th:only-of-type {\n",
       "        vertical-align: middle;\n",
       "    }\n",
       "\n",
       "    .dataframe tbody tr th {\n",
       "        vertical-align: top;\n",
       "    }\n",
       "\n",
       "    .dataframe thead th {\n",
       "        text-align: right;\n",
       "    }\n",
       "</style>\n",
       "<table border=\"1\" class=\"dataframe\">\n",
       "  <thead>\n",
       "    <tr style=\"text-align: right;\">\n",
       "      <th></th>\n",
       "      <th>A</th>\n",
       "      <th>B</th>\n",
       "    </tr>\n",
       "  </thead>\n",
       "  <tbody>\n",
       "    <tr>\n",
       "      <th>0</th>\n",
       "      <td>1</td>\n",
       "      <td>2</td>\n",
       "    </tr>\n",
       "    <tr>\n",
       "      <th>1</th>\n",
       "      <td>2</td>\n",
       "      <td>3</td>\n",
       "    </tr>\n",
       "    <tr>\n",
       "      <th>2</th>\n",
       "      <td>3</td>\n",
       "      <td>4</td>\n",
       "    </tr>\n",
       "  </tbody>\n",
       "</table>\n",
       "</div>"
      ],
      "text/plain": [
       "   A  B\n",
       "0  1  2\n",
       "1  2  3\n",
       "2  3  4"
      ]
     },
     "execution_count": 227,
     "metadata": {},
     "output_type": "execute_result"
    }
   ],
   "source": [
    "df2"
   ]
  },
  {
   "cell_type": "code",
   "execution_count": 228,
   "id": "ca1caac9-d87d-4ac5-afb4-c0c123384deb",
   "metadata": {},
   "outputs": [
    {
     "data": {
      "text/html": [
       "<div>\n",
       "<style scoped>\n",
       "    .dataframe tbody tr th:only-of-type {\n",
       "        vertical-align: middle;\n",
       "    }\n",
       "\n",
       "    .dataframe tbody tr th {\n",
       "        vertical-align: top;\n",
       "    }\n",
       "\n",
       "    .dataframe thead th {\n",
       "        text-align: right;\n",
       "    }\n",
       "</style>\n",
       "<table border=\"1\" class=\"dataframe\">\n",
       "  <thead>\n",
       "    <tr style=\"text-align: right;\">\n",
       "      <th></th>\n",
       "      <th>A</th>\n",
       "      <th>B</th>\n",
       "    </tr>\n",
       "  </thead>\n",
       "  <tbody>\n",
       "    <tr>\n",
       "      <th>0</th>\n",
       "      <td>1</td>\n",
       "      <td>2</td>\n",
       "    </tr>\n",
       "    <tr>\n",
       "      <th>1</th>\n",
       "      <td>2</td>\n",
       "      <td>3</td>\n",
       "    </tr>\n",
       "    <tr>\n",
       "      <th>2</th>\n",
       "      <td>3</td>\n",
       "      <td>4</td>\n",
       "    </tr>\n",
       "  </tbody>\n",
       "</table>\n",
       "</div>"
      ],
      "text/plain": [
       "   A  B\n",
       "0  1  2\n",
       "1  2  3\n",
       "2  3  4"
      ]
     },
     "execution_count": 228,
     "metadata": {},
     "output_type": "execute_result"
    }
   ],
   "source": [
    "df3"
   ]
  },
  {
   "cell_type": "code",
   "execution_count": 229,
   "id": "f75f955a-6ab2-4b8f-988a-b077fff1f33c",
   "metadata": {},
   "outputs": [],
   "source": [
    "df3.iloc[0,0] = 100"
   ]
  },
  {
   "cell_type": "code",
   "execution_count": 230,
   "id": "1fdf523e-17ba-4e88-a701-e4a25b3e60c1",
   "metadata": {},
   "outputs": [
    {
     "data": {
      "text/html": [
       "<div>\n",
       "<style scoped>\n",
       "    .dataframe tbody tr th:only-of-type {\n",
       "        vertical-align: middle;\n",
       "    }\n",
       "\n",
       "    .dataframe tbody tr th {\n",
       "        vertical-align: top;\n",
       "    }\n",
       "\n",
       "    .dataframe thead th {\n",
       "        text-align: right;\n",
       "    }\n",
       "</style>\n",
       "<table border=\"1\" class=\"dataframe\">\n",
       "  <thead>\n",
       "    <tr style=\"text-align: right;\">\n",
       "      <th></th>\n",
       "      <th>A</th>\n",
       "      <th>B</th>\n",
       "    </tr>\n",
       "  </thead>\n",
       "  <tbody>\n",
       "    <tr>\n",
       "      <th>0</th>\n",
       "      <td>100</td>\n",
       "      <td>2</td>\n",
       "    </tr>\n",
       "    <tr>\n",
       "      <th>1</th>\n",
       "      <td>2</td>\n",
       "      <td>3</td>\n",
       "    </tr>\n",
       "    <tr>\n",
       "      <th>2</th>\n",
       "      <td>3</td>\n",
       "      <td>4</td>\n",
       "    </tr>\n",
       "  </tbody>\n",
       "</table>\n",
       "</div>"
      ],
      "text/plain": [
       "     A  B\n",
       "0  100  2\n",
       "1    2  3\n",
       "2    3  4"
      ]
     },
     "execution_count": 230,
     "metadata": {},
     "output_type": "execute_result"
    }
   ],
   "source": [
    "df3"
   ]
  },
  {
   "cell_type": "code",
   "execution_count": 231,
   "id": "34f85e23-dc5d-4229-9b96-ce0e4c7cd124",
   "metadata": {},
   "outputs": [],
   "source": [
    "df4 = df2.copy()"
   ]
  },
  {
   "cell_type": "code",
   "execution_count": 232,
   "id": "0a5b3c95-60c0-4aad-80d5-299eabdbf4e3",
   "metadata": {},
   "outputs": [],
   "source": [
    "df4.iloc[0,0] = 1000"
   ]
  },
  {
   "cell_type": "code",
   "execution_count": 233,
   "id": "3168fcfc-8b83-41a0-b891-1df5275cc5bb",
   "metadata": {},
   "outputs": [
    {
     "data": {
      "text/html": [
       "<div>\n",
       "<style scoped>\n",
       "    .dataframe tbody tr th:only-of-type {\n",
       "        vertical-align: middle;\n",
       "    }\n",
       "\n",
       "    .dataframe tbody tr th {\n",
       "        vertical-align: top;\n",
       "    }\n",
       "\n",
       "    .dataframe thead th {\n",
       "        text-align: right;\n",
       "    }\n",
       "</style>\n",
       "<table border=\"1\" class=\"dataframe\">\n",
       "  <thead>\n",
       "    <tr style=\"text-align: right;\">\n",
       "      <th></th>\n",
       "      <th>A</th>\n",
       "      <th>B</th>\n",
       "    </tr>\n",
       "  </thead>\n",
       "  <tbody>\n",
       "    <tr>\n",
       "      <th>0</th>\n",
       "      <td>100</td>\n",
       "      <td>2</td>\n",
       "    </tr>\n",
       "    <tr>\n",
       "      <th>1</th>\n",
       "      <td>2</td>\n",
       "      <td>3</td>\n",
       "    </tr>\n",
       "    <tr>\n",
       "      <th>2</th>\n",
       "      <td>3</td>\n",
       "      <td>4</td>\n",
       "    </tr>\n",
       "  </tbody>\n",
       "</table>\n",
       "</div>"
      ],
      "text/plain": [
       "     A  B\n",
       "0  100  2\n",
       "1    2  3\n",
       "2    3  4"
      ]
     },
     "execution_count": 233,
     "metadata": {},
     "output_type": "execute_result"
    }
   ],
   "source": [
    "df2"
   ]
  },
  {
   "cell_type": "code",
   "execution_count": 234,
   "id": "2ba38a93-0432-45f0-a34c-6843582fa736",
   "metadata": {},
   "outputs": [],
   "source": [
    "투수 = kbo[kbo['포지션'] == '투수(우투우타)'].copy()"
   ]
  },
  {
   "cell_type": "code",
   "execution_count": 235,
   "id": "34e126d8-ea7d-45b2-a771-30c13d10712b",
   "metadata": {},
   "outputs": [],
   "source": [
    "투수['키'] = 투수['신장/체중'].apply(lambda x : x.split(\"/\")[0])"
   ]
  },
  {
   "cell_type": "code",
   "execution_count": 236,
   "id": "134c5af7-4a6d-4cb4-9546-f76437af01e6",
   "metadata": {},
   "outputs": [
    {
     "data": {
      "text/html": [
       "<div>\n",
       "<style scoped>\n",
       "    .dataframe tbody tr th:only-of-type {\n",
       "        vertical-align: middle;\n",
       "    }\n",
       "\n",
       "    .dataframe tbody tr th {\n",
       "        vertical-align: top;\n",
       "    }\n",
       "\n",
       "    .dataframe thead th {\n",
       "        text-align: right;\n",
       "    }\n",
       "</style>\n",
       "<table border=\"1\" class=\"dataframe\">\n",
       "  <thead>\n",
       "    <tr style=\"text-align: right;\">\n",
       "      <th></th>\n",
       "      <th>선수명</th>\n",
       "      <th>생년월일</th>\n",
       "      <th>포지션</th>\n",
       "      <th>등번호</th>\n",
       "      <th>신장/체중</th>\n",
       "      <th>경력</th>\n",
       "      <th>입단 계약금</th>\n",
       "      <th>연봉</th>\n",
       "      <th>지명순위</th>\n",
       "      <th>입단년도</th>\n",
       "    </tr>\n",
       "  </thead>\n",
       "  <tbody>\n",
       "    <tr>\n",
       "      <th>0</th>\n",
       "      <td>강동연</td>\n",
       "      <td>1992년 12월 18일</td>\n",
       "      <td>투수(우투우타)</td>\n",
       "      <td>21.0</td>\n",
       "      <td>195cm/94kg</td>\n",
       "      <td>진북초-덕수중-유신고-두산-상무-두산</td>\n",
       "      <td>NaN</td>\n",
       "      <td>4400만원</td>\n",
       "      <td>11 두산 육성선수</td>\n",
       "      <td>12두산</td>\n",
       "    </tr>\n",
       "  </tbody>\n",
       "</table>\n",
       "</div>"
      ],
      "text/plain": [
       "   선수명           생년월일       포지션   등번호       신장/체중                    경력  \\\n",
       "0  강동연  1992년 12월 18일  투수(우투우타)  21.0  195cm/94kg  진북초-덕수중-유신고-두산-상무-두산   \n",
       "\n",
       "  입단 계약금      연봉        지명순위  입단년도  \n",
       "0    NaN  4400만원  11 두산 육성선수  12두산  "
      ]
     },
     "execution_count": 236,
     "metadata": {},
     "output_type": "execute_result"
    }
   ],
   "source": [
    "kbo"
   ]
  },
  {
   "cell_type": "code",
   "execution_count": 237,
   "id": "c2fcec40-9935-45fc-9735-3055dad90481",
   "metadata": {},
   "outputs": [
    {
     "data": {
      "text/html": [
       "<div>\n",
       "<style scoped>\n",
       "    .dataframe tbody tr th:only-of-type {\n",
       "        vertical-align: middle;\n",
       "    }\n",
       "\n",
       "    .dataframe tbody tr th {\n",
       "        vertical-align: top;\n",
       "    }\n",
       "\n",
       "    .dataframe thead th {\n",
       "        text-align: right;\n",
       "    }\n",
       "</style>\n",
       "<table border=\"1\" class=\"dataframe\">\n",
       "  <thead>\n",
       "    <tr style=\"text-align: right;\">\n",
       "      <th></th>\n",
       "      <th>A</th>\n",
       "      <th>B</th>\n",
       "    </tr>\n",
       "  </thead>\n",
       "  <tbody>\n",
       "    <tr>\n",
       "      <th>0</th>\n",
       "      <td>1000</td>\n",
       "      <td>2</td>\n",
       "    </tr>\n",
       "    <tr>\n",
       "      <th>1</th>\n",
       "      <td>2</td>\n",
       "      <td>3</td>\n",
       "    </tr>\n",
       "    <tr>\n",
       "      <th>2</th>\n",
       "      <td>3</td>\n",
       "      <td>4</td>\n",
       "    </tr>\n",
       "  </tbody>\n",
       "</table>\n",
       "</div>"
      ],
      "text/plain": [
       "      A  B\n",
       "0  1000  2\n",
       "1     2  3\n",
       "2     3  4"
      ]
     },
     "execution_count": 237,
     "metadata": {},
     "output_type": "execute_result"
    }
   ],
   "source": [
    "df4"
   ]
  },
  {
   "cell_type": "code",
   "execution_count": 238,
   "id": "22b2492d-5cc6-45c4-9fbf-2247ef56827f",
   "metadata": {},
   "outputs": [],
   "source": [
    "df4.loc[3, ['A', 'B']] = [5,6]"
   ]
  },
  {
   "cell_type": "code",
   "execution_count": 239,
   "id": "ec5fd7b0-74ed-465e-b4d2-dff9fe0b68d5",
   "metadata": {},
   "outputs": [],
   "source": [
    "df4.loc[100, ['A', 'B']] = [5,6]"
   ]
  },
  {
   "cell_type": "markdown",
   "id": "dda2ed5c-3b7b-48f8-958e-7df0d8908045",
   "metadata": {},
   "source": [
    "## 인덱스 초기화"
   ]
  },
  {
   "cell_type": "code",
   "execution_count": 240,
   "id": "11bbcbc9-6a62-4aba-b6aa-c5b8a9f1b16c",
   "metadata": {},
   "outputs": [],
   "source": [
    "df4.reset_index(drop=True, inplace=True)"
   ]
  },
  {
   "cell_type": "code",
   "execution_count": 241,
   "id": "ccc67e0c-1998-4c69-a0e1-a7020b0ff39b",
   "metadata": {},
   "outputs": [
    {
     "data": {
      "text/html": [
       "<div>\n",
       "<style scoped>\n",
       "    .dataframe tbody tr th:only-of-type {\n",
       "        vertical-align: middle;\n",
       "    }\n",
       "\n",
       "    .dataframe tbody tr th {\n",
       "        vertical-align: top;\n",
       "    }\n",
       "\n",
       "    .dataframe thead th {\n",
       "        text-align: right;\n",
       "    }\n",
       "</style>\n",
       "<table border=\"1\" class=\"dataframe\">\n",
       "  <thead>\n",
       "    <tr style=\"text-align: right;\">\n",
       "      <th></th>\n",
       "      <th>A</th>\n",
       "      <th>B</th>\n",
       "    </tr>\n",
       "  </thead>\n",
       "  <tbody>\n",
       "    <tr>\n",
       "      <th>0</th>\n",
       "      <td>1000.0</td>\n",
       "      <td>2.0</td>\n",
       "    </tr>\n",
       "    <tr>\n",
       "      <th>1</th>\n",
       "      <td>2.0</td>\n",
       "      <td>3.0</td>\n",
       "    </tr>\n",
       "    <tr>\n",
       "      <th>2</th>\n",
       "      <td>3.0</td>\n",
       "      <td>4.0</td>\n",
       "    </tr>\n",
       "    <tr>\n",
       "      <th>3</th>\n",
       "      <td>5.0</td>\n",
       "      <td>6.0</td>\n",
       "    </tr>\n",
       "    <tr>\n",
       "      <th>4</th>\n",
       "      <td>5.0</td>\n",
       "      <td>6.0</td>\n",
       "    </tr>\n",
       "  </tbody>\n",
       "</table>\n",
       "</div>"
      ],
      "text/plain": [
       "        A    B\n",
       "0  1000.0  2.0\n",
       "1     2.0  3.0\n",
       "2     3.0  4.0\n",
       "3     5.0  6.0\n",
       "4     5.0  6.0"
      ]
     },
     "execution_count": 241,
     "metadata": {},
     "output_type": "execute_result"
    }
   ],
   "source": [
    "df4"
   ]
  },
  {
   "cell_type": "markdown",
   "id": "ae39d6cc-9d38-4595-ad1a-184d5928120c",
   "metadata": {},
   "source": [
    "## 인덱스 설정 ( 컬럼 -> 인덱스)"
   ]
  },
  {
   "cell_type": "code",
   "execution_count": 242,
   "id": "3e2bced8-8359-4be5-b7b4-345d8a312e16",
   "metadata": {},
   "outputs": [],
   "source": [
    "kbo.set_index(\"선수명\", inplace=True)"
   ]
  },
  {
   "cell_type": "code",
   "execution_count": 243,
   "id": "ecea3e25-37f0-4657-af68-0d8bbd765a54",
   "metadata": {},
   "outputs": [
    {
     "data": {
      "text/html": [
       "<div>\n",
       "<style scoped>\n",
       "    .dataframe tbody tr th:only-of-type {\n",
       "        vertical-align: middle;\n",
       "    }\n",
       "\n",
       "    .dataframe tbody tr th {\n",
       "        vertical-align: top;\n",
       "    }\n",
       "\n",
       "    .dataframe thead th {\n",
       "        text-align: right;\n",
       "    }\n",
       "</style>\n",
       "<table border=\"1\" class=\"dataframe\">\n",
       "  <thead>\n",
       "    <tr style=\"text-align: right;\">\n",
       "      <th></th>\n",
       "      <th>생년월일</th>\n",
       "      <th>포지션</th>\n",
       "      <th>등번호</th>\n",
       "      <th>신장/체중</th>\n",
       "      <th>경력</th>\n",
       "      <th>입단 계약금</th>\n",
       "      <th>연봉</th>\n",
       "      <th>지명순위</th>\n",
       "      <th>입단년도</th>\n",
       "    </tr>\n",
       "    <tr>\n",
       "      <th>선수명</th>\n",
       "      <th></th>\n",
       "      <th></th>\n",
       "      <th></th>\n",
       "      <th></th>\n",
       "      <th></th>\n",
       "      <th></th>\n",
       "      <th></th>\n",
       "      <th></th>\n",
       "      <th></th>\n",
       "    </tr>\n",
       "  </thead>\n",
       "  <tbody>\n",
       "    <tr>\n",
       "      <th>강동연</th>\n",
       "      <td>1992년 12월 18일</td>\n",
       "      <td>투수(우투우타)</td>\n",
       "      <td>21.0</td>\n",
       "      <td>195cm/94kg</td>\n",
       "      <td>진북초-덕수중-유신고-두산-상무-두산</td>\n",
       "      <td>NaN</td>\n",
       "      <td>4400만원</td>\n",
       "      <td>11 두산 육성선수</td>\n",
       "      <td>12두산</td>\n",
       "    </tr>\n",
       "  </tbody>\n",
       "</table>\n",
       "</div>"
      ],
      "text/plain": [
       "              생년월일       포지션   등번호       신장/체중                    경력 입단 계약금  \\\n",
       "선수명                                                                           \n",
       "강동연  1992년 12월 18일  투수(우투우타)  21.0  195cm/94kg  진북초-덕수중-유신고-두산-상무-두산    NaN   \n",
       "\n",
       "         연봉        지명순위  입단년도  \n",
       "선수명                            \n",
       "강동연  4400만원  11 두산 육성선수  12두산  "
      ]
     },
     "execution_count": 243,
     "metadata": {},
     "output_type": "execute_result"
    }
   ],
   "source": [
    "kbo"
   ]
  },
  {
   "cell_type": "markdown",
   "id": "c153f03d-e5cd-47a8-aba6-afe12c93f931",
   "metadata": {},
   "source": [
    "### new data "
   ]
  },
  {
   "cell_type": "code",
   "execution_count": 244,
   "id": "b6355e48-f665-4a32-9fbe-7d7a97981728",
   "metadata": {},
   "outputs": [],
   "source": [
    "import requests"
   ]
  },
  {
   "cell_type": "code",
   "execution_count": 245,
   "id": "ad28d9c7-f2bd-4b8f-a21b-cb22abcc6bd3",
   "metadata": {},
   "outputs": [],
   "source": [
    "url = \"https://finance.naver.com/item/sise_day.nhn?code={}&page={}\""
   ]
  },
  {
   "cell_type": "code",
   "execution_count": 246,
   "id": "12abb987-7019-4fd8-bda3-e29cff439266",
   "metadata": {},
   "outputs": [],
   "source": [
    "code_list = ['035720', '005930']"
   ]
  },
  {
   "cell_type": "code",
   "execution_count": 247,
   "id": "74518423-a072-48f7-b4da-a5a3a421bde2",
   "metadata": {},
   "outputs": [],
   "source": [
    "head = {\"user-agent\": \"Mozilla/5.0 (Windows NT 10.0; Win64; x64) AppleWebKit/537.36 (KHTML, like Gecko) Chrome/93.0.4577.63 Safari/537.36 Edg/93.0.961.38\"}"
   ]
  },
  {
   "cell_type": "code",
   "execution_count": 248,
   "id": "6cf33470-e5c2-4f87-a7df-94bd7d41b895",
   "metadata": {},
   "outputs": [],
   "source": [
    "r = requests.get(\"https://finance.naver.com/item/sise_day.nhn?code=005930&page=10\", headers=head)"
   ]
  },
  {
   "cell_type": "code",
   "execution_count": 249,
   "id": "e88930a6-08a4-426d-822b-56dda6b0117a",
   "metadata": {},
   "outputs": [],
   "source": [
    "삼전 = pd.read_html(r.text)[0].dropna().iloc[::-1]"
   ]
  },
  {
   "cell_type": "code",
   "execution_count": 250,
   "id": "7b1486e7-74ba-40f6-bd83-1a1d55b8a59a",
   "metadata": {},
   "outputs": [
    {
     "data": {
      "text/html": [
       "<div>\n",
       "<style scoped>\n",
       "    .dataframe tbody tr th:only-of-type {\n",
       "        vertical-align: middle;\n",
       "    }\n",
       "\n",
       "    .dataframe tbody tr th {\n",
       "        vertical-align: top;\n",
       "    }\n",
       "\n",
       "    .dataframe thead th {\n",
       "        text-align: right;\n",
       "    }\n",
       "</style>\n",
       "<table border=\"1\" class=\"dataframe\">\n",
       "  <thead>\n",
       "    <tr style=\"text-align: right;\">\n",
       "      <th></th>\n",
       "      <th>날짜</th>\n",
       "      <th>종가</th>\n",
       "      <th>전일비</th>\n",
       "      <th>시가</th>\n",
       "      <th>고가</th>\n",
       "      <th>저가</th>\n",
       "      <th>거래량</th>\n",
       "    </tr>\n",
       "  </thead>\n",
       "  <tbody>\n",
       "    <tr>\n",
       "      <th>13</th>\n",
       "      <td>2021.04.20</td>\n",
       "      <td>83900.0</td>\n",
       "      <td>600.0</td>\n",
       "      <td>83300.0</td>\n",
       "      <td>84000.0</td>\n",
       "      <td>83100.0</td>\n",
       "      <td>15521965.0</td>\n",
       "    </tr>\n",
       "    <tr>\n",
       "      <th>12</th>\n",
       "      <td>2021.04.21</td>\n",
       "      <td>82600.0</td>\n",
       "      <td>1300.0</td>\n",
       "      <td>83300.0</td>\n",
       "      <td>83500.0</td>\n",
       "      <td>82500.0</td>\n",
       "      <td>21636079.0</td>\n",
       "    </tr>\n",
       "  </tbody>\n",
       "</table>\n",
       "</div>"
      ],
      "text/plain": [
       "            날짜       종가     전일비       시가       고가       저가         거래량\n",
       "13  2021.04.20  83900.0   600.0  83300.0  84000.0  83100.0  15521965.0\n",
       "12  2021.04.21  82600.0  1300.0  83300.0  83500.0  82500.0  21636079.0"
      ]
     },
     "execution_count": 250,
     "metadata": {},
     "output_type": "execute_result"
    }
   ],
   "source": [
    "삼전.head(2)"
   ]
  },
  {
   "cell_type": "code",
   "execution_count": 251,
   "id": "4621f552-3257-4631-b389-28426be1f6a0",
   "metadata": {},
   "outputs": [],
   "source": [
    "삼전['전날'] = 삼전.종가.shift(1)"
   ]
  },
  {
   "cell_type": "code",
   "execution_count": 252,
   "id": "05788160-d4c4-46d5-a151-df8ea57c89f3",
   "metadata": {},
   "outputs": [],
   "source": [
    "삼전['차이'] =삼전['종가'] - 삼전['전날'] "
   ]
  },
  {
   "cell_type": "code",
   "execution_count": 253,
   "id": "3786222c-7212-43b9-b48d-02e16d84c5e9",
   "metadata": {},
   "outputs": [],
   "source": [
    "삼전['상하락'] = 삼전.차이.apply(lambda x : True if x > 0 else False)"
   ]
  },
  {
   "cell_type": "code",
   "execution_count": 254,
   "id": "b9430730-ba63-440e-b29f-1116fd3abe25",
   "metadata": {},
   "outputs": [],
   "source": [
    "삼전2  = 삼전.copy()"
   ]
  },
  {
   "cell_type": "code",
   "execution_count": 255,
   "id": "c30585be-584a-46ee-bc4e-76c65de7d02c",
   "metadata": {},
   "outputs": [],
   "source": [
    "삼전2.dropna(inplace=True)"
   ]
  },
  {
   "cell_type": "code",
   "execution_count": 256,
   "id": "ba778fbb-87eb-4565-be72-a1dd701d1229",
   "metadata": {},
   "outputs": [],
   "source": [
    "삼전2['상하락'] = 삼전2[['종가', '전날']].apply(lambda x : True if x[0] - x[1] > 0 else False, axis=1)"
   ]
  },
  {
   "cell_type": "code",
   "execution_count": 257,
   "id": "f085c5de-f458-4277-aa4f-76ec6e169660",
   "metadata": {},
   "outputs": [
    {
     "data": {
      "text/html": [
       "<div>\n",
       "<style scoped>\n",
       "    .dataframe tbody tr th:only-of-type {\n",
       "        vertical-align: middle;\n",
       "    }\n",
       "\n",
       "    .dataframe tbody tr th {\n",
       "        vertical-align: top;\n",
       "    }\n",
       "\n",
       "    .dataframe thead th {\n",
       "        text-align: right;\n",
       "    }\n",
       "</style>\n",
       "<table border=\"1\" class=\"dataframe\">\n",
       "  <thead>\n",
       "    <tr style=\"text-align: right;\">\n",
       "      <th></th>\n",
       "      <th>날짜</th>\n",
       "      <th>종가</th>\n",
       "      <th>전일비</th>\n",
       "      <th>시가</th>\n",
       "      <th>고가</th>\n",
       "      <th>저가</th>\n",
       "      <th>거래량</th>\n",
       "      <th>전날</th>\n",
       "      <th>차이</th>\n",
       "      <th>상하락</th>\n",
       "    </tr>\n",
       "  </thead>\n",
       "  <tbody>\n",
       "    <tr>\n",
       "      <th>12</th>\n",
       "      <td>2021.04.21</td>\n",
       "      <td>82600.0</td>\n",
       "      <td>1300.0</td>\n",
       "      <td>83300.0</td>\n",
       "      <td>83500.0</td>\n",
       "      <td>82500.0</td>\n",
       "      <td>21636079.0</td>\n",
       "      <td>83900.0</td>\n",
       "      <td>-1300.0</td>\n",
       "      <td>False</td>\n",
       "    </tr>\n",
       "    <tr>\n",
       "      <th>11</th>\n",
       "      <td>2021.04.22</td>\n",
       "      <td>82400.0</td>\n",
       "      <td>200.0</td>\n",
       "      <td>82900.0</td>\n",
       "      <td>83000.0</td>\n",
       "      <td>82400.0</td>\n",
       "      <td>13934746.0</td>\n",
       "      <td>82600.0</td>\n",
       "      <td>-200.0</td>\n",
       "      <td>False</td>\n",
       "    </tr>\n",
       "    <tr>\n",
       "      <th>10</th>\n",
       "      <td>2021.04.23</td>\n",
       "      <td>82800.0</td>\n",
       "      <td>400.0</td>\n",
       "      <td>81900.0</td>\n",
       "      <td>82900.0</td>\n",
       "      <td>81600.0</td>\n",
       "      <td>17805080.0</td>\n",
       "      <td>82400.0</td>\n",
       "      <td>400.0</td>\n",
       "      <td>True</td>\n",
       "    </tr>\n",
       "    <tr>\n",
       "      <th>9</th>\n",
       "      <td>2021.04.26</td>\n",
       "      <td>83500.0</td>\n",
       "      <td>700.0</td>\n",
       "      <td>82900.0</td>\n",
       "      <td>83500.0</td>\n",
       "      <td>82600.0</td>\n",
       "      <td>15489938.0</td>\n",
       "      <td>82800.0</td>\n",
       "      <td>700.0</td>\n",
       "      <td>True</td>\n",
       "    </tr>\n",
       "    <tr>\n",
       "      <th>5</th>\n",
       "      <td>2021.04.27</td>\n",
       "      <td>82900.0</td>\n",
       "      <td>600.0</td>\n",
       "      <td>83200.0</td>\n",
       "      <td>83300.0</td>\n",
       "      <td>82500.0</td>\n",
       "      <td>12941533.0</td>\n",
       "      <td>83500.0</td>\n",
       "      <td>-600.0</td>\n",
       "      <td>False</td>\n",
       "    </tr>\n",
       "    <tr>\n",
       "      <th>4</th>\n",
       "      <td>2021.04.28</td>\n",
       "      <td>82100.0</td>\n",
       "      <td>800.0</td>\n",
       "      <td>83200.0</td>\n",
       "      <td>83200.0</td>\n",
       "      <td>82100.0</td>\n",
       "      <td>15596759.0</td>\n",
       "      <td>82900.0</td>\n",
       "      <td>-800.0</td>\n",
       "      <td>False</td>\n",
       "    </tr>\n",
       "    <tr>\n",
       "      <th>3</th>\n",
       "      <td>2021.04.29</td>\n",
       "      <td>81700.0</td>\n",
       "      <td>400.0</td>\n",
       "      <td>82400.0</td>\n",
       "      <td>82500.0</td>\n",
       "      <td>81500.0</td>\n",
       "      <td>20000973.0</td>\n",
       "      <td>82100.0</td>\n",
       "      <td>-400.0</td>\n",
       "      <td>False</td>\n",
       "    </tr>\n",
       "    <tr>\n",
       "      <th>2</th>\n",
       "      <td>2021.04.30</td>\n",
       "      <td>81500.0</td>\n",
       "      <td>200.0</td>\n",
       "      <td>81900.0</td>\n",
       "      <td>82100.0</td>\n",
       "      <td>81500.0</td>\n",
       "      <td>18673197.0</td>\n",
       "      <td>81700.0</td>\n",
       "      <td>-200.0</td>\n",
       "      <td>False</td>\n",
       "    </tr>\n",
       "    <tr>\n",
       "      <th>1</th>\n",
       "      <td>2021.05.03</td>\n",
       "      <td>81700.0</td>\n",
       "      <td>200.0</td>\n",
       "      <td>81000.0</td>\n",
       "      <td>82400.0</td>\n",
       "      <td>81000.0</td>\n",
       "      <td>15710336.0</td>\n",
       "      <td>81500.0</td>\n",
       "      <td>200.0</td>\n",
       "      <td>True</td>\n",
       "    </tr>\n",
       "  </tbody>\n",
       "</table>\n",
       "</div>"
      ],
      "text/plain": [
       "            날짜       종가     전일비       시가       고가       저가         거래량  \\\n",
       "12  2021.04.21  82600.0  1300.0  83300.0  83500.0  82500.0  21636079.0   \n",
       "11  2021.04.22  82400.0   200.0  82900.0  83000.0  82400.0  13934746.0   \n",
       "10  2021.04.23  82800.0   400.0  81900.0  82900.0  81600.0  17805080.0   \n",
       "9   2021.04.26  83500.0   700.0  82900.0  83500.0  82600.0  15489938.0   \n",
       "5   2021.04.27  82900.0   600.0  83200.0  83300.0  82500.0  12941533.0   \n",
       "4   2021.04.28  82100.0   800.0  83200.0  83200.0  82100.0  15596759.0   \n",
       "3   2021.04.29  81700.0   400.0  82400.0  82500.0  81500.0  20000973.0   \n",
       "2   2021.04.30  81500.0   200.0  81900.0  82100.0  81500.0  18673197.0   \n",
       "1   2021.05.03  81700.0   200.0  81000.0  82400.0  81000.0  15710336.0   \n",
       "\n",
       "         전날      차이    상하락  \n",
       "12  83900.0 -1300.0  False  \n",
       "11  82600.0  -200.0  False  \n",
       "10  82400.0   400.0   True  \n",
       "9   82800.0   700.0   True  \n",
       "5   83500.0  -600.0  False  \n",
       "4   82900.0  -800.0  False  \n",
       "3   82100.0  -400.0  False  \n",
       "2   81700.0  -200.0  False  \n",
       "1   81500.0   200.0   True  "
      ]
     },
     "execution_count": 257,
     "metadata": {},
     "output_type": "execute_result"
    }
   ],
   "source": [
    "삼전2"
   ]
  },
  {
   "cell_type": "code",
   "execution_count": 258,
   "id": "1ce21106-afad-4524-a4a6-8919a62a1789",
   "metadata": {},
   "outputs": [],
   "source": [
    "url = \"https://finance.naver.com/item/sise_day.nhn?code={}&page={}\"\n",
    "code_list = ['035720', '005930']"
   ]
  },
  {
   "cell_type": "code",
   "execution_count": 259,
   "id": "2974c39f-affe-4d56-b7ff-62fc780ddf36",
   "metadata": {},
   "outputs": [
    {
     "name": "stdout",
     "output_type": "stream",
     "text": [
      "Wall time: 1.02 s\n"
     ]
    }
   ],
   "source": [
    "%%time\n",
    "카카오 = []\n",
    "for x in range(1, 20):\n",
    "    r = requests.get(url.format('035720', x), headers=head)\n",
    "    tmp = pd.read_html(r.text)[0].dropna()\n",
    "    tmp['code'] = '035720'\n",
    "    카카오.append(tmp)"
   ]
  },
  {
   "cell_type": "code",
   "execution_count": 260,
   "id": "cf70734a-ceb1-4d1f-ad7e-0333fc63915b",
   "metadata": {},
   "outputs": [
    {
     "data": {
      "text/plain": [
       "1207.44"
      ]
     },
     "execution_count": 260,
     "metadata": {},
     "output_type": "execute_result"
    }
   ],
   "source": [
    "1.29 * 936"
   ]
  },
  {
   "cell_type": "code",
   "execution_count": 261,
   "id": "832d6bfe-44f2-4983-8ef7-0cb53d1c34f2",
   "metadata": {},
   "outputs": [
    {
     "data": {
      "text/plain": [
       "19"
      ]
     },
     "execution_count": 261,
     "metadata": {},
     "output_type": "execute_result"
    }
   ],
   "source": [
    "len(카카오)"
   ]
  },
  {
   "cell_type": "code",
   "execution_count": 262,
   "id": "04e32cda-9f58-4425-a805-b8922772f810",
   "metadata": {},
   "outputs": [],
   "source": [
    "cacao = pd.concat(카카오)"
   ]
  },
  {
   "cell_type": "code",
   "execution_count": 263,
   "id": "ce45228b-8f00-4dde-90aa-d8c04853d3b3",
   "metadata": {},
   "outputs": [],
   "source": [
    "cacao = cacao.iloc[::-1].copy()"
   ]
  },
  {
   "cell_type": "code",
   "execution_count": 264,
   "id": "978f919f-f919-4cb9-93d4-f3a0736d963f",
   "metadata": {},
   "outputs": [],
   "source": [
    "cacao.reset_index(drop=True, inplace=True)"
   ]
  },
  {
   "cell_type": "code",
   "execution_count": 265,
   "id": "da8e5915-4c6b-4976-bd59-2506236b648a",
   "metadata": {},
   "outputs": [],
   "source": [
    "cacao['MA15'] = cacao['종가'].rolling(15).mean()"
   ]
  },
  {
   "cell_type": "code",
   "execution_count": 266,
   "id": "bf3afc09-e4ec-4e55-8686-ba10db8c4b33",
   "metadata": {},
   "outputs": [],
   "source": [
    "cacao.dropna(inplace=True)"
   ]
  },
  {
   "cell_type": "code",
   "execution_count": 267,
   "id": "363da896-de55-4829-a4a4-1e3e74f18403",
   "metadata": {},
   "outputs": [
    {
     "data": {
      "text/html": [
       "<div>\n",
       "<style scoped>\n",
       "    .dataframe tbody tr th:only-of-type {\n",
       "        vertical-align: middle;\n",
       "    }\n",
       "\n",
       "    .dataframe tbody tr th {\n",
       "        vertical-align: top;\n",
       "    }\n",
       "\n",
       "    .dataframe thead th {\n",
       "        text-align: right;\n",
       "    }\n",
       "</style>\n",
       "<table border=\"1\" class=\"dataframe\">\n",
       "  <thead>\n",
       "    <tr style=\"text-align: right;\">\n",
       "      <th></th>\n",
       "      <th>날짜</th>\n",
       "      <th>종가</th>\n",
       "      <th>전일비</th>\n",
       "      <th>시가</th>\n",
       "      <th>고가</th>\n",
       "      <th>저가</th>\n",
       "      <th>거래량</th>\n",
       "      <th>code</th>\n",
       "      <th>MA15</th>\n",
       "    </tr>\n",
       "  </thead>\n",
       "  <tbody>\n",
       "    <tr>\n",
       "      <th>189</th>\n",
       "      <td>2021.09.09</td>\n",
       "      <td>128500.0</td>\n",
       "      <td>10000.0</td>\n",
       "      <td>134000.0</td>\n",
       "      <td>134500.0</td>\n",
       "      <td>128000.0</td>\n",
       "      <td>14249597.0</td>\n",
       "      <td>035720</td>\n",
       "      <td>149366.666667</td>\n",
       "    </tr>\n",
       "    <tr>\n",
       "      <th>188</th>\n",
       "      <td>2021.09.08</td>\n",
       "      <td>138500.0</td>\n",
       "      <td>15500.0</td>\n",
       "      <td>151500.0</td>\n",
       "      <td>151500.0</td>\n",
       "      <td>136500.0</td>\n",
       "      <td>16920382.0</td>\n",
       "      <td>035720</td>\n",
       "      <td>150566.666667</td>\n",
       "    </tr>\n",
       "    <tr>\n",
       "      <th>187</th>\n",
       "      <td>2021.09.07</td>\n",
       "      <td>154000.0</td>\n",
       "      <td>1500.0</td>\n",
       "      <td>155500.0</td>\n",
       "      <td>156000.0</td>\n",
       "      <td>153500.0</td>\n",
       "      <td>1072249.0</td>\n",
       "      <td>035720</td>\n",
       "      <td>151033.333333</td>\n",
       "    </tr>\n",
       "    <tr>\n",
       "      <th>186</th>\n",
       "      <td>2021.09.06</td>\n",
       "      <td>155500.0</td>\n",
       "      <td>1000.0</td>\n",
       "      <td>156000.0</td>\n",
       "      <td>156500.0</td>\n",
       "      <td>152500.0</td>\n",
       "      <td>1883428.0</td>\n",
       "      <td>035720</td>\n",
       "      <td>150233.333333</td>\n",
       "    </tr>\n",
       "    <tr>\n",
       "      <th>185</th>\n",
       "      <td>2021.09.03</td>\n",
       "      <td>156500.0</td>\n",
       "      <td>1500.0</td>\n",
       "      <td>155500.0</td>\n",
       "      <td>157500.0</td>\n",
       "      <td>154500.0</td>\n",
       "      <td>1934669.0</td>\n",
       "      <td>035720</td>\n",
       "      <td>149600.000000</td>\n",
       "    </tr>\n",
       "    <tr>\n",
       "      <th>...</th>\n",
       "      <td>...</td>\n",
       "      <td>...</td>\n",
       "      <td>...</td>\n",
       "      <td>...</td>\n",
       "      <td>...</td>\n",
       "      <td>...</td>\n",
       "      <td>...</td>\n",
       "      <td>...</td>\n",
       "      <td>...</td>\n",
       "    </tr>\n",
       "    <tr>\n",
       "      <th>18</th>\n",
       "      <td>2021.01.05</td>\n",
       "      <td>393000.0</td>\n",
       "      <td>3000.0</td>\n",
       "      <td>393000.0</td>\n",
       "      <td>395500.0</td>\n",
       "      <td>387000.0</td>\n",
       "      <td>748559.0</td>\n",
       "      <td>035720</td>\n",
       "      <td>378000.000000</td>\n",
       "    </tr>\n",
       "    <tr>\n",
       "      <th>17</th>\n",
       "      <td>2021.01.04</td>\n",
       "      <td>396000.0</td>\n",
       "      <td>6500.0</td>\n",
       "      <td>392000.0</td>\n",
       "      <td>396500.0</td>\n",
       "      <td>385500.0</td>\n",
       "      <td>853740.0</td>\n",
       "      <td>035720</td>\n",
       "      <td>376500.000000</td>\n",
       "    </tr>\n",
       "    <tr>\n",
       "      <th>16</th>\n",
       "      <td>2020.12.30</td>\n",
       "      <td>389500.0</td>\n",
       "      <td>5000.0</td>\n",
       "      <td>384500.0</td>\n",
       "      <td>394000.0</td>\n",
       "      <td>383500.0</td>\n",
       "      <td>813142.0</td>\n",
       "      <td>035720</td>\n",
       "      <td>375100.000000</td>\n",
       "    </tr>\n",
       "    <tr>\n",
       "      <th>15</th>\n",
       "      <td>2020.12.29</td>\n",
       "      <td>384500.0</td>\n",
       "      <td>11500.0</td>\n",
       "      <td>381000.0</td>\n",
       "      <td>385500.0</td>\n",
       "      <td>378000.0</td>\n",
       "      <td>857404.0</td>\n",
       "      <td>035720</td>\n",
       "      <td>374100.000000</td>\n",
       "    </tr>\n",
       "    <tr>\n",
       "      <th>14</th>\n",
       "      <td>2020.12.28</td>\n",
       "      <td>373000.0</td>\n",
       "      <td>1000.0</td>\n",
       "      <td>374500.0</td>\n",
       "      <td>377000.0</td>\n",
       "      <td>369500.0</td>\n",
       "      <td>646464.0</td>\n",
       "      <td>035720</td>\n",
       "      <td>374133.333333</td>\n",
       "    </tr>\n",
       "  </tbody>\n",
       "</table>\n",
       "<p>176 rows × 9 columns</p>\n",
       "</div>"
      ],
      "text/plain": [
       "             날짜        종가      전일비        시가        고가        저가         거래량  \\\n",
       "189  2021.09.09  128500.0  10000.0  134000.0  134500.0  128000.0  14249597.0   \n",
       "188  2021.09.08  138500.0  15500.0  151500.0  151500.0  136500.0  16920382.0   \n",
       "187  2021.09.07  154000.0   1500.0  155500.0  156000.0  153500.0   1072249.0   \n",
       "186  2021.09.06  155500.0   1000.0  156000.0  156500.0  152500.0   1883428.0   \n",
       "185  2021.09.03  156500.0   1500.0  155500.0  157500.0  154500.0   1934669.0   \n",
       "..          ...       ...      ...       ...       ...       ...         ...   \n",
       "18   2021.01.05  393000.0   3000.0  393000.0  395500.0  387000.0    748559.0   \n",
       "17   2021.01.04  396000.0   6500.0  392000.0  396500.0  385500.0    853740.0   \n",
       "16   2020.12.30  389500.0   5000.0  384500.0  394000.0  383500.0    813142.0   \n",
       "15   2020.12.29  384500.0  11500.0  381000.0  385500.0  378000.0    857404.0   \n",
       "14   2020.12.28  373000.0   1000.0  374500.0  377000.0  369500.0    646464.0   \n",
       "\n",
       "       code           MA15  \n",
       "189  035720  149366.666667  \n",
       "188  035720  150566.666667  \n",
       "187  035720  151033.333333  \n",
       "186  035720  150233.333333  \n",
       "185  035720  149600.000000  \n",
       "..      ...            ...  \n",
       "18   035720  378000.000000  \n",
       "17   035720  376500.000000  \n",
       "16   035720  375100.000000  \n",
       "15   035720  374100.000000  \n",
       "14   035720  374133.333333  \n",
       "\n",
       "[176 rows x 9 columns]"
      ]
     },
     "execution_count": 267,
     "metadata": {},
     "output_type": "execute_result"
    }
   ],
   "source": [
    "cacao.iloc[::-1]"
   ]
  },
  {
   "cell_type": "code",
   "execution_count": 268,
   "id": "a6c8959f-340d-45cf-8d69-f41603168e63",
   "metadata": {},
   "outputs": [],
   "source": [
    "stock = pd.read_csv(\"./data_4013_20210909.csv\", encoding='cp949')"
   ]
  },
  {
   "cell_type": "code",
   "execution_count": 269,
   "id": "435280d6-3222-4f08-a19e-c8219447524d",
   "metadata": {},
   "outputs": [
    {
     "data": {
      "text/plain": [
       "(2579, 12)"
      ]
     },
     "execution_count": 269,
     "metadata": {},
     "output_type": "execute_result"
    }
   ],
   "source": [
    "stock.shape"
   ]
  },
  {
   "cell_type": "code",
   "execution_count": 270,
   "id": "e887040f-c42c-47e3-845d-c5105e9a8b84",
   "metadata": {},
   "outputs": [
    {
     "data": {
      "text/html": [
       "<div>\n",
       "<style scoped>\n",
       "    .dataframe tbody tr th:only-of-type {\n",
       "        vertical-align: middle;\n",
       "    }\n",
       "\n",
       "    .dataframe tbody tr th {\n",
       "        vertical-align: top;\n",
       "    }\n",
       "\n",
       "    .dataframe thead th {\n",
       "        text-align: right;\n",
       "    }\n",
       "</style>\n",
       "<table border=\"1\" class=\"dataframe\">\n",
       "  <thead>\n",
       "    <tr style=\"text-align: right;\">\n",
       "      <th></th>\n",
       "      <th>표준코드</th>\n",
       "      <th>단축코드</th>\n",
       "      <th>한글 종목명</th>\n",
       "      <th>한글 종목약명</th>\n",
       "      <th>영문 종목명</th>\n",
       "      <th>상장일</th>\n",
       "      <th>시장구분</th>\n",
       "      <th>증권구분</th>\n",
       "      <th>소속부</th>\n",
       "      <th>주식종류</th>\n",
       "      <th>액면가</th>\n",
       "      <th>상장주식수</th>\n",
       "    </tr>\n",
       "  </thead>\n",
       "  <tbody>\n",
       "    <tr>\n",
       "      <th>0</th>\n",
       "      <td>KR7098120009</td>\n",
       "      <td>098120</td>\n",
       "      <td>(주)마이크로컨텍솔루션</td>\n",
       "      <td>마이크로컨텍솔</td>\n",
       "      <td>Micro Contact Solution Co.,Ltd.</td>\n",
       "      <td>2008/09/23</td>\n",
       "      <td>KOSDAQ</td>\n",
       "      <td>주권</td>\n",
       "      <td>벤처기업부</td>\n",
       "      <td>보통주</td>\n",
       "      <td>500</td>\n",
       "      <td>8312766</td>\n",
       "    </tr>\n",
       "    <tr>\n",
       "      <th>1</th>\n",
       "      <td>KR7131100000</td>\n",
       "      <td>131100</td>\n",
       "      <td>(주)스카이이앤엠</td>\n",
       "      <td>스카이이앤엠</td>\n",
       "      <td>SKY E&amp;M Co., Ltd.</td>\n",
       "      <td>2011/06/14</td>\n",
       "      <td>KOSDAQ</td>\n",
       "      <td>주권</td>\n",
       "      <td>투자주의환기종목(소속부없음)</td>\n",
       "      <td>보통주</td>\n",
       "      <td>100</td>\n",
       "      <td>41281205</td>\n",
       "    </tr>\n",
       "    <tr>\n",
       "      <th>2</th>\n",
       "      <td>KR7009520008</td>\n",
       "      <td>009520</td>\n",
       "      <td>(주)포스코엠텍</td>\n",
       "      <td>포스코엠텍</td>\n",
       "      <td>POSCO M-TECH CO.,LTD.</td>\n",
       "      <td>1997/11/10</td>\n",
       "      <td>KOSDAQ</td>\n",
       "      <td>주권</td>\n",
       "      <td>우량기업부</td>\n",
       "      <td>보통주</td>\n",
       "      <td>500</td>\n",
       "      <td>41642703</td>\n",
       "    </tr>\n",
       "    <tr>\n",
       "      <th>3</th>\n",
       "      <td>KR7095570008</td>\n",
       "      <td>095570</td>\n",
       "      <td>AJ네트웍스보통주</td>\n",
       "      <td>AJ네트웍스</td>\n",
       "      <td>AJ Networks Co.,Ltd.</td>\n",
       "      <td>2015/08/21</td>\n",
       "      <td>KOSPI</td>\n",
       "      <td>주권</td>\n",
       "      <td>NaN</td>\n",
       "      <td>보통주</td>\n",
       "      <td>1000</td>\n",
       "      <td>46822295</td>\n",
       "    </tr>\n",
       "    <tr>\n",
       "      <th>4</th>\n",
       "      <td>KR7006840003</td>\n",
       "      <td>006840</td>\n",
       "      <td>AK홀딩스보통주</td>\n",
       "      <td>AK홀딩스</td>\n",
       "      <td>AK Holdings, Inc.</td>\n",
       "      <td>1999/08/11</td>\n",
       "      <td>KOSPI</td>\n",
       "      <td>주권</td>\n",
       "      <td>NaN</td>\n",
       "      <td>보통주</td>\n",
       "      <td>5000</td>\n",
       "      <td>13247561</td>\n",
       "    </tr>\n",
       "    <tr>\n",
       "      <th>...</th>\n",
       "      <td>...</td>\n",
       "      <td>...</td>\n",
       "      <td>...</td>\n",
       "      <td>...</td>\n",
       "      <td>...</td>\n",
       "      <td>...</td>\n",
       "      <td>...</td>\n",
       "      <td>...</td>\n",
       "      <td>...</td>\n",
       "      <td>...</td>\n",
       "      <td>...</td>\n",
       "      <td>...</td>\n",
       "    </tr>\n",
       "    <tr>\n",
       "      <th>2574</th>\n",
       "      <td>KR7000542001</td>\n",
       "      <td>000547</td>\n",
       "      <td>흥국화재해상보험2우선주(신형)</td>\n",
       "      <td>흥국화재2우B</td>\n",
       "      <td>HeungkukFire&amp;MarineIns(2PB)</td>\n",
       "      <td>1999/08/09</td>\n",
       "      <td>KOSPI</td>\n",
       "      <td>주권</td>\n",
       "      <td>NaN</td>\n",
       "      <td>신형우선주</td>\n",
       "      <td>5000</td>\n",
       "      <td>153600</td>\n",
       "    </tr>\n",
       "    <tr>\n",
       "      <th>2575</th>\n",
       "      <td>KR7000540005</td>\n",
       "      <td>000540</td>\n",
       "      <td>흥국화재해상보험보통주</td>\n",
       "      <td>흥국화재</td>\n",
       "      <td>HeungkukFire&amp;MarineInsurance</td>\n",
       "      <td>1974/12/05</td>\n",
       "      <td>KOSPI</td>\n",
       "      <td>주권</td>\n",
       "      <td>NaN</td>\n",
       "      <td>보통주</td>\n",
       "      <td>5000</td>\n",
       "      <td>64242645</td>\n",
       "    </tr>\n",
       "    <tr>\n",
       "      <th>2576</th>\n",
       "      <td>KR7003280005</td>\n",
       "      <td>003280</td>\n",
       "      <td>흥아해운보통주</td>\n",
       "      <td>흥아해운</td>\n",
       "      <td>HeungaShipping</td>\n",
       "      <td>1976/06/29</td>\n",
       "      <td>KOSPI</td>\n",
       "      <td>주권</td>\n",
       "      <td>NaN</td>\n",
       "      <td>보통주</td>\n",
       "      <td>500</td>\n",
       "      <td>239125028</td>\n",
       "    </tr>\n",
       "    <tr>\n",
       "      <th>2577</th>\n",
       "      <td>KR7037440005</td>\n",
       "      <td>037440</td>\n",
       "      <td>희림종합건축사사무소</td>\n",
       "      <td>희림</td>\n",
       "      <td>Heerim Architects &amp; Planners</td>\n",
       "      <td>2000/02/03</td>\n",
       "      <td>KOSDAQ</td>\n",
       "      <td>주권</td>\n",
       "      <td>중견기업부</td>\n",
       "      <td>보통주</td>\n",
       "      <td>500</td>\n",
       "      <td>13922475</td>\n",
       "    </tr>\n",
       "    <tr>\n",
       "      <th>2578</th>\n",
       "      <td>KR7238490007</td>\n",
       "      <td>238490</td>\n",
       "      <td>힘스</td>\n",
       "      <td>힘스</td>\n",
       "      <td>HIMS CO., LTD.</td>\n",
       "      <td>2017/07/20</td>\n",
       "      <td>KOSDAQ</td>\n",
       "      <td>주권</td>\n",
       "      <td>우량기업부</td>\n",
       "      <td>보통주</td>\n",
       "      <td>500</td>\n",
       "      <td>11312236</td>\n",
       "    </tr>\n",
       "  </tbody>\n",
       "</table>\n",
       "<p>2579 rows × 12 columns</p>\n",
       "</div>"
      ],
      "text/plain": [
       "              표준코드    단축코드            한글 종목명  한글 종목약명  \\\n",
       "0     KR7098120009  098120      (주)마이크로컨텍솔루션  마이크로컨텍솔   \n",
       "1     KR7131100000  131100         (주)스카이이앤엠   스카이이앤엠   \n",
       "2     KR7009520008  009520          (주)포스코엠텍    포스코엠텍   \n",
       "3     KR7095570008  095570         AJ네트웍스보통주   AJ네트웍스   \n",
       "4     KR7006840003  006840          AK홀딩스보통주    AK홀딩스   \n",
       "...            ...     ...               ...      ...   \n",
       "2574  KR7000542001  000547  흥국화재해상보험2우선주(신형)  흥국화재2우B   \n",
       "2575  KR7000540005  000540       흥국화재해상보험보통주     흥국화재   \n",
       "2576  KR7003280005  003280           흥아해운보통주     흥아해운   \n",
       "2577  KR7037440005  037440        희림종합건축사사무소       희림   \n",
       "2578  KR7238490007  238490                힘스       힘스   \n",
       "\n",
       "                               영문 종목명         상장일    시장구분 증권구분  \\\n",
       "0     Micro Contact Solution Co.,Ltd.  2008/09/23  KOSDAQ   주권   \n",
       "1                   SKY E&M Co., Ltd.  2011/06/14  KOSDAQ   주권   \n",
       "2               POSCO M-TECH CO.,LTD.  1997/11/10  KOSDAQ   주권   \n",
       "3                AJ Networks Co.,Ltd.  2015/08/21   KOSPI   주권   \n",
       "4                   AK Holdings, Inc.  1999/08/11   KOSPI   주권   \n",
       "...                               ...         ...     ...  ...   \n",
       "2574      HeungkukFire&MarineIns(2PB)  1999/08/09   KOSPI   주권   \n",
       "2575     HeungkukFire&MarineInsurance  1974/12/05   KOSPI   주권   \n",
       "2576                   HeungaShipping  1976/06/29   KOSPI   주권   \n",
       "2577     Heerim Architects & Planners  2000/02/03  KOSDAQ   주권   \n",
       "2578                   HIMS CO., LTD.  2017/07/20  KOSDAQ   주권   \n",
       "\n",
       "                  소속부   주식종류   액면가      상장주식수  \n",
       "0               벤처기업부    보통주   500    8312766  \n",
       "1     투자주의환기종목(소속부없음)    보통주   100   41281205  \n",
       "2               우량기업부    보통주   500   41642703  \n",
       "3                 NaN    보통주  1000   46822295  \n",
       "4                 NaN    보통주  5000   13247561  \n",
       "...               ...    ...   ...        ...  \n",
       "2574              NaN  신형우선주  5000     153600  \n",
       "2575              NaN    보통주  5000   64242645  \n",
       "2576              NaN    보통주   500  239125028  \n",
       "2577            중견기업부    보통주   500   13922475  \n",
       "2578            우량기업부    보통주   500   11312236  \n",
       "\n",
       "[2579 rows x 12 columns]"
      ]
     },
     "execution_count": 270,
     "metadata": {},
     "output_type": "execute_result"
    }
   ],
   "source": [
    "stock"
   ]
  },
  {
   "cell_type": "code",
   "execution_count": 271,
   "id": "ffa2a64e-6d5a-4de8-b238-c21da910afbb",
   "metadata": {},
   "outputs": [],
   "source": [
    "url_krx = \"http://data.krx.co.kr/comm/bldAttendant/getJsonData.cmd\""
   ]
  },
  {
   "cell_type": "code",
   "execution_count": 272,
   "id": "434d06e6-85df-4fe4-ba2e-80ec159106c2",
   "metadata": {},
   "outputs": [],
   "source": [
    "payload = {\n",
    "    \"bld\": \"dbms/MDC/STAT/standard/MDCSTAT01901\",\n",
    "    \"mktId\": \"ALL\",\n",
    "    \"share\": \"1\",\n",
    "    \"csvxls_isNo\": \"false\",\n",
    "}"
   ]
  },
  {
   "cell_type": "code",
   "execution_count": 273,
   "id": "e2d48ba8-6ab6-41ba-b8cb-a2148d9ac58b",
   "metadata": {},
   "outputs": [],
   "source": [
    "r = requests.post(url_krx, data=payload, headers=head)"
   ]
  },
  {
   "cell_type": "code",
   "execution_count": 274,
   "id": "a80018d4-aafd-4b70-b5cb-3fbe9abf2ce7",
   "metadata": {},
   "outputs": [
    {
     "data": {
      "text/plain": [
       "dict_keys(['OutBlock_1', 'CURRENT_DATETIME'])"
      ]
     },
     "execution_count": 274,
     "metadata": {},
     "output_type": "execute_result"
    }
   ],
   "source": [
    "r.json().keys()"
   ]
  },
  {
   "cell_type": "code",
   "execution_count": 275,
   "id": "44a26fff-7d1a-4e47-a241-847283025383",
   "metadata": {},
   "outputs": [
    {
     "data": {
      "text/plain": [
       "array(['KOSDAQ', 'KOSPI', 'KONEX'], dtype=object)"
      ]
     },
     "execution_count": 275,
     "metadata": {},
     "output_type": "execute_result"
    }
   ],
   "source": [
    "pd.DataFrame(r.json()['OutBlock_1'])['MKT_TP_NM'].unique()"
   ]
  },
  {
   "cell_type": "markdown",
   "id": "de78d34d-76f6-4aaf-9711-3e434e9ff3fc",
   "metadata": {},
   "source": [
    "### KOSPI 대상 \n",
    "### 네이버 금융 페이지 기준 20\n",
    "### DataFrame -> 종목명, 종목코드, MA30\n",
    "##### MA 계산할때 날짜 정렬된 것을 확인하고 만들것 \n",
    "### 결측치는 제거 \n",
    "### 모든 DataFrame은 total_stock이라는 DataFrame 저장 "
   ]
  },
  {
   "cell_type": "code",
   "execution_count": 276,
   "id": "31d53cdd-0a92-47e9-bd55-8883aaa86e31",
   "metadata": {},
   "outputs": [
    {
     "data": {
      "text/plain": [
       "187200"
      ]
     },
     "execution_count": 276,
     "metadata": {},
     "output_type": "execute_result"
    }
   ],
   "source": [
    "936 * 200"
   ]
  },
  {
   "cell_type": "code",
   "execution_count": 277,
   "id": "55da1674-ec5f-4b3f-858a-b31dcd47d252",
   "metadata": {},
   "outputs": [],
   "source": [
    "def get_stock(code_, name_, page_, MA):\n",
    "    url = \"https://finance.naver.com/item/sise_day.nhn?code={}&page={}\"\n",
    "    head = {\"user-agent\": \"Mozilla/5.0 (Windows NT 10.0; Win64; x64) AppleWebKit/537.36 (KHTML, like Gecko) Chrome/93.0.4577.63 Safari/537.36 Edg/93.0.961.38\"}\n",
    "    \n",
    "    stock = []\n",
    "    for x in range(1, page_):\n",
    "        r = requests.get(url.format(code_, x), headers=head)\n",
    "        tmp = pd.read_html(r.text)[0].dropna()\n",
    "        tmp['종목코드'] = code_\n",
    "        tmp['종목명'] = name_\n",
    "        stock.append(tmp)\n",
    "        \n",
    "    total = pd.concat(stock)\n",
    "    total = total.iloc[::-1].copy()\n",
    "    total['MA{}'.format(MA)] = total['종가'].rolling(MA).mean()\n",
    "    total.dropna(inplace=True)\n",
    "    return total.reset_index(drop=True)"
   ]
  },
  {
   "cell_type": "code",
   "execution_count": 278,
   "id": "40b20be1-fa86-4c57-b010-c645fb635189",
   "metadata": {},
   "outputs": [],
   "source": [
    "rt = get_stock(\"005930\", \"삼성전자\", 21, 20)"
   ]
  },
  {
   "cell_type": "code",
   "execution_count": 279,
   "id": "303eebf5-6bea-4dd0-8c51-d17e8ddb4097",
   "metadata": {},
   "outputs": [],
   "source": [
    "krx = pd.DataFrame(r.json()['OutBlock_1'])"
   ]
  },
  {
   "cell_type": "code",
   "execution_count": 280,
   "id": "0663929c-560f-4b4b-bfab-051e782db350",
   "metadata": {},
   "outputs": [
    {
     "data": {
      "text/html": [
       "<div>\n",
       "<style scoped>\n",
       "    .dataframe tbody tr th:only-of-type {\n",
       "        vertical-align: middle;\n",
       "    }\n",
       "\n",
       "    .dataframe tbody tr th {\n",
       "        vertical-align: top;\n",
       "    }\n",
       "\n",
       "    .dataframe thead th {\n",
       "        text-align: right;\n",
       "    }\n",
       "</style>\n",
       "<table border=\"1\" class=\"dataframe\">\n",
       "  <thead>\n",
       "    <tr style=\"text-align: right;\">\n",
       "      <th></th>\n",
       "      <th>ISU_CD</th>\n",
       "      <th>ISU_SRT_CD</th>\n",
       "      <th>ISU_NM</th>\n",
       "      <th>ISU_ABBRV</th>\n",
       "      <th>ISU_ENG_NM</th>\n",
       "      <th>LIST_DD</th>\n",
       "      <th>MKT_TP_NM</th>\n",
       "      <th>SECUGRP_NM</th>\n",
       "      <th>SECT_TP_NM</th>\n",
       "      <th>KIND_STKCERT_TP_NM</th>\n",
       "      <th>PARVAL</th>\n",
       "      <th>LIST_SHRS</th>\n",
       "    </tr>\n",
       "  </thead>\n",
       "  <tbody>\n",
       "    <tr>\n",
       "      <th>0</th>\n",
       "      <td>KR7098120009</td>\n",
       "      <td>098120</td>\n",
       "      <td>(주)마이크로컨텍솔루션</td>\n",
       "      <td>마이크로컨텍솔</td>\n",
       "      <td>Micro Contact Solution Co.,Ltd.</td>\n",
       "      <td>2008/09/23</td>\n",
       "      <td>KOSDAQ</td>\n",
       "      <td>주권</td>\n",
       "      <td>벤처기업부</td>\n",
       "      <td>보통주</td>\n",
       "      <td>500</td>\n",
       "      <td>8,312,766</td>\n",
       "    </tr>\n",
       "    <tr>\n",
       "      <th>1</th>\n",
       "      <td>KR7131100000</td>\n",
       "      <td>131100</td>\n",
       "      <td>(주)스카이이앤엠</td>\n",
       "      <td>스카이이앤엠</td>\n",
       "      <td>SKY E&amp;M Co., Ltd.</td>\n",
       "      <td>2011/06/14</td>\n",
       "      <td>KOSDAQ</td>\n",
       "      <td>주권</td>\n",
       "      <td>투자주의환기종목(소속부없음)</td>\n",
       "      <td>보통주</td>\n",
       "      <td>100</td>\n",
       "      <td>41,281,205</td>\n",
       "    </tr>\n",
       "    <tr>\n",
       "      <th>2</th>\n",
       "      <td>KR7009520008</td>\n",
       "      <td>009520</td>\n",
       "      <td>(주)포스코엠텍</td>\n",
       "      <td>포스코엠텍</td>\n",
       "      <td>POSCO M-TECH CO.,LTD.</td>\n",
       "      <td>1997/11/10</td>\n",
       "      <td>KOSDAQ</td>\n",
       "      <td>주권</td>\n",
       "      <td>우량기업부</td>\n",
       "      <td>보통주</td>\n",
       "      <td>500</td>\n",
       "      <td>41,642,703</td>\n",
       "    </tr>\n",
       "  </tbody>\n",
       "</table>\n",
       "</div>"
      ],
      "text/plain": [
       "         ISU_CD ISU_SRT_CD        ISU_NM ISU_ABBRV  \\\n",
       "0  KR7098120009     098120  (주)마이크로컨텍솔루션   마이크로컨텍솔   \n",
       "1  KR7131100000     131100     (주)스카이이앤엠    스카이이앤엠   \n",
       "2  KR7009520008     009520      (주)포스코엠텍     포스코엠텍   \n",
       "\n",
       "                        ISU_ENG_NM     LIST_DD MKT_TP_NM SECUGRP_NM  \\\n",
       "0  Micro Contact Solution Co.,Ltd.  2008/09/23    KOSDAQ         주권   \n",
       "1                SKY E&M Co., Ltd.  2011/06/14    KOSDAQ         주권   \n",
       "2            POSCO M-TECH CO.,LTD.  1997/11/10    KOSDAQ         주권   \n",
       "\n",
       "        SECT_TP_NM KIND_STKCERT_TP_NM PARVAL   LIST_SHRS  \n",
       "0            벤처기업부                보통주    500   8,312,766  \n",
       "1  투자주의환기종목(소속부없음)                보통주    100  41,281,205  \n",
       "2            우량기업부                보통주    500  41,642,703  "
      ]
     },
     "execution_count": 280,
     "metadata": {},
     "output_type": "execute_result"
    }
   ],
   "source": [
    "krx.head(3)"
   ]
  },
  {
   "cell_type": "code",
   "execution_count": 281,
   "id": "322234d4-6752-4bbf-bd9c-f6e94b202b38",
   "metadata": {},
   "outputs": [],
   "source": [
    "total = []\n",
    "for idx, contents in krx[krx.MKT_TP_NM == 'KOSPI'].loc[:, ['ISU_SRT_CD', 'ISU_ABBRV']].iloc[:100, :].iterrows():\n",
    "    code_, name_ = contents\n",
    "    total.append(get_stock(code_, name_, 21, 30))"
   ]
  },
  {
   "cell_type": "code",
   "execution_count": 282,
   "id": "afada867-8a70-4649-a99a-4faa0cd20266",
   "metadata": {},
   "outputs": [],
   "source": [
    "total = pd.concat(total)"
   ]
  },
  {
   "cell_type": "code",
   "execution_count": 283,
   "id": "318ca404-624c-4452-ae6a-8e8c846f6346",
   "metadata": {},
   "outputs": [
    {
     "data": {
      "text/plain": [
       "100"
      ]
     },
     "execution_count": 283,
     "metadata": {},
     "output_type": "execute_result"
    }
   ],
   "source": [
    "total.종목명.unique().size"
   ]
  },
  {
   "cell_type": "code",
   "execution_count": 284,
   "id": "3fabf3f9-d7f1-49ea-a01f-015eaf991872",
   "metadata": {},
   "outputs": [
    {
     "data": {
      "text/html": [
       "<div>\n",
       "<style scoped>\n",
       "    .dataframe tbody tr th:only-of-type {\n",
       "        vertical-align: middle;\n",
       "    }\n",
       "\n",
       "    .dataframe tbody tr th {\n",
       "        vertical-align: top;\n",
       "    }\n",
       "\n",
       "    .dataframe thead th {\n",
       "        text-align: right;\n",
       "    }\n",
       "</style>\n",
       "<table border=\"1\" class=\"dataframe\">\n",
       "  <thead>\n",
       "    <tr style=\"text-align: right;\">\n",
       "      <th></th>\n",
       "      <th>날짜</th>\n",
       "      <th>종가</th>\n",
       "      <th>전일비</th>\n",
       "      <th>시가</th>\n",
       "      <th>고가</th>\n",
       "      <th>저가</th>\n",
       "      <th>거래량</th>\n",
       "      <th>종목코드</th>\n",
       "      <th>종목명</th>\n",
       "      <th>MA30</th>\n",
       "    </tr>\n",
       "  </thead>\n",
       "  <tbody>\n",
       "    <tr>\n",
       "      <th>0</th>\n",
       "      <td>2021.01.06</td>\n",
       "      <td>4710.0</td>\n",
       "      <td>225.0</td>\n",
       "      <td>4945.0</td>\n",
       "      <td>4945.0</td>\n",
       "      <td>4700.0</td>\n",
       "      <td>660674.0</td>\n",
       "      <td>095570</td>\n",
       "      <td>AJ네트웍스</td>\n",
       "      <td>4583.500000</td>\n",
       "    </tr>\n",
       "    <tr>\n",
       "      <th>1</th>\n",
       "      <td>2021.01.07</td>\n",
       "      <td>4695.0</td>\n",
       "      <td>15.0</td>\n",
       "      <td>4710.0</td>\n",
       "      <td>4755.0</td>\n",
       "      <td>4615.0</td>\n",
       "      <td>202736.0</td>\n",
       "      <td>095570</td>\n",
       "      <td>AJ네트웍스</td>\n",
       "      <td>4585.000000</td>\n",
       "    </tr>\n",
       "    <tr>\n",
       "      <th>2</th>\n",
       "      <td>2021.01.08</td>\n",
       "      <td>4540.0</td>\n",
       "      <td>155.0</td>\n",
       "      <td>4650.0</td>\n",
       "      <td>4665.0</td>\n",
       "      <td>4520.0</td>\n",
       "      <td>390267.0</td>\n",
       "      <td>095570</td>\n",
       "      <td>AJ네트웍스</td>\n",
       "      <td>4581.666667</td>\n",
       "    </tr>\n",
       "    <tr>\n",
       "      <th>3</th>\n",
       "      <td>2021.01.11</td>\n",
       "      <td>4360.0</td>\n",
       "      <td>180.0</td>\n",
       "      <td>4535.0</td>\n",
       "      <td>4540.0</td>\n",
       "      <td>4270.0</td>\n",
       "      <td>441563.0</td>\n",
       "      <td>095570</td>\n",
       "      <td>AJ네트웍스</td>\n",
       "      <td>4573.666667</td>\n",
       "    </tr>\n",
       "    <tr>\n",
       "      <th>4</th>\n",
       "      <td>2021.01.12</td>\n",
       "      <td>4385.0</td>\n",
       "      <td>25.0</td>\n",
       "      <td>4310.0</td>\n",
       "      <td>4450.0</td>\n",
       "      <td>4270.0</td>\n",
       "      <td>183639.0</td>\n",
       "      <td>095570</td>\n",
       "      <td>AJ네트웍스</td>\n",
       "      <td>4567.666667</td>\n",
       "    </tr>\n",
       "    <tr>\n",
       "      <th>...</th>\n",
       "      <td>...</td>\n",
       "      <td>...</td>\n",
       "      <td>...</td>\n",
       "      <td>...</td>\n",
       "      <td>...</td>\n",
       "      <td>...</td>\n",
       "      <td>...</td>\n",
       "      <td>...</td>\n",
       "      <td>...</td>\n",
       "      <td>...</td>\n",
       "    </tr>\n",
       "    <tr>\n",
       "      <th>166</th>\n",
       "      <td>2021.09.03</td>\n",
       "      <td>4285.0</td>\n",
       "      <td>15.0</td>\n",
       "      <td>4315.0</td>\n",
       "      <td>4325.0</td>\n",
       "      <td>4285.0</td>\n",
       "      <td>7473.0</td>\n",
       "      <td>001515</td>\n",
       "      <td>SK증권우</td>\n",
       "      <td>4428.833333</td>\n",
       "    </tr>\n",
       "    <tr>\n",
       "      <th>167</th>\n",
       "      <td>2021.09.06</td>\n",
       "      <td>4280.0</td>\n",
       "      <td>5.0</td>\n",
       "      <td>4270.0</td>\n",
       "      <td>4280.0</td>\n",
       "      <td>4265.0</td>\n",
       "      <td>6244.0</td>\n",
       "      <td>001515</td>\n",
       "      <td>SK증권우</td>\n",
       "      <td>4417.500000</td>\n",
       "    </tr>\n",
       "    <tr>\n",
       "      <th>168</th>\n",
       "      <td>2021.09.07</td>\n",
       "      <td>4280.0</td>\n",
       "      <td>0.0</td>\n",
       "      <td>4295.0</td>\n",
       "      <td>4295.0</td>\n",
       "      <td>4255.0</td>\n",
       "      <td>7732.0</td>\n",
       "      <td>001515</td>\n",
       "      <td>SK증권우</td>\n",
       "      <td>4406.333333</td>\n",
       "    </tr>\n",
       "    <tr>\n",
       "      <th>169</th>\n",
       "      <td>2021.09.08</td>\n",
       "      <td>4265.0</td>\n",
       "      <td>15.0</td>\n",
       "      <td>4295.0</td>\n",
       "      <td>4295.0</td>\n",
       "      <td>4260.0</td>\n",
       "      <td>6474.0</td>\n",
       "      <td>001515</td>\n",
       "      <td>SK증권우</td>\n",
       "      <td>4394.500000</td>\n",
       "    </tr>\n",
       "    <tr>\n",
       "      <th>170</th>\n",
       "      <td>2021.09.09</td>\n",
       "      <td>4235.0</td>\n",
       "      <td>30.0</td>\n",
       "      <td>4265.0</td>\n",
       "      <td>4265.0</td>\n",
       "      <td>4235.0</td>\n",
       "      <td>8311.0</td>\n",
       "      <td>001515</td>\n",
       "      <td>SK증권우</td>\n",
       "      <td>4382.666667</td>\n",
       "    </tr>\n",
       "  </tbody>\n",
       "</table>\n",
       "<p>17013 rows × 10 columns</p>\n",
       "</div>"
      ],
      "text/plain": [
       "             날짜      종가    전일비      시가      고가      저가       거래량    종목코드  \\\n",
       "0    2021.01.06  4710.0  225.0  4945.0  4945.0  4700.0  660674.0  095570   \n",
       "1    2021.01.07  4695.0   15.0  4710.0  4755.0  4615.0  202736.0  095570   \n",
       "2    2021.01.08  4540.0  155.0  4650.0  4665.0  4520.0  390267.0  095570   \n",
       "3    2021.01.11  4360.0  180.0  4535.0  4540.0  4270.0  441563.0  095570   \n",
       "4    2021.01.12  4385.0   25.0  4310.0  4450.0  4270.0  183639.0  095570   \n",
       "..          ...     ...    ...     ...     ...     ...       ...     ...   \n",
       "166  2021.09.03  4285.0   15.0  4315.0  4325.0  4285.0    7473.0  001515   \n",
       "167  2021.09.06  4280.0    5.0  4270.0  4280.0  4265.0    6244.0  001515   \n",
       "168  2021.09.07  4280.0    0.0  4295.0  4295.0  4255.0    7732.0  001515   \n",
       "169  2021.09.08  4265.0   15.0  4295.0  4295.0  4260.0    6474.0  001515   \n",
       "170  2021.09.09  4235.0   30.0  4265.0  4265.0  4235.0    8311.0  001515   \n",
       "\n",
       "        종목명         MA30  \n",
       "0    AJ네트웍스  4583.500000  \n",
       "1    AJ네트웍스  4585.000000  \n",
       "2    AJ네트웍스  4581.666667  \n",
       "3    AJ네트웍스  4573.666667  \n",
       "4    AJ네트웍스  4567.666667  \n",
       "..      ...          ...  \n",
       "166   SK증권우  4428.833333  \n",
       "167   SK증권우  4417.500000  \n",
       "168   SK증권우  4406.333333  \n",
       "169   SK증권우  4394.500000  \n",
       "170   SK증권우  4382.666667  \n",
       "\n",
       "[17013 rows x 10 columns]"
      ]
     },
     "execution_count": 284,
     "metadata": {},
     "output_type": "execute_result"
    }
   ],
   "source": [
    "total"
   ]
  },
  {
   "cell_type": "code",
   "execution_count": 285,
   "id": "ea8491bf-a94f-4a2a-b98c-0c983b826c8a",
   "metadata": {},
   "outputs": [
    {
     "data": {
      "text/plain": [
       "(17013, 10)"
      ]
     },
     "execution_count": 285,
     "metadata": {},
     "output_type": "execute_result"
    }
   ],
   "source": [
    "total.shape"
   ]
  },
  {
   "cell_type": "code",
   "execution_count": 286,
   "id": "571013c4-ec2b-4eb3-957b-49d4d5d5c358",
   "metadata": {},
   "outputs": [],
   "source": [
    "total.to_csv(\"./주식데이터.csv\", index=False, encoding='euc-kr')"
   ]
  },
  {
   "cell_type": "markdown",
   "id": "17c011b8-fa75-4a7b-9d17-37c243bb1dbb",
   "metadata": {},
   "source": [
    "## 월요일 주식 데이터 추출 "
   ]
  },
  {
   "cell_type": "code",
   "execution_count": 287,
   "id": "32d3d2a2-3341-4fa9-a29d-32f0650fdee2",
   "metadata": {},
   "outputs": [],
   "source": [
    "from datetime import date, datetime, timedelta"
   ]
  },
  {
   "cell_type": "code",
   "execution_count": 288,
   "id": "52389f28-f65d-433c-acb7-43386041b5af",
   "metadata": {},
   "outputs": [
    {
     "data": {
      "text/plain": [
       "2"
      ]
     },
     "execution_count": 288,
     "metadata": {},
     "output_type": "execute_result"
    }
   ],
   "source": [
    "datetime.strptime(\"2021.01.06\", \"%Y.%m.%d\").weekday()"
   ]
  },
  {
   "cell_type": "code",
   "execution_count": 289,
   "id": "b18019b6-3e85-4e0d-876e-07033933a0da",
   "metadata": {},
   "outputs": [],
   "source": [
    "total['날짜'] = total.날짜.apply(lambda x : datetime.strptime(x, \"%Y.%m.%d\"))"
   ]
  },
  {
   "cell_type": "code",
   "execution_count": 290,
   "id": "8a6305dc-8b4f-4e7b-b009-ce9fe160138e",
   "metadata": {
    "scrolled": true,
    "tags": []
   },
   "outputs": [
    {
     "data": {
      "text/html": [
       "<div>\n",
       "<style scoped>\n",
       "    .dataframe tbody tr th:only-of-type {\n",
       "        vertical-align: middle;\n",
       "    }\n",
       "\n",
       "    .dataframe tbody tr th {\n",
       "        vertical-align: top;\n",
       "    }\n",
       "\n",
       "    .dataframe thead th {\n",
       "        text-align: right;\n",
       "    }\n",
       "</style>\n",
       "<table border=\"1\" class=\"dataframe\">\n",
       "  <thead>\n",
       "    <tr style=\"text-align: right;\">\n",
       "      <th></th>\n",
       "      <th>날짜</th>\n",
       "      <th>종가</th>\n",
       "      <th>전일비</th>\n",
       "      <th>시가</th>\n",
       "      <th>고가</th>\n",
       "      <th>저가</th>\n",
       "      <th>거래량</th>\n",
       "      <th>종목코드</th>\n",
       "      <th>종목명</th>\n",
       "      <th>MA30</th>\n",
       "    </tr>\n",
       "  </thead>\n",
       "  <tbody>\n",
       "    <tr>\n",
       "      <th>3</th>\n",
       "      <td>2021-01-11</td>\n",
       "      <td>4360.0</td>\n",
       "      <td>180.0</td>\n",
       "      <td>4535.0</td>\n",
       "      <td>4540.0</td>\n",
       "      <td>4270.0</td>\n",
       "      <td>441563.0</td>\n",
       "      <td>095570</td>\n",
       "      <td>AJ네트웍스</td>\n",
       "      <td>4573.666667</td>\n",
       "    </tr>\n",
       "    <tr>\n",
       "      <th>8</th>\n",
       "      <td>2021-01-18</td>\n",
       "      <td>4485.0</td>\n",
       "      <td>25.0</td>\n",
       "      <td>4525.0</td>\n",
       "      <td>4560.0</td>\n",
       "      <td>4430.0</td>\n",
       "      <td>77316.0</td>\n",
       "      <td>095570</td>\n",
       "      <td>AJ네트웍스</td>\n",
       "      <td>4572.000000</td>\n",
       "    </tr>\n",
       "    <tr>\n",
       "      <th>13</th>\n",
       "      <td>2021-01-25</td>\n",
       "      <td>4195.0</td>\n",
       "      <td>15.0</td>\n",
       "      <td>4210.0</td>\n",
       "      <td>4235.0</td>\n",
       "      <td>4165.0</td>\n",
       "      <td>180458.0</td>\n",
       "      <td>095570</td>\n",
       "      <td>AJ네트웍스</td>\n",
       "      <td>4542.666667</td>\n",
       "    </tr>\n",
       "    <tr>\n",
       "      <th>18</th>\n",
       "      <td>2021-02-01</td>\n",
       "      <td>4040.0</td>\n",
       "      <td>30.0</td>\n",
       "      <td>3975.0</td>\n",
       "      <td>4050.0</td>\n",
       "      <td>3950.0</td>\n",
       "      <td>113449.0</td>\n",
       "      <td>095570</td>\n",
       "      <td>AJ네트웍스</td>\n",
       "      <td>4456.500000</td>\n",
       "    </tr>\n",
       "    <tr>\n",
       "      <th>23</th>\n",
       "      <td>2021-02-08</td>\n",
       "      <td>3995.0</td>\n",
       "      <td>65.0</td>\n",
       "      <td>4070.0</td>\n",
       "      <td>4070.0</td>\n",
       "      <td>3975.0</td>\n",
       "      <td>80600.0</td>\n",
       "      <td>095570</td>\n",
       "      <td>AJ네트웍스</td>\n",
       "      <td>4370.833333</td>\n",
       "    </tr>\n",
       "    <tr>\n",
       "      <th>...</th>\n",
       "      <td>...</td>\n",
       "      <td>...</td>\n",
       "      <td>...</td>\n",
       "      <td>...</td>\n",
       "      <td>...</td>\n",
       "      <td>...</td>\n",
       "      <td>...</td>\n",
       "      <td>...</td>\n",
       "      <td>...</td>\n",
       "      <td>...</td>\n",
       "    </tr>\n",
       "    <tr>\n",
       "      <th>143</th>\n",
       "      <td>2021-08-02</td>\n",
       "      <td>4500.0</td>\n",
       "      <td>45.0</td>\n",
       "      <td>4540.0</td>\n",
       "      <td>4540.0</td>\n",
       "      <td>4500.0</td>\n",
       "      <td>12564.0</td>\n",
       "      <td>001515</td>\n",
       "      <td>SK증권우</td>\n",
       "      <td>4733.666667</td>\n",
       "    </tr>\n",
       "    <tr>\n",
       "      <th>148</th>\n",
       "      <td>2021-08-09</td>\n",
       "      <td>4520.0</td>\n",
       "      <td>55.0</td>\n",
       "      <td>4570.0</td>\n",
       "      <td>4570.0</td>\n",
       "      <td>4520.0</td>\n",
       "      <td>9742.0</td>\n",
       "      <td>001515</td>\n",
       "      <td>SK증권우</td>\n",
       "      <td>4664.666667</td>\n",
       "    </tr>\n",
       "    <tr>\n",
       "      <th>157</th>\n",
       "      <td>2021-08-23</td>\n",
       "      <td>4290.0</td>\n",
       "      <td>105.0</td>\n",
       "      <td>4420.0</td>\n",
       "      <td>4420.0</td>\n",
       "      <td>4210.0</td>\n",
       "      <td>26861.0</td>\n",
       "      <td>001515</td>\n",
       "      <td>SK증권우</td>\n",
       "      <td>4540.166667</td>\n",
       "    </tr>\n",
       "    <tr>\n",
       "      <th>162</th>\n",
       "      <td>2021-08-30</td>\n",
       "      <td>4275.0</td>\n",
       "      <td>25.0</td>\n",
       "      <td>4270.0</td>\n",
       "      <td>4275.0</td>\n",
       "      <td>4250.0</td>\n",
       "      <td>6959.0</td>\n",
       "      <td>001515</td>\n",
       "      <td>SK증권우</td>\n",
       "      <td>4465.833333</td>\n",
       "    </tr>\n",
       "    <tr>\n",
       "      <th>167</th>\n",
       "      <td>2021-09-06</td>\n",
       "      <td>4280.0</td>\n",
       "      <td>5.0</td>\n",
       "      <td>4270.0</td>\n",
       "      <td>4280.0</td>\n",
       "      <td>4265.0</td>\n",
       "      <td>6244.0</td>\n",
       "      <td>001515</td>\n",
       "      <td>SK증권우</td>\n",
       "      <td>4417.500000</td>\n",
       "    </tr>\n",
       "  </tbody>\n",
       "</table>\n",
       "<p>3285 rows × 10 columns</p>\n",
       "</div>"
      ],
      "text/plain": [
       "            날짜      종가    전일비      시가      고가      저가       거래량    종목코드  \\\n",
       "3   2021-01-11  4360.0  180.0  4535.0  4540.0  4270.0  441563.0  095570   \n",
       "8   2021-01-18  4485.0   25.0  4525.0  4560.0  4430.0   77316.0  095570   \n",
       "13  2021-01-25  4195.0   15.0  4210.0  4235.0  4165.0  180458.0  095570   \n",
       "18  2021-02-01  4040.0   30.0  3975.0  4050.0  3950.0  113449.0  095570   \n",
       "23  2021-02-08  3995.0   65.0  4070.0  4070.0  3975.0   80600.0  095570   \n",
       "..         ...     ...    ...     ...     ...     ...       ...     ...   \n",
       "143 2021-08-02  4500.0   45.0  4540.0  4540.0  4500.0   12564.0  001515   \n",
       "148 2021-08-09  4520.0   55.0  4570.0  4570.0  4520.0    9742.0  001515   \n",
       "157 2021-08-23  4290.0  105.0  4420.0  4420.0  4210.0   26861.0  001515   \n",
       "162 2021-08-30  4275.0   25.0  4270.0  4275.0  4250.0    6959.0  001515   \n",
       "167 2021-09-06  4280.0    5.0  4270.0  4280.0  4265.0    6244.0  001515   \n",
       "\n",
       "        종목명         MA30  \n",
       "3    AJ네트웍스  4573.666667  \n",
       "8    AJ네트웍스  4572.000000  \n",
       "13   AJ네트웍스  4542.666667  \n",
       "18   AJ네트웍스  4456.500000  \n",
       "23   AJ네트웍스  4370.833333  \n",
       "..      ...          ...  \n",
       "143   SK증권우  4733.666667  \n",
       "148   SK증권우  4664.666667  \n",
       "157   SK증권우  4540.166667  \n",
       "162   SK증권우  4465.833333  \n",
       "167   SK증권우  4417.500000  \n",
       "\n",
       "[3285 rows x 10 columns]"
      ]
     },
     "execution_count": 290,
     "metadata": {},
     "output_type": "execute_result"
    }
   ],
   "source": [
    "total[total['날짜'].apply(lambda x : x.weekday()==0)]"
   ]
  },
  {
   "cell_type": "code",
   "execution_count": null,
   "id": "c37ecce7-811e-41c9-ae69-45a72c6df5f6",
   "metadata": {},
   "outputs": [],
   "source": []
  },
  {
   "cell_type": "code",
   "execution_count": 291,
   "id": "8800457f-4b7a-41df-807f-82a995b94294",
   "metadata": {},
   "outputs": [],
   "source": [
    "total2 = pd.read_csv(\"./주식데이터.csv\", encoding='euc-kr')"
   ]
  },
  {
   "cell_type": "code",
   "execution_count": 292,
   "id": "0525a3ac-1662-4b69-9360-8ee8c2c1b66e",
   "metadata": {},
   "outputs": [
    {
     "data": {
      "text/html": [
       "<div>\n",
       "<style scoped>\n",
       "    .dataframe tbody tr th:only-of-type {\n",
       "        vertical-align: middle;\n",
       "    }\n",
       "\n",
       "    .dataframe tbody tr th {\n",
       "        vertical-align: top;\n",
       "    }\n",
       "\n",
       "    .dataframe thead th {\n",
       "        text-align: right;\n",
       "    }\n",
       "</style>\n",
       "<table border=\"1\" class=\"dataframe\">\n",
       "  <thead>\n",
       "    <tr style=\"text-align: right;\">\n",
       "      <th></th>\n",
       "      <th>날짜</th>\n",
       "      <th>종가</th>\n",
       "      <th>전일비</th>\n",
       "      <th>시가</th>\n",
       "      <th>고가</th>\n",
       "      <th>저가</th>\n",
       "      <th>거래량</th>\n",
       "      <th>종목코드</th>\n",
       "      <th>종목명</th>\n",
       "      <th>MA30</th>\n",
       "    </tr>\n",
       "  </thead>\n",
       "  <tbody>\n",
       "    <tr>\n",
       "      <th>0</th>\n",
       "      <td>2021.01.06</td>\n",
       "      <td>4710.0</td>\n",
       "      <td>225.0</td>\n",
       "      <td>4945.0</td>\n",
       "      <td>4945.0</td>\n",
       "      <td>4700.0</td>\n",
       "      <td>660674.0</td>\n",
       "      <td>095570</td>\n",
       "      <td>AJ네트웍스</td>\n",
       "      <td>4583.5</td>\n",
       "    </tr>\n",
       "    <tr>\n",
       "      <th>1</th>\n",
       "      <td>2021.01.07</td>\n",
       "      <td>4695.0</td>\n",
       "      <td>15.0</td>\n",
       "      <td>4710.0</td>\n",
       "      <td>4755.0</td>\n",
       "      <td>4615.0</td>\n",
       "      <td>202736.0</td>\n",
       "      <td>095570</td>\n",
       "      <td>AJ네트웍스</td>\n",
       "      <td>4585.0</td>\n",
       "    </tr>\n",
       "  </tbody>\n",
       "</table>\n",
       "</div>"
      ],
      "text/plain": [
       "           날짜      종가    전일비      시가      고가      저가       거래량    종목코드  \\\n",
       "0  2021.01.06  4710.0  225.0  4945.0  4945.0  4700.0  660674.0  095570   \n",
       "1  2021.01.07  4695.0   15.0  4710.0  4755.0  4615.0  202736.0  095570   \n",
       "\n",
       "      종목명    MA30  \n",
       "0  AJ네트웍스  4583.5  \n",
       "1  AJ네트웍스  4585.0  "
      ]
     },
     "execution_count": 292,
     "metadata": {},
     "output_type": "execute_result"
    }
   ],
   "source": [
    "total2.head(2)"
   ]
  },
  {
   "cell_type": "code",
   "execution_count": 293,
   "id": "12132da0-c7b9-4fa9-914b-78e306c734f7",
   "metadata": {},
   "outputs": [],
   "source": [
    "total2.날짜 = pd.to_datetime(total2.날짜, format=\"%Y.%m.%d\")"
   ]
  },
  {
   "cell_type": "code",
   "execution_count": 295,
   "id": "30455962-ee40-42b4-9e9a-1f25e7a573ac",
   "metadata": {},
   "outputs": [
    {
     "data": {
      "text/plain": [
       "0       2021-01-06\n",
       "1       2021-01-07\n",
       "2       2021-01-08\n",
       "3       2021-01-11\n",
       "4       2021-01-12\n",
       "           ...    \n",
       "17008   2021-09-03\n",
       "17009   2021-09-06\n",
       "17010   2021-09-07\n",
       "17011   2021-09-08\n",
       "17012   2021-09-09\n",
       "Name: 날짜, Length: 17013, dtype: datetime64[ns]"
      ]
     },
     "execution_count": 295,
     "metadata": {},
     "output_type": "execute_result"
    }
   ],
   "source": [
    "total2.날짜"
   ]
  },
  {
   "cell_type": "markdown",
   "id": "1c7f4b6e-abda-4f01-b3cf-15811f9c69a9",
   "metadata": {},
   "source": [
    "## 100일안에 종목별 가장 금액( 높은 날짜 데이터 출력)"
   ]
  },
  {
   "cell_type": "code",
   "execution_count": 294,
   "id": "fab476eb-6e1b-4e15-a9ea-b23eaa192aee",
   "metadata": {},
   "outputs": [
    {
     "data": {
      "text/plain": [
       "종목명\n",
       "AJ네트웍스        171\n",
       "AK홀딩스         171\n",
       "BGF           171\n",
       "BGF리테일        171\n",
       "BNK금융지주       171\n",
       "             ... \n",
       "SK아이이테크놀로지    123\n",
       "SK우           171\n",
       "SK이노베이션       171\n",
       "SK이노베이션우      171\n",
       "SK증권우         171\n",
       "Name: 전일비, Length: 100, dtype: int64"
      ]
     },
     "execution_count": 294,
     "metadata": {},
     "output_type": "execute_result"
    }
   ],
   "source": [
    "total2.groupby('종목명')['전일비'].count()"
   ]
  },
  {
   "cell_type": "code",
   "execution_count": 297,
   "id": "2dc21f69-fe59-4025-af84-e968f8b2dd9d",
   "metadata": {},
   "outputs": [],
   "source": [
    "total100 = total2[total2.날짜 > (datetime.now() - timedelta(days=100))].copy()"
   ]
  },
  {
   "cell_type": "code",
   "execution_count": 298,
   "id": "d5b10d08-7744-4637-ba2b-938a48157826",
   "metadata": {},
   "outputs": [
    {
     "data": {
      "text/html": [
       "<div>\n",
       "<style scoped>\n",
       "    .dataframe tbody tr th:only-of-type {\n",
       "        vertical-align: middle;\n",
       "    }\n",
       "\n",
       "    .dataframe tbody tr th {\n",
       "        vertical-align: top;\n",
       "    }\n",
       "\n",
       "    .dataframe thead th {\n",
       "        text-align: right;\n",
       "    }\n",
       "</style>\n",
       "<table border=\"1\" class=\"dataframe\">\n",
       "  <thead>\n",
       "    <tr style=\"text-align: right;\">\n",
       "      <th></th>\n",
       "      <th>날짜</th>\n",
       "      <th>종가</th>\n",
       "      <th>전일비</th>\n",
       "      <th>시가</th>\n",
       "      <th>고가</th>\n",
       "      <th>저가</th>\n",
       "      <th>거래량</th>\n",
       "      <th>종목코드</th>\n",
       "      <th>종목명</th>\n",
       "      <th>MA30</th>\n",
       "    </tr>\n",
       "  </thead>\n",
       "  <tbody>\n",
       "    <tr>\n",
       "      <th>100</th>\n",
       "      <td>2021-06-02</td>\n",
       "      <td>5800.0</td>\n",
       "      <td>20.0</td>\n",
       "      <td>5840.0</td>\n",
       "      <td>5840.0</td>\n",
       "      <td>5750.0</td>\n",
       "      <td>39320.0</td>\n",
       "      <td>095570</td>\n",
       "      <td>AJ네트웍스</td>\n",
       "      <td>5712.000000</td>\n",
       "    </tr>\n",
       "    <tr>\n",
       "      <th>101</th>\n",
       "      <td>2021-06-03</td>\n",
       "      <td>5720.0</td>\n",
       "      <td>80.0</td>\n",
       "      <td>5800.0</td>\n",
       "      <td>5800.0</td>\n",
       "      <td>5650.0</td>\n",
       "      <td>78440.0</td>\n",
       "      <td>095570</td>\n",
       "      <td>AJ네트웍스</td>\n",
       "      <td>5734.666667</td>\n",
       "    </tr>\n",
       "    <tr>\n",
       "      <th>102</th>\n",
       "      <td>2021-06-04</td>\n",
       "      <td>5570.0</td>\n",
       "      <td>150.0</td>\n",
       "      <td>5720.0</td>\n",
       "      <td>5720.0</td>\n",
       "      <td>5420.0</td>\n",
       "      <td>198246.0</td>\n",
       "      <td>095570</td>\n",
       "      <td>AJ네트웍스</td>\n",
       "      <td>5753.000000</td>\n",
       "    </tr>\n",
       "    <tr>\n",
       "      <th>103</th>\n",
       "      <td>2021-06-07</td>\n",
       "      <td>5420.0</td>\n",
       "      <td>150.0</td>\n",
       "      <td>5650.0</td>\n",
       "      <td>5660.0</td>\n",
       "      <td>5370.0</td>\n",
       "      <td>167712.0</td>\n",
       "      <td>095570</td>\n",
       "      <td>AJ네트웍스</td>\n",
       "      <td>5763.666667</td>\n",
       "    </tr>\n",
       "    <tr>\n",
       "      <th>104</th>\n",
       "      <td>2021-06-08</td>\n",
       "      <td>5480.0</td>\n",
       "      <td>60.0</td>\n",
       "      <td>5430.0</td>\n",
       "      <td>5510.0</td>\n",
       "      <td>5350.0</td>\n",
       "      <td>94656.0</td>\n",
       "      <td>095570</td>\n",
       "      <td>AJ네트웍스</td>\n",
       "      <td>5777.000000</td>\n",
       "    </tr>\n",
       "    <tr>\n",
       "      <th>...</th>\n",
       "      <td>...</td>\n",
       "      <td>...</td>\n",
       "      <td>...</td>\n",
       "      <td>...</td>\n",
       "      <td>...</td>\n",
       "      <td>...</td>\n",
       "      <td>...</td>\n",
       "      <td>...</td>\n",
       "      <td>...</td>\n",
       "      <td>...</td>\n",
       "    </tr>\n",
       "    <tr>\n",
       "      <th>17008</th>\n",
       "      <td>2021-09-03</td>\n",
       "      <td>4285.0</td>\n",
       "      <td>15.0</td>\n",
       "      <td>4315.0</td>\n",
       "      <td>4325.0</td>\n",
       "      <td>4285.0</td>\n",
       "      <td>7473.0</td>\n",
       "      <td>001515</td>\n",
       "      <td>SK증권우</td>\n",
       "      <td>4428.833333</td>\n",
       "    </tr>\n",
       "    <tr>\n",
       "      <th>17009</th>\n",
       "      <td>2021-09-06</td>\n",
       "      <td>4280.0</td>\n",
       "      <td>5.0</td>\n",
       "      <td>4270.0</td>\n",
       "      <td>4280.0</td>\n",
       "      <td>4265.0</td>\n",
       "      <td>6244.0</td>\n",
       "      <td>001515</td>\n",
       "      <td>SK증권우</td>\n",
       "      <td>4417.500000</td>\n",
       "    </tr>\n",
       "    <tr>\n",
       "      <th>17010</th>\n",
       "      <td>2021-09-07</td>\n",
       "      <td>4280.0</td>\n",
       "      <td>0.0</td>\n",
       "      <td>4295.0</td>\n",
       "      <td>4295.0</td>\n",
       "      <td>4255.0</td>\n",
       "      <td>7732.0</td>\n",
       "      <td>001515</td>\n",
       "      <td>SK증권우</td>\n",
       "      <td>4406.333333</td>\n",
       "    </tr>\n",
       "    <tr>\n",
       "      <th>17011</th>\n",
       "      <td>2021-09-08</td>\n",
       "      <td>4265.0</td>\n",
       "      <td>15.0</td>\n",
       "      <td>4295.0</td>\n",
       "      <td>4295.0</td>\n",
       "      <td>4260.0</td>\n",
       "      <td>6474.0</td>\n",
       "      <td>001515</td>\n",
       "      <td>SK증권우</td>\n",
       "      <td>4394.500000</td>\n",
       "    </tr>\n",
       "    <tr>\n",
       "      <th>17012</th>\n",
       "      <td>2021-09-09</td>\n",
       "      <td>4235.0</td>\n",
       "      <td>30.0</td>\n",
       "      <td>4265.0</td>\n",
       "      <td>4265.0</td>\n",
       "      <td>4235.0</td>\n",
       "      <td>8311.0</td>\n",
       "      <td>001515</td>\n",
       "      <td>SK증권우</td>\n",
       "      <td>4382.666667</td>\n",
       "    </tr>\n",
       "  </tbody>\n",
       "</table>\n",
       "<p>7109 rows × 10 columns</p>\n",
       "</div>"
      ],
      "text/plain": [
       "              날짜      종가    전일비      시가      고가      저가       거래량    종목코드  \\\n",
       "100   2021-06-02  5800.0   20.0  5840.0  5840.0  5750.0   39320.0  095570   \n",
       "101   2021-06-03  5720.0   80.0  5800.0  5800.0  5650.0   78440.0  095570   \n",
       "102   2021-06-04  5570.0  150.0  5720.0  5720.0  5420.0  198246.0  095570   \n",
       "103   2021-06-07  5420.0  150.0  5650.0  5660.0  5370.0  167712.0  095570   \n",
       "104   2021-06-08  5480.0   60.0  5430.0  5510.0  5350.0   94656.0  095570   \n",
       "...          ...     ...    ...     ...     ...     ...       ...     ...   \n",
       "17008 2021-09-03  4285.0   15.0  4315.0  4325.0  4285.0    7473.0  001515   \n",
       "17009 2021-09-06  4280.0    5.0  4270.0  4280.0  4265.0    6244.0  001515   \n",
       "17010 2021-09-07  4280.0    0.0  4295.0  4295.0  4255.0    7732.0  001515   \n",
       "17011 2021-09-08  4265.0   15.0  4295.0  4295.0  4260.0    6474.0  001515   \n",
       "17012 2021-09-09  4235.0   30.0  4265.0  4265.0  4235.0    8311.0  001515   \n",
       "\n",
       "          종목명         MA30  \n",
       "100    AJ네트웍스  5712.000000  \n",
       "101    AJ네트웍스  5734.666667  \n",
       "102    AJ네트웍스  5753.000000  \n",
       "103    AJ네트웍스  5763.666667  \n",
       "104    AJ네트웍스  5777.000000  \n",
       "...       ...          ...  \n",
       "17008   SK증권우  4428.833333  \n",
       "17009   SK증권우  4417.500000  \n",
       "17010   SK증권우  4406.333333  \n",
       "17011   SK증권우  4394.500000  \n",
       "17012   SK증권우  4382.666667  \n",
       "\n",
       "[7109 rows x 10 columns]"
      ]
     },
     "execution_count": 298,
     "metadata": {},
     "output_type": "execute_result"
    }
   ],
   "source": [
    "total100"
   ]
  },
  {
   "cell_type": "code",
   "execution_count": 300,
   "id": "bdc6e8be-7e0b-4727-b031-fa579e20c507",
   "metadata": {},
   "outputs": [],
   "source": [
    "total_rt = total100.groupby(\"종목명\", as_index=False)[['고가']].max()"
   ]
  },
  {
   "cell_type": "code",
   "execution_count": 305,
   "id": "544b137c-8031-43eb-aa5c-bbb0e394b587",
   "metadata": {},
   "outputs": [
    {
     "data": {
      "text/html": [
       "<div>\n",
       "<style scoped>\n",
       "    .dataframe tbody tr th:only-of-type {\n",
       "        vertical-align: middle;\n",
       "    }\n",
       "\n",
       "    .dataframe tbody tr th {\n",
       "        vertical-align: top;\n",
       "    }\n",
       "\n",
       "    .dataframe thead th {\n",
       "        text-align: right;\n",
       "    }\n",
       "</style>\n",
       "<table border=\"1\" class=\"dataframe\">\n",
       "  <thead>\n",
       "    <tr style=\"text-align: right;\">\n",
       "      <th></th>\n",
       "      <th>종목명</th>\n",
       "      <th>고가</th>\n",
       "    </tr>\n",
       "  </thead>\n",
       "  <tbody>\n",
       "    <tr>\n",
       "      <th>0</th>\n",
       "      <td>AJ네트웍스</td>\n",
       "      <td>7320.0</td>\n",
       "    </tr>\n",
       "    <tr>\n",
       "      <th>1</th>\n",
       "      <td>AK홀딩스</td>\n",
       "      <td>38050.0</td>\n",
       "    </tr>\n",
       "    <tr>\n",
       "      <th>2</th>\n",
       "      <td>BGF</td>\n",
       "      <td>7230.0</td>\n",
       "    </tr>\n",
       "    <tr>\n",
       "      <th>3</th>\n",
       "      <td>BGF리테일</td>\n",
       "      <td>193000.0</td>\n",
       "    </tr>\n",
       "    <tr>\n",
       "      <th>4</th>\n",
       "      <td>BNK금융지주</td>\n",
       "      <td>8220.0</td>\n",
       "    </tr>\n",
       "    <tr>\n",
       "      <th>...</th>\n",
       "      <td>...</td>\n",
       "      <td>...</td>\n",
       "    </tr>\n",
       "    <tr>\n",
       "      <th>95</th>\n",
       "      <td>SK아이이테크놀로지</td>\n",
       "      <td>249000.0</td>\n",
       "    </tr>\n",
       "    <tr>\n",
       "      <th>96</th>\n",
       "      <td>SK우</td>\n",
       "      <td>280000.0</td>\n",
       "    </tr>\n",
       "    <tr>\n",
       "      <th>97</th>\n",
       "      <td>SK이노베이션</td>\n",
       "      <td>302000.0</td>\n",
       "    </tr>\n",
       "    <tr>\n",
       "      <th>98</th>\n",
       "      <td>SK이노베이션우</td>\n",
       "      <td>195500.0</td>\n",
       "    </tr>\n",
       "    <tr>\n",
       "      <th>99</th>\n",
       "      <td>SK증권우</td>\n",
       "      <td>5400.0</td>\n",
       "    </tr>\n",
       "  </tbody>\n",
       "</table>\n",
       "<p>100 rows × 2 columns</p>\n",
       "</div>"
      ],
      "text/plain": [
       "           종목명        고가\n",
       "0       AJ네트웍스    7320.0\n",
       "1        AK홀딩스   38050.0\n",
       "2          BGF    7230.0\n",
       "3       BGF리테일  193000.0\n",
       "4      BNK금융지주    8220.0\n",
       "..         ...       ...\n",
       "95  SK아이이테크놀로지  249000.0\n",
       "96         SK우  280000.0\n",
       "97     SK이노베이션  302000.0\n",
       "98    SK이노베이션우  195500.0\n",
       "99       SK증권우    5400.0\n",
       "\n",
       "[100 rows x 2 columns]"
      ]
     },
     "execution_count": 305,
     "metadata": {},
     "output_type": "execute_result"
    }
   ],
   "source": [
    "total_rt"
   ]
  },
  {
   "cell_type": "code",
   "execution_count": 301,
   "id": "cb19a38a-172e-4ffb-b9d9-3cc7067f2fba",
   "metadata": {},
   "outputs": [
    {
     "data": {
      "text/html": [
       "<div>\n",
       "<style scoped>\n",
       "    .dataframe tbody tr th:only-of-type {\n",
       "        vertical-align: middle;\n",
       "    }\n",
       "\n",
       "    .dataframe tbody tr th {\n",
       "        vertical-align: top;\n",
       "    }\n",
       "\n",
       "    .dataframe thead th {\n",
       "        text-align: right;\n",
       "    }\n",
       "</style>\n",
       "<table border=\"1\" class=\"dataframe\">\n",
       "  <thead>\n",
       "    <tr style=\"text-align: right;\">\n",
       "      <th></th>\n",
       "      <th>종목명</th>\n",
       "      <th>고가</th>\n",
       "    </tr>\n",
       "  </thead>\n",
       "  <tbody>\n",
       "    <tr>\n",
       "      <th>97</th>\n",
       "      <td>SK이노베이션</td>\n",
       "      <td>302000.0</td>\n",
       "    </tr>\n",
       "  </tbody>\n",
       "</table>\n",
       "</div>"
      ],
      "text/plain": [
       "        종목명        고가\n",
       "97  SK이노베이션  302000.0"
      ]
     },
     "execution_count": 301,
     "metadata": {},
     "output_type": "execute_result"
    }
   ],
   "source": [
    "total_rt[total_rt.종목명 == \"SK이노베이션\"]"
   ]
  },
  {
   "cell_type": "code",
   "execution_count": 302,
   "id": "52793916-f102-4b29-ac95-30b16da21d35",
   "metadata": {},
   "outputs": [
    {
     "data": {
      "text/html": [
       "<div>\n",
       "<style scoped>\n",
       "    .dataframe tbody tr th:only-of-type {\n",
       "        vertical-align: middle;\n",
       "    }\n",
       "\n",
       "    .dataframe tbody tr th {\n",
       "        vertical-align: top;\n",
       "    }\n",
       "\n",
       "    .dataframe thead th {\n",
       "        text-align: right;\n",
       "    }\n",
       "</style>\n",
       "<table border=\"1\" class=\"dataframe\">\n",
       "  <thead>\n",
       "    <tr style=\"text-align: right;\">\n",
       "      <th></th>\n",
       "      <th>종목명</th>\n",
       "      <th>고가</th>\n",
       "    </tr>\n",
       "  </thead>\n",
       "  <tbody>\n",
       "    <tr>\n",
       "      <th>0</th>\n",
       "      <td>AJ네트웍스</td>\n",
       "      <td>7320.0</td>\n",
       "    </tr>\n",
       "  </tbody>\n",
       "</table>\n",
       "</div>"
      ],
      "text/plain": [
       "      종목명      고가\n",
       "0  AJ네트웍스  7320.0"
      ]
     },
     "execution_count": 302,
     "metadata": {},
     "output_type": "execute_result"
    }
   ],
   "source": [
    "total_rt.head(1)"
   ]
  },
  {
   "cell_type": "code",
   "execution_count": 303,
   "id": "b559a8a8-16b3-41f7-9ffe-f430ea713f33",
   "metadata": {},
   "outputs": [
    {
     "data": {
      "text/html": [
       "<div>\n",
       "<style scoped>\n",
       "    .dataframe tbody tr th:only-of-type {\n",
       "        vertical-align: middle;\n",
       "    }\n",
       "\n",
       "    .dataframe tbody tr th {\n",
       "        vertical-align: top;\n",
       "    }\n",
       "\n",
       "    .dataframe thead th {\n",
       "        text-align: right;\n",
       "    }\n",
       "</style>\n",
       "<table border=\"1\" class=\"dataframe\">\n",
       "  <thead>\n",
       "    <tr style=\"text-align: right;\">\n",
       "      <th></th>\n",
       "      <th>날짜</th>\n",
       "      <th>종가</th>\n",
       "      <th>전일비</th>\n",
       "      <th>시가</th>\n",
       "      <th>고가</th>\n",
       "      <th>저가</th>\n",
       "      <th>거래량</th>\n",
       "      <th>종목코드</th>\n",
       "      <th>종목명</th>\n",
       "      <th>MA30</th>\n",
       "    </tr>\n",
       "  </thead>\n",
       "  <tbody>\n",
       "    <tr>\n",
       "      <th>100</th>\n",
       "      <td>2021-06-02</td>\n",
       "      <td>5800.0</td>\n",
       "      <td>20.0</td>\n",
       "      <td>5840.0</td>\n",
       "      <td>5840.0</td>\n",
       "      <td>5750.0</td>\n",
       "      <td>39320.0</td>\n",
       "      <td>095570</td>\n",
       "      <td>AJ네트웍스</td>\n",
       "      <td>5712.0</td>\n",
       "    </tr>\n",
       "  </tbody>\n",
       "</table>\n",
       "</div>"
      ],
      "text/plain": [
       "            날짜      종가   전일비      시가      고가      저가      거래량    종목코드     종목명  \\\n",
       "100 2021-06-02  5800.0  20.0  5840.0  5840.0  5750.0  39320.0  095570  AJ네트웍스   \n",
       "\n",
       "       MA30  \n",
       "100  5712.0  "
      ]
     },
     "execution_count": 303,
     "metadata": {},
     "output_type": "execute_result"
    }
   ],
   "source": [
    "total100.head(1)"
   ]
  },
  {
   "cell_type": "code",
   "execution_count": 306,
   "id": "9dcca830-a693-486b-a8d7-e532af77f83a",
   "metadata": {},
   "outputs": [],
   "source": [
    "rt2 = pd.merge(total_rt, total100, left_on=['종목명', '고가'], right_on=['종목명', '고가'], how='left').loc[:, ['종목명', '고가', '날짜']]"
   ]
  },
  {
   "cell_type": "code",
   "execution_count": 307,
   "id": "b233b291-e5b1-461e-a6d5-872bc8dc915c",
   "metadata": {},
   "outputs": [
    {
     "data": {
      "text/html": [
       "<div>\n",
       "<style scoped>\n",
       "    .dataframe tbody tr th:only-of-type {\n",
       "        vertical-align: middle;\n",
       "    }\n",
       "\n",
       "    .dataframe tbody tr th {\n",
       "        vertical-align: top;\n",
       "    }\n",
       "\n",
       "    .dataframe thead th {\n",
       "        text-align: right;\n",
       "    }\n",
       "</style>\n",
       "<table border=\"1\" class=\"dataframe\">\n",
       "  <thead>\n",
       "    <tr style=\"text-align: right;\">\n",
       "      <th></th>\n",
       "      <th>종목명</th>\n",
       "      <th>고가</th>\n",
       "      <th>날짜</th>\n",
       "    </tr>\n",
       "  </thead>\n",
       "  <tbody>\n",
       "    <tr>\n",
       "      <th>6</th>\n",
       "      <td>BYC</td>\n",
       "      <td>457500.0</td>\n",
       "      <td>2021-09-07</td>\n",
       "    </tr>\n",
       "    <tr>\n",
       "      <th>8</th>\n",
       "      <td>BYC우</td>\n",
       "      <td>194500.0</td>\n",
       "      <td>2021-06-07</td>\n",
       "    </tr>\n",
       "    <tr>\n",
       "      <th>23</th>\n",
       "      <td>DL</td>\n",
       "      <td>85100.0</td>\n",
       "      <td>2021-06-03</td>\n",
       "    </tr>\n",
       "    <tr>\n",
       "      <th>36</th>\n",
       "      <td>GS건설</td>\n",
       "      <td>46050.0</td>\n",
       "      <td>2021-09-07</td>\n",
       "    </tr>\n",
       "    <tr>\n",
       "      <th>45</th>\n",
       "      <td>JW중외제약2우B</td>\n",
       "      <td>80000.0</td>\n",
       "      <td>2021-06-28</td>\n",
       "    </tr>\n",
       "    <tr>\n",
       "      <th>99</th>\n",
       "      <td>SK네트웍스우</td>\n",
       "      <td>127500.0</td>\n",
       "      <td>2021-06-03</td>\n",
       "    </tr>\n",
       "  </tbody>\n",
       "</table>\n",
       "</div>"
      ],
      "text/plain": [
       "          종목명        고가         날짜\n",
       "6         BYC  457500.0 2021-09-07\n",
       "8        BYC우  194500.0 2021-06-07\n",
       "23         DL   85100.0 2021-06-03\n",
       "36       GS건설   46050.0 2021-09-07\n",
       "45  JW중외제약2우B   80000.0 2021-06-28\n",
       "99    SK네트웍스우  127500.0 2021-06-03"
      ]
     },
     "execution_count": 307,
     "metadata": {},
     "output_type": "execute_result"
    }
   ],
   "source": [
    "rt2[rt2.종목명.duplicated()]"
   ]
  },
  {
   "cell_type": "code",
   "execution_count": 308,
   "id": "369a2743-8a7f-4692-b3b9-9ba7aaf4cd05",
   "metadata": {},
   "outputs": [
    {
     "data": {
      "text/html": [
       "<div>\n",
       "<style scoped>\n",
       "    .dataframe tbody tr th:only-of-type {\n",
       "        vertical-align: middle;\n",
       "    }\n",
       "\n",
       "    .dataframe tbody tr th {\n",
       "        vertical-align: top;\n",
       "    }\n",
       "\n",
       "    .dataframe thead th {\n",
       "        text-align: right;\n",
       "    }\n",
       "</style>\n",
       "<table border=\"1\" class=\"dataframe\">\n",
       "  <thead>\n",
       "    <tr style=\"text-align: right;\">\n",
       "      <th></th>\n",
       "      <th>종목명</th>\n",
       "      <th>고가</th>\n",
       "      <th>날짜</th>\n",
       "    </tr>\n",
       "  </thead>\n",
       "  <tbody>\n",
       "    <tr>\n",
       "      <th>35</th>\n",
       "      <td>GS건설</td>\n",
       "      <td>46050.0</td>\n",
       "      <td>2021-06-02</td>\n",
       "    </tr>\n",
       "    <tr>\n",
       "      <th>36</th>\n",
       "      <td>GS건설</td>\n",
       "      <td>46050.0</td>\n",
       "      <td>2021-09-07</td>\n",
       "    </tr>\n",
       "  </tbody>\n",
       "</table>\n",
       "</div>"
      ],
      "text/plain": [
       "     종목명       고가         날짜\n",
       "35  GS건설  46050.0 2021-06-02\n",
       "36  GS건설  46050.0 2021-09-07"
      ]
     },
     "execution_count": 308,
     "metadata": {},
     "output_type": "execute_result"
    }
   ],
   "source": [
    "rt2.query(\" 종목명 == 'GS건설'\")"
   ]
  },
  {
   "cell_type": "code",
   "execution_count": 309,
   "id": "c5cc2101-8b1c-429b-85c6-321ce960c653",
   "metadata": {},
   "outputs": [],
   "source": [
    "total100 = total2[total2.날짜 > (datetime.now() - timedelta(days=100))].copy()\n",
    "total_rt2 = total100.groupby(\"종목명\", as_index=False)[['저가']].min()\n",
    "rt2_저가 = pd.merge(total_rt2, total100, left_on=['종목명', '저가'], right_on=['종목명', '저가'], how='left').loc[:, ['종목명', '저가', '날짜']]"
   ]
  },
  {
   "cell_type": "code",
   "execution_count": 310,
   "id": "5fa2895d-d7d4-4ffe-9855-5f1826213a42",
   "metadata": {},
   "outputs": [
    {
     "data": {
      "text/html": [
       "<div>\n",
       "<style scoped>\n",
       "    .dataframe tbody tr th:only-of-type {\n",
       "        vertical-align: middle;\n",
       "    }\n",
       "\n",
       "    .dataframe tbody tr th {\n",
       "        vertical-align: top;\n",
       "    }\n",
       "\n",
       "    .dataframe thead th {\n",
       "        text-align: right;\n",
       "    }\n",
       "</style>\n",
       "<table border=\"1\" class=\"dataframe\">\n",
       "  <thead>\n",
       "    <tr style=\"text-align: right;\">\n",
       "      <th></th>\n",
       "      <th>종목명</th>\n",
       "      <th>저가</th>\n",
       "      <th>날짜</th>\n",
       "    </tr>\n",
       "  </thead>\n",
       "  <tbody>\n",
       "    <tr>\n",
       "      <th>0</th>\n",
       "      <td>AJ네트웍스</td>\n",
       "      <td>5310.0</td>\n",
       "      <td>2021-06-09</td>\n",
       "    </tr>\n",
       "    <tr>\n",
       "      <th>1</th>\n",
       "      <td>AK홀딩스</td>\n",
       "      <td>23500.0</td>\n",
       "      <td>2021-08-20</td>\n",
       "    </tr>\n",
       "  </tbody>\n",
       "</table>\n",
       "</div>"
      ],
      "text/plain": [
       "      종목명       저가         날짜\n",
       "0  AJ네트웍스   5310.0 2021-06-09\n",
       "1   AK홀딩스  23500.0 2021-08-20"
      ]
     },
     "execution_count": 310,
     "metadata": {},
     "output_type": "execute_result"
    }
   ],
   "source": [
    "rt2_저가.head(2)"
   ]
  },
  {
   "cell_type": "code",
   "execution_count": 311,
   "id": "e98c2c70-0927-4f26-992a-e20d569b52bf",
   "metadata": {},
   "outputs": [
    {
     "data": {
      "text/html": [
       "<div>\n",
       "<style scoped>\n",
       "    .dataframe tbody tr th:only-of-type {\n",
       "        vertical-align: middle;\n",
       "    }\n",
       "\n",
       "    .dataframe tbody tr th {\n",
       "        vertical-align: top;\n",
       "    }\n",
       "\n",
       "    .dataframe thead th {\n",
       "        text-align: right;\n",
       "    }\n",
       "</style>\n",
       "<table border=\"1\" class=\"dataframe\">\n",
       "  <thead>\n",
       "    <tr style=\"text-align: right;\">\n",
       "      <th></th>\n",
       "      <th>종목명</th>\n",
       "      <th>고가</th>\n",
       "      <th>날짜</th>\n",
       "    </tr>\n",
       "  </thead>\n",
       "  <tbody>\n",
       "    <tr>\n",
       "      <th>0</th>\n",
       "      <td>AJ네트웍스</td>\n",
       "      <td>7320.0</td>\n",
       "      <td>2021-07-14</td>\n",
       "    </tr>\n",
       "    <tr>\n",
       "      <th>1</th>\n",
       "      <td>AK홀딩스</td>\n",
       "      <td>38050.0</td>\n",
       "      <td>2021-06-03</td>\n",
       "    </tr>\n",
       "  </tbody>\n",
       "</table>\n",
       "</div>"
      ],
      "text/plain": [
       "      종목명       고가         날짜\n",
       "0  AJ네트웍스   7320.0 2021-07-14\n",
       "1   AK홀딩스  38050.0 2021-06-03"
      ]
     },
     "execution_count": 311,
     "metadata": {},
     "output_type": "execute_result"
    }
   ],
   "source": [
    "rt2.head(2)"
   ]
  },
  {
   "cell_type": "code",
   "execution_count": 312,
   "id": "7af2798b-89ca-4c12-83c5-2d83eb7e6fb9",
   "metadata": {},
   "outputs": [
    {
     "name": "stdout",
     "output_type": "stream",
     "text": [
      "0\n",
      "1\n",
      "2\n",
      "3\n",
      "4\n",
      "0\n",
      "1\n",
      "2\n",
      "3\n",
      "4\n",
      "0\n",
      "1\n",
      "2\n",
      "3\n",
      "4\n",
      "0\n",
      "1\n",
      "2\n",
      "3\n",
      "4\n"
     ]
    }
   ],
   "source": [
    "for x in range(20):\n",
    "    print (x % 5)"
   ]
  },
  {
   "cell_type": "code",
   "execution_count": null,
   "id": "7f7b76c4-2872-4849-81cc-4e5974612af1",
   "metadata": {},
   "outputs": [],
   "source": []
  }
 ],
 "metadata": {
  "kernelspec": {
   "display_name": "Python 3",
   "language": "python",
   "name": "python3"
  },
  "language_info": {
   "codemirror_mode": {
    "name": "ipython",
    "version": 3
   },
   "file_extension": ".py",
   "mimetype": "text/x-python",
   "name": "python",
   "nbconvert_exporter": "python",
   "pygments_lexer": "ipython3",
   "version": "3.8.8"
  }
 },
 "nbformat": 4,
 "nbformat_minor": 5
}
